{
 "cells": [
  {
   "cell_type": "markdown",
   "id": "6e627b15-dcbe-4899-8805-3a05ed22e5b6",
   "metadata": {},
   "source": [
    "# Streaming Service Dataset - Exploratory and Descriptive Analysis(EDA) and Hypothesis testing\n",
    "In this notebook, we conduct an in-depth exploratory and descriptive analysis of a streaming service dataset, which includes information on user demographics, watch habits, content preferences, download behaviors, subscription levels, and interaction history.\n",
    "\n",
    "The primary goal of this analysis is to uncover user engagement patterns, understand content consumption trends, and detect factors influencing loyalty and satisfaction. This foundational step is critical before any modeling or recommendation engine development, as it helps us identify data quality issues, understand feature distributions, and observe key relationships.\n",
    "\n",
    "Throughout the analysis, we examine how metrics like watch hours, loyalty points, download activity, and ratings vary across different age groups, countries, genres, and platform types. Visual tools are used extensively to present insights clearly and interactively.\n",
    "\n",
    "### import library\n",
    "\n",
    "**pandas**: Used for data manipulation, cleaning, and analysis in tabular form.\n",
    "\n",
    "**numpy**: Provides fast numerical computations and array operations.\n",
    "\n",
    "**os**: Manages file and directory paths for saving and loading data or outputs.\n",
    "\n",
    "**plotly.express**:Creates interactive and customizable visualizations."
   ]
  },
  {
   "cell_type": "markdown",
   "id": "e4e15f50-2343-422b-9c31-98025d3dd3bf",
   "metadata": {},
   "source": [
    "# EDA"
   ]
  },
  {
   "cell_type": "code",
   "execution_count": 3,
   "id": "b3dc1b62-5d20-4428-a3da-884eb7d280fe",
   "metadata": {},
   "outputs": [],
   "source": [
    "# import Libraries\n",
    "import pandas as pd\n",
    "import numpy as np\n",
    "import os\n",
    "import plotly.express as px\n",
    "import statsmodels.api as sm\n",
    "from scipy import stats"
   ]
  },
  {
   "cell_type": "code",
   "execution_count": null,
   "id": "202db5de-8663-4e11-9605-bfbf49e551f2",
   "metadata": {},
   "outputs": [],
   "source": []
  },
  {
   "cell_type": "markdown",
   "id": "b37e6dcf-ad83-41c9-8f4f-a86fe424659c",
   "metadata": {},
   "source": [
    "## Define and Create Directory Paths\n",
    "\n",
    "To ensure reproducibility andorganized storage, we programmatically create directories for:\n",
    "\n",
    "- **raw data**\n",
    "- **processed data**\n",
    "- **results**\n",
    "- **documentation**\n",
    "\n",
    "These directories will store intermediate and final outputs for reproducibility.\n",
    "\n"
   ]
  },
  {
   "cell_type": "code",
   "execution_count": 5,
   "id": "b938b97d-2935-4842-a9ec-edc1fdbebd7b",
   "metadata": {},
   "outputs": [],
   "source": [
    "# Get working directory\n",
    "current_dir=os.getcwd()\n",
    "\n",
    "# Go one directory up to root directory\n",
    "project_root_dir=os.path.dirname(current_dir)\n",
    "\n",
    "# Define paths to the data folders\n",
    "data_dir=os.path.join(project_root_dir,'data')\n",
    "raw_dir=os.path.join(data_dir,'raw')\n",
    "processed_dir=os.path.join(data_dir,'processed')\n",
    "\n",
    "# Define paths to results folders\n",
    "result_dir=os.path.join(project_root_dir,'results')\n",
    "\n",
    "# Define paths to Docs folder\n",
    "docs_dir=os.path.join(project_root_dir,'docs')\n",
    "\n",
    "# Create a directories if they do not exists\n",
    "\n",
    "os.makedirs(raw_dir,exist_ok=True)\n",
    "os.makedirs(processed_dir,exist_ok=True)\n",
    "os.makedirs(result_dir,exist_ok=True)\n",
    "os.makedirs(docs_dir,exist_ok=True)"
   ]
  },
  {
   "cell_type": "markdown",
   "id": "fe6a8a08-732d-4239-a873-7766bbf25eff",
   "metadata": {},
   "source": [
    "## Loading a cleaned dataset \n",
    "\n",
    "this dataset is stored in **processed folder**"
   ]
  },
  {
   "cell_type": "code",
   "execution_count": 7,
   "id": "90e694b3-0fa3-4268-bf31-4b44fadcc465",
   "metadata": {},
   "outputs": [
    {
     "data": {
      "text/html": [
       "<div>\n",
       "<style scoped>\n",
       "    .dataframe tbody tr th:only-of-type {\n",
       "        vertical-align: middle;\n",
       "    }\n",
       "\n",
       "    .dataframe tbody tr th {\n",
       "        vertical-align: top;\n",
       "    }\n",
       "\n",
       "    .dataframe thead th {\n",
       "        text-align: right;\n",
       "    }\n",
       "</style>\n",
       "<table border=\"1\" class=\"dataframe\">\n",
       "  <thead>\n",
       "    <tr style=\"text-align: right;\">\n",
       "      <th></th>\n",
       "      <th>User_ID</th>\n",
       "      <th>User_Name</th>\n",
       "      <th>Join_Date</th>\n",
       "      <th>Last_Login</th>\n",
       "      <th>Monthly_Price</th>\n",
       "      <th>Watch_Hours</th>\n",
       "      <th>Favorite_Genre</th>\n",
       "      <th>Active_Devices</th>\n",
       "      <th>Profile_Count</th>\n",
       "      <th>Parental_Controls</th>\n",
       "      <th>...</th>\n",
       "      <th>Average_Rating_Given</th>\n",
       "      <th>Has_Downloaded_Content</th>\n",
       "      <th>Membership_Status</th>\n",
       "      <th>Loyalty_Points</th>\n",
       "      <th>First_Device_Used</th>\n",
       "      <th>Age_Group</th>\n",
       "      <th>Primary_Watch_Time</th>\n",
       "      <th>Watch_Hour_Group</th>\n",
       "      <th>Loyalty_Point_Group</th>\n",
       "      <th>Age_Category</th>\n",
       "    </tr>\n",
       "  </thead>\n",
       "  <tbody>\n",
       "    <tr>\n",
       "      <th>0</th>\n",
       "      <td>2518</td>\n",
       "      <td>Amber</td>\n",
       "      <td>5/15/2023</td>\n",
       "      <td>12/13/2024</td>\n",
       "      <td>7.99</td>\n",
       "      <td>49</td>\n",
       "      <td>Action</td>\n",
       "      <td>3</td>\n",
       "      <td>6</td>\n",
       "      <td>True</td>\n",
       "      <td>...</td>\n",
       "      <td>3.3</td>\n",
       "      <td>False</td>\n",
       "      <td>Active</td>\n",
       "      <td>2878</td>\n",
       "      <td>Smartphone</td>\n",
       "      <td>35-44</td>\n",
       "      <td>Late Night</td>\n",
       "      <td>0-50</td>\n",
       "      <td>2000-2999</td>\n",
       "      <td>Mature Streamers</td>\n",
       "    </tr>\n",
       "    <tr>\n",
       "      <th>1</th>\n",
       "      <td>6430</td>\n",
       "      <td>Patrick</td>\n",
       "      <td>4/3/2023</td>\n",
       "      <td>12/15/2024</td>\n",
       "      <td>7.99</td>\n",
       "      <td>161</td>\n",
       "      <td>Drama</td>\n",
       "      <td>1</td>\n",
       "      <td>2</td>\n",
       "      <td>True</td>\n",
       "      <td>...</td>\n",
       "      <td>4.0</td>\n",
       "      <td>False</td>\n",
       "      <td>Active</td>\n",
       "      <td>2291</td>\n",
       "      <td>Desktop</td>\n",
       "      <td>25-34</td>\n",
       "      <td>Evening</td>\n",
       "      <td>101-200</td>\n",
       "      <td>2000-2999</td>\n",
       "      <td>Adult Streamers</td>\n",
       "    </tr>\n",
       "    <tr>\n",
       "      <th>2</th>\n",
       "      <td>1798</td>\n",
       "      <td>Robert</td>\n",
       "      <td>8/2/2023</td>\n",
       "      <td>12/14/2024</td>\n",
       "      <td>11.99</td>\n",
       "      <td>87</td>\n",
       "      <td>Action</td>\n",
       "      <td>2</td>\n",
       "      <td>5</td>\n",
       "      <td>False</td>\n",
       "      <td>...</td>\n",
       "      <td>3.1</td>\n",
       "      <td>False</td>\n",
       "      <td>Active</td>\n",
       "      <td>1692</td>\n",
       "      <td>Desktop</td>\n",
       "      <td>35-44</td>\n",
       "      <td>Late Night</td>\n",
       "      <td>51-100</td>\n",
       "      <td>1000-1999</td>\n",
       "      <td>Mature Streamers</td>\n",
       "    </tr>\n",
       "    <tr>\n",
       "      <th>3</th>\n",
       "      <td>5255</td>\n",
       "      <td>Cole</td>\n",
       "      <td>1/31/2023</td>\n",
       "      <td>12/2/2024</td>\n",
       "      <td>15.99</td>\n",
       "      <td>321</td>\n",
       "      <td>Sci-Fi</td>\n",
       "      <td>1</td>\n",
       "      <td>5</td>\n",
       "      <td>False</td>\n",
       "      <td>...</td>\n",
       "      <td>4.6</td>\n",
       "      <td>False</td>\n",
       "      <td>Active</td>\n",
       "      <td>952</td>\n",
       "      <td>Desktop</td>\n",
       "      <td>25-34</td>\n",
       "      <td>Evening</td>\n",
       "      <td>301-500</td>\n",
       "      <td>0-999</td>\n",
       "      <td>Adult Streamers</td>\n",
       "    </tr>\n",
       "    <tr>\n",
       "      <th>4</th>\n",
       "      <td>2854</td>\n",
       "      <td>Jamie</td>\n",
       "      <td>6/6/2023</td>\n",
       "      <td>12/15/2024</td>\n",
       "      <td>11.99</td>\n",
       "      <td>386</td>\n",
       "      <td>Documentary</td>\n",
       "      <td>1</td>\n",
       "      <td>4</td>\n",
       "      <td>True</td>\n",
       "      <td>...</td>\n",
       "      <td>3.7</td>\n",
       "      <td>False</td>\n",
       "      <td>Active</td>\n",
       "      <td>1823</td>\n",
       "      <td>Desktop</td>\n",
       "      <td>25-34</td>\n",
       "      <td>Late Night</td>\n",
       "      <td>301-500</td>\n",
       "      <td>1000-1999</td>\n",
       "      <td>Adult Streamers</td>\n",
       "    </tr>\n",
       "  </tbody>\n",
       "</table>\n",
       "<p>5 rows × 26 columns</p>\n",
       "</div>"
      ],
      "text/plain": [
       "   User_ID User_Name  Join_Date  Last_Login  Monthly_Price  Watch_Hours  \\\n",
       "0     2518     Amber  5/15/2023  12/13/2024           7.99           49   \n",
       "1     6430   Patrick   4/3/2023  12/15/2024           7.99          161   \n",
       "2     1798    Robert   8/2/2023  12/14/2024          11.99           87   \n",
       "3     5255      Cole  1/31/2023   12/2/2024          15.99          321   \n",
       "4     2854     Jamie   6/6/2023  12/15/2024          11.99          386   \n",
       "\n",
       "  Favorite_Genre  Active_Devices  Profile_Count  Parental_Controls  ...  \\\n",
       "0         Action               3              6               True  ...   \n",
       "1          Drama               1              2               True  ...   \n",
       "2         Action               2              5              False  ...   \n",
       "3         Sci-Fi               1              5              False  ...   \n",
       "4    Documentary               1              4               True  ...   \n",
       "\n",
       "   Average_Rating_Given  Has_Downloaded_Content Membership_Status  \\\n",
       "0                   3.3                   False            Active   \n",
       "1                   4.0                   False            Active   \n",
       "2                   3.1                   False            Active   \n",
       "3                   4.6                   False            Active   \n",
       "4                   3.7                   False            Active   \n",
       "\n",
       "  Loyalty_Points First_Device_Used  Age_Group  Primary_Watch_Time  \\\n",
       "0           2878        Smartphone      35-44          Late Night   \n",
       "1           2291           Desktop      25-34             Evening   \n",
       "2           1692           Desktop      35-44          Late Night   \n",
       "3            952           Desktop      25-34             Evening   \n",
       "4           1823           Desktop      25-34          Late Night   \n",
       "\n",
       "   Watch_Hour_Group Loyalty_Point_Group      Age_Category  \n",
       "0             0-50           2000-2999   Mature Streamers  \n",
       "1          101-200           2000-2999    Adult Streamers  \n",
       "2           51-100           1000-1999   Mature Streamers  \n",
       "3          301-500               0-999    Adult Streamers  \n",
       "4          301-500           1000-1999    Adult Streamers  \n",
       "\n",
       "[5 rows x 26 columns]"
      ]
     },
     "execution_count": 7,
     "metadata": {},
     "output_type": "execute_result"
    }
   ],
   "source": [
    "stream_data_filename=os.path.join(processed_dir,\"cleaned_stream_data.csv\")\n",
    "stream_df=pd.read_csv(stream_data_filename)\n",
    "stream_df.head()"
   ]
  },
  {
   "cell_type": "markdown",
   "id": "e4c73c61-caab-4d82-8efa-02bbb2b38c46",
   "metadata": {},
   "source": [
    "### Understanding a Dataset\n",
    "\n",
    "Number of rows and columns we have after making cleaning We have **1000** rows and **26** columns"
   ]
  },
  {
   "cell_type": "code",
   "execution_count": 9,
   "id": "796c1a4a-7f4a-40ae-98dd-42e058039bcf",
   "metadata": {},
   "outputs": [
    {
     "data": {
      "text/plain": [
       "(1000, 26)"
      ]
     },
     "execution_count": 9,
     "metadata": {},
     "output_type": "execute_result"
    }
   ],
   "source": [
    "stream_df.shape"
   ]
  },
  {
   "cell_type": "markdown",
   "id": "39d357c1-c897-4af8-8d06-bd20da3d12b4",
   "metadata": {},
   "source": [
    "## 📄 Dataset Columns and Data Types\n",
    "\n",
    "| Column Name               | Data Type | Description                                                                                     |\n",
    "|---------------------------|-----------|-------------------------------------------------------------------------------------------------|\n",
    "| **User_ID**               | int64     | Unique identifier for each user.                                                               |\n",
    "| **User_Name**             | object    | The name or username of the user.                                                              |\n",
    "| **Join_Date**             | object    | The date when the user created their account (stored as string/object).                         |\n",
    "| **Last_Login**            | object    | The most recent login date for the user (stored as string/object).                             |\n",
    "| **Monthly_Price**         | float64   | Monthly subscription price paid by the user.                                                  |\n",
    "| **Watch_Hours**           | int64     | Total hours the user has spent watching content.                                              |\n",
    "| **Favorite_Genre**        | object    | The genre most frequently watched by the user (e.g., Action, Comedy, Drama).                   |\n",
    "| **Active_Devices**        | int64     | Number of devices linked to the user account.                                                 |\n",
    "| **Profile_Count**         | int64     | Number of user profiles under the account.                                                    |\n",
    "| **Parental_Controls**     | bool      | Indicates if parental control settings are enabled (True or False).                            |\n",
    "| **Total_Movies_Watched**  | int64     | Total movies watched by the user.                                                             |\n",
    "| **Total_Series_Watched**  | int64     | Total series watched by the user.                                                             |\n",
    "| **Country**               | object    | User's country of residence (e.g., USA, UK, India).                                           |\n",
    "| **Payment_Method**        | object    | Payment method used by the user (e.g., Credit Card, PayPal).                                  |\n",
    "| **Language_Preference**   | object    | Preferred content/interface language (e.g., English, Spanish).                                |\n",
    "| **Recommended_Content_Count** | int64  | Number of recommended contents the user received.                                            |\n",
    "| **Average_Rating_Given**  | float64   | Average rating given by the user to the content.                                              |\n",
    "| **Has_Downloaded_Content**| bool      | Whether the user has downloaded any content (True or False).                                  |\n",
    "| **Membership_Status**     | object    | Membership status indicating active or inactive.                                              |\n",
    "| **Loyalty_Points**       | int64     | Total loyalty points accumulated by the user.                                                |\n",
    "| **First_Device_Used**    | object    | The first device used to access the platform (e.g., Smartphone, Smart TV).                    |\n",
    "| **Age_Group**            | object    | Age group category the user belongs to (e.g., Teen, Adult, Senior).                           |\n",
    "| **Primary_Watch_Time**   | object    | Time of day the user most frequently watches content (e.g., Morning, Evening).                |\n",
    "| **Watch_Hour_Group**     | object    | Group/category based on total watch hours (e.g., Low, Medium, High).                          |\n",
    "| **Loyalty_Point_Group**  | object    | Group/category based on loyalty points accumulated.                                          |\n",
    "| **Age_Category**         | object    | Categorized age data used for grouped analysis (e.g., 18–25, 26–35).                         |\n",
    "\n",
    "---\n",
    "\n",
    "**Data Types Summary:**\n",
    "\n",
    "- **bool:** 2 columns  \n",
    "- **float64:** 2 columns  \n",
    "- **int64:** 8 columns  \n",
    "- **object (string):** 14 columns  \n"
   ]
  },
  {
   "cell_type": "code",
   "execution_count": 11,
   "id": "b6b6f72a-7636-467f-a27a-94f2ba98065b",
   "metadata": {},
   "outputs": [
    {
     "name": "stdout",
     "output_type": "stream",
     "text": [
      "<class 'pandas.core.frame.DataFrame'>\n",
      "RangeIndex: 1000 entries, 0 to 999\n",
      "Data columns (total 26 columns):\n",
      " #   Column                     Non-Null Count  Dtype  \n",
      "---  ------                     --------------  -----  \n",
      " 0   User_ID                    1000 non-null   int64  \n",
      " 1   User_Name                  1000 non-null   object \n",
      " 2   Join_Date                  1000 non-null   object \n",
      " 3   Last_Login                 1000 non-null   object \n",
      " 4   Monthly_Price              1000 non-null   float64\n",
      " 5   Watch_Hours                1000 non-null   int64  \n",
      " 6   Favorite_Genre             1000 non-null   object \n",
      " 7   Active_Devices             1000 non-null   int64  \n",
      " 8   Profile_Count              1000 non-null   int64  \n",
      " 9   Parental_Controls          1000 non-null   bool   \n",
      " 10  Total_Movies_Watched       1000 non-null   int64  \n",
      " 11  Total_Series_Watched       1000 non-null   int64  \n",
      " 12  Country                    1000 non-null   object \n",
      " 13  Payment_Method             1000 non-null   object \n",
      " 14  Language_Preference        1000 non-null   object \n",
      " 15  Recommended_Content_Count  1000 non-null   int64  \n",
      " 16  Average_Rating_Given       1000 non-null   float64\n",
      " 17  Has_Downloaded_Content     1000 non-null   bool   \n",
      " 18  Membership_Status          1000 non-null   object \n",
      " 19  Loyalty_Points             1000 non-null   int64  \n",
      " 20  First_Device_Used          1000 non-null   object \n",
      " 21  Age_Group                  1000 non-null   object \n",
      " 22  Primary_Watch_Time         1000 non-null   object \n",
      " 23  Watch_Hour_Group           1000 non-null   object \n",
      " 24  Loyalty_Point_Group        1000 non-null   object \n",
      " 25  Age_Category               1000 non-null   object \n",
      "dtypes: bool(2), float64(2), int64(8), object(14)\n",
      "memory usage: 189.6+ KB\n"
     ]
    }
   ],
   "source": [
    "stream_df.info()"
   ]
  },
  {
   "cell_type": "code",
   "execution_count": 12,
   "id": "23a80a14-b2c2-4ad6-8524-e8458852651b",
   "metadata": {},
   "outputs": [
    {
     "data": {
      "text/html": [
       "<div>\n",
       "<style scoped>\n",
       "    .dataframe tbody tr th:only-of-type {\n",
       "        vertical-align: middle;\n",
       "    }\n",
       "\n",
       "    .dataframe tbody tr th {\n",
       "        vertical-align: top;\n",
       "    }\n",
       "\n",
       "    .dataframe thead th {\n",
       "        text-align: right;\n",
       "    }\n",
       "</style>\n",
       "<table border=\"1\" class=\"dataframe\">\n",
       "  <thead>\n",
       "    <tr style=\"text-align: right;\">\n",
       "      <th></th>\n",
       "      <th>Column</th>\n",
       "      <th>Data Type</th>\n",
       "      <th>Missing Values</th>\n",
       "    </tr>\n",
       "  </thead>\n",
       "  <tbody>\n",
       "    <tr>\n",
       "      <th>0</th>\n",
       "      <td>User_ID</td>\n",
       "      <td>int64</td>\n",
       "      <td>0</td>\n",
       "    </tr>\n",
       "    <tr>\n",
       "      <th>1</th>\n",
       "      <td>User_Name</td>\n",
       "      <td>object</td>\n",
       "      <td>0</td>\n",
       "    </tr>\n",
       "    <tr>\n",
       "      <th>2</th>\n",
       "      <td>Join_Date</td>\n",
       "      <td>object</td>\n",
       "      <td>0</td>\n",
       "    </tr>\n",
       "    <tr>\n",
       "      <th>3</th>\n",
       "      <td>Last_Login</td>\n",
       "      <td>object</td>\n",
       "      <td>0</td>\n",
       "    </tr>\n",
       "    <tr>\n",
       "      <th>4</th>\n",
       "      <td>Monthly_Price</td>\n",
       "      <td>float64</td>\n",
       "      <td>0</td>\n",
       "    </tr>\n",
       "    <tr>\n",
       "      <th>5</th>\n",
       "      <td>Watch_Hours</td>\n",
       "      <td>int64</td>\n",
       "      <td>0</td>\n",
       "    </tr>\n",
       "    <tr>\n",
       "      <th>6</th>\n",
       "      <td>Favorite_Genre</td>\n",
       "      <td>object</td>\n",
       "      <td>0</td>\n",
       "    </tr>\n",
       "    <tr>\n",
       "      <th>7</th>\n",
       "      <td>Active_Devices</td>\n",
       "      <td>int64</td>\n",
       "      <td>0</td>\n",
       "    </tr>\n",
       "    <tr>\n",
       "      <th>8</th>\n",
       "      <td>Profile_Count</td>\n",
       "      <td>int64</td>\n",
       "      <td>0</td>\n",
       "    </tr>\n",
       "    <tr>\n",
       "      <th>9</th>\n",
       "      <td>Parental_Controls</td>\n",
       "      <td>bool</td>\n",
       "      <td>0</td>\n",
       "    </tr>\n",
       "    <tr>\n",
       "      <th>10</th>\n",
       "      <td>Total_Movies_Watched</td>\n",
       "      <td>int64</td>\n",
       "      <td>0</td>\n",
       "    </tr>\n",
       "    <tr>\n",
       "      <th>11</th>\n",
       "      <td>Total_Series_Watched</td>\n",
       "      <td>int64</td>\n",
       "      <td>0</td>\n",
       "    </tr>\n",
       "    <tr>\n",
       "      <th>12</th>\n",
       "      <td>Country</td>\n",
       "      <td>object</td>\n",
       "      <td>0</td>\n",
       "    </tr>\n",
       "    <tr>\n",
       "      <th>13</th>\n",
       "      <td>Payment_Method</td>\n",
       "      <td>object</td>\n",
       "      <td>0</td>\n",
       "    </tr>\n",
       "    <tr>\n",
       "      <th>14</th>\n",
       "      <td>Language_Preference</td>\n",
       "      <td>object</td>\n",
       "      <td>0</td>\n",
       "    </tr>\n",
       "    <tr>\n",
       "      <th>15</th>\n",
       "      <td>Recommended_Content_Count</td>\n",
       "      <td>int64</td>\n",
       "      <td>0</td>\n",
       "    </tr>\n",
       "    <tr>\n",
       "      <th>16</th>\n",
       "      <td>Average_Rating_Given</td>\n",
       "      <td>float64</td>\n",
       "      <td>0</td>\n",
       "    </tr>\n",
       "    <tr>\n",
       "      <th>17</th>\n",
       "      <td>Has_Downloaded_Content</td>\n",
       "      <td>bool</td>\n",
       "      <td>0</td>\n",
       "    </tr>\n",
       "    <tr>\n",
       "      <th>18</th>\n",
       "      <td>Membership_Status</td>\n",
       "      <td>object</td>\n",
       "      <td>0</td>\n",
       "    </tr>\n",
       "    <tr>\n",
       "      <th>19</th>\n",
       "      <td>Loyalty_Points</td>\n",
       "      <td>int64</td>\n",
       "      <td>0</td>\n",
       "    </tr>\n",
       "    <tr>\n",
       "      <th>20</th>\n",
       "      <td>First_Device_Used</td>\n",
       "      <td>object</td>\n",
       "      <td>0</td>\n",
       "    </tr>\n",
       "    <tr>\n",
       "      <th>21</th>\n",
       "      <td>Age_Group</td>\n",
       "      <td>object</td>\n",
       "      <td>0</td>\n",
       "    </tr>\n",
       "    <tr>\n",
       "      <th>22</th>\n",
       "      <td>Primary_Watch_Time</td>\n",
       "      <td>object</td>\n",
       "      <td>0</td>\n",
       "    </tr>\n",
       "    <tr>\n",
       "      <th>23</th>\n",
       "      <td>Watch_Hour_Group</td>\n",
       "      <td>object</td>\n",
       "      <td>0</td>\n",
       "    </tr>\n",
       "    <tr>\n",
       "      <th>24</th>\n",
       "      <td>Loyalty_Point_Group</td>\n",
       "      <td>object</td>\n",
       "      <td>0</td>\n",
       "    </tr>\n",
       "    <tr>\n",
       "      <th>25</th>\n",
       "      <td>Age_Category</td>\n",
       "      <td>object</td>\n",
       "      <td>0</td>\n",
       "    </tr>\n",
       "  </tbody>\n",
       "</table>\n",
       "</div>"
      ],
      "text/plain": [
       "                       Column Data Type  Missing Values\n",
       "0                     User_ID     int64               0\n",
       "1                   User_Name    object               0\n",
       "2                   Join_Date    object               0\n",
       "3                  Last_Login    object               0\n",
       "4               Monthly_Price   float64               0\n",
       "5                 Watch_Hours     int64               0\n",
       "6              Favorite_Genre    object               0\n",
       "7              Active_Devices     int64               0\n",
       "8               Profile_Count     int64               0\n",
       "9           Parental_Controls      bool               0\n",
       "10       Total_Movies_Watched     int64               0\n",
       "11       Total_Series_Watched     int64               0\n",
       "12                    Country    object               0\n",
       "13             Payment_Method    object               0\n",
       "14        Language_Preference    object               0\n",
       "15  Recommended_Content_Count     int64               0\n",
       "16       Average_Rating_Given   float64               0\n",
       "17     Has_Downloaded_Content      bool               0\n",
       "18          Membership_Status    object               0\n",
       "19             Loyalty_Points     int64               0\n",
       "20          First_Device_Used    object               0\n",
       "21                  Age_Group    object               0\n",
       "22         Primary_Watch_Time    object               0\n",
       "23           Watch_Hour_Group    object               0\n",
       "24        Loyalty_Point_Group    object               0\n",
       "25               Age_Category    object               0"
      ]
     },
     "execution_count": 12,
     "metadata": {},
     "output_type": "execute_result"
    }
   ],
   "source": [
    "summary_df=pd.DataFrame({\n",
    "                'Column':stream_df.columns,\n",
    "                 'Data Type':stream_df.dtypes.values,\n",
    "                 'Missing Values': stream_df.isnull().sum().values\n",
    "})\n",
    "summary_df"
   ]
  },
  {
   "cell_type": "markdown",
   "id": "44c5232f-8d07-448c-a6ee-94bb055e3d70",
   "metadata": {},
   "source": [
    "## Summary Statistics\n",
    "### Numerical Varible"
   ]
  },
  {
   "cell_type": "code",
   "execution_count": 14,
   "id": "699a96ed-543d-4e22-bda9-024a19ef8698",
   "metadata": {},
   "outputs": [
    {
     "data": {
      "text/html": [
       "<div>\n",
       "<style scoped>\n",
       "    .dataframe tbody tr th:only-of-type {\n",
       "        vertical-align: middle;\n",
       "    }\n",
       "\n",
       "    .dataframe tbody tr th {\n",
       "        vertical-align: top;\n",
       "    }\n",
       "\n",
       "    .dataframe thead th {\n",
       "        text-align: right;\n",
       "    }\n",
       "</style>\n",
       "<table border=\"1\" class=\"dataframe\">\n",
       "  <thead>\n",
       "    <tr style=\"text-align: right;\">\n",
       "      <th></th>\n",
       "      <th>User_ID</th>\n",
       "      <th>Monthly_Price</th>\n",
       "      <th>Watch_Hours</th>\n",
       "      <th>Active_Devices</th>\n",
       "      <th>Profile_Count</th>\n",
       "      <th>Total_Movies_Watched</th>\n",
       "      <th>Total_Series_Watched</th>\n",
       "      <th>Recommended_Content_Count</th>\n",
       "      <th>Average_Rating_Given</th>\n",
       "      <th>Loyalty_Points</th>\n",
       "    </tr>\n",
       "  </thead>\n",
       "  <tbody>\n",
       "    <tr>\n",
       "      <th>count</th>\n",
       "      <td>1000.00000</td>\n",
       "      <td>1000.000000</td>\n",
       "      <td>1000.000000</td>\n",
       "      <td>1000.00000</td>\n",
       "      <td>1000.000000</td>\n",
       "      <td>1000.000000</td>\n",
       "      <td>1000.000000</td>\n",
       "      <td>1000.000000</td>\n",
       "      <td>1000.00000</td>\n",
       "      <td>1000.000000</td>\n",
       "    </tr>\n",
       "    <tr>\n",
       "      <th>mean</th>\n",
       "      <td>5610.52100</td>\n",
       "      <td>12.026000</td>\n",
       "      <td>254.516000</td>\n",
       "      <td>3.04600</td>\n",
       "      <td>3.460000</td>\n",
       "      <td>515.897000</td>\n",
       "      <td>99.746000</td>\n",
       "      <td>51.482000</td>\n",
       "      <td>4.01030</td>\n",
       "      <td>2444.217000</td>\n",
       "    </tr>\n",
       "    <tr>\n",
       "      <th>std</th>\n",
       "      <td>2566.98922</td>\n",
       "      <td>3.238702</td>\n",
       "      <td>140.667264</td>\n",
       "      <td>1.42966</td>\n",
       "      <td>1.749703</td>\n",
       "      <td>282.697585</td>\n",
       "      <td>58.452238</td>\n",
       "      <td>29.323498</td>\n",
       "      <td>0.58459</td>\n",
       "      <td>1434.619603</td>\n",
       "    </tr>\n",
       "    <tr>\n",
       "      <th>min</th>\n",
       "      <td>1003.00000</td>\n",
       "      <td>7.990000</td>\n",
       "      <td>10.000000</td>\n",
       "      <td>1.00000</td>\n",
       "      <td>1.000000</td>\n",
       "      <td>12.000000</td>\n",
       "      <td>1.000000</td>\n",
       "      <td>0.000000</td>\n",
       "      <td>3.00000</td>\n",
       "      <td>3.000000</td>\n",
       "    </tr>\n",
       "    <tr>\n",
       "      <th>25%</th>\n",
       "      <td>3587.75000</td>\n",
       "      <td>7.990000</td>\n",
       "      <td>136.000000</td>\n",
       "      <td>2.00000</td>\n",
       "      <td>2.000000</td>\n",
       "      <td>273.750000</td>\n",
       "      <td>48.750000</td>\n",
       "      <td>26.000000</td>\n",
       "      <td>3.50000</td>\n",
       "      <td>1251.500000</td>\n",
       "    </tr>\n",
       "    <tr>\n",
       "      <th>50%</th>\n",
       "      <td>5694.00000</td>\n",
       "      <td>11.990000</td>\n",
       "      <td>256.000000</td>\n",
       "      <td>3.00000</td>\n",
       "      <td>3.000000</td>\n",
       "      <td>510.000000</td>\n",
       "      <td>103.000000</td>\n",
       "      <td>52.500000</td>\n",
       "      <td>4.00000</td>\n",
       "      <td>2423.000000</td>\n",
       "    </tr>\n",
       "    <tr>\n",
       "      <th>75%</th>\n",
       "      <td>7794.25000</td>\n",
       "      <td>15.990000</td>\n",
       "      <td>373.250000</td>\n",
       "      <td>4.00000</td>\n",
       "      <td>5.000000</td>\n",
       "      <td>770.750000</td>\n",
       "      <td>150.000000</td>\n",
       "      <td>77.000000</td>\n",
       "      <td>4.50000</td>\n",
       "      <td>3660.000000</td>\n",
       "    </tr>\n",
       "    <tr>\n",
       "      <th>max</th>\n",
       "      <td>9996.00000</td>\n",
       "      <td>15.990000</td>\n",
       "      <td>500.000000</td>\n",
       "      <td>5.00000</td>\n",
       "      <td>6.000000</td>\n",
       "      <td>1000.000000</td>\n",
       "      <td>200.000000</td>\n",
       "      <td>100.000000</td>\n",
       "      <td>5.00000</td>\n",
       "      <td>4990.000000</td>\n",
       "    </tr>\n",
       "  </tbody>\n",
       "</table>\n",
       "</div>"
      ],
      "text/plain": [
       "          User_ID  Monthly_Price  Watch_Hours  Active_Devices  Profile_Count  \\\n",
       "count  1000.00000    1000.000000  1000.000000      1000.00000    1000.000000   \n",
       "mean   5610.52100      12.026000   254.516000         3.04600       3.460000   \n",
       "std    2566.98922       3.238702   140.667264         1.42966       1.749703   \n",
       "min    1003.00000       7.990000    10.000000         1.00000       1.000000   \n",
       "25%    3587.75000       7.990000   136.000000         2.00000       2.000000   \n",
       "50%    5694.00000      11.990000   256.000000         3.00000       3.000000   \n",
       "75%    7794.25000      15.990000   373.250000         4.00000       5.000000   \n",
       "max    9996.00000      15.990000   500.000000         5.00000       6.000000   \n",
       "\n",
       "       Total_Movies_Watched  Total_Series_Watched  Recommended_Content_Count  \\\n",
       "count           1000.000000           1000.000000                1000.000000   \n",
       "mean             515.897000             99.746000                  51.482000   \n",
       "std              282.697585             58.452238                  29.323498   \n",
       "min               12.000000              1.000000                   0.000000   \n",
       "25%              273.750000             48.750000                  26.000000   \n",
       "50%              510.000000            103.000000                  52.500000   \n",
       "75%              770.750000            150.000000                  77.000000   \n",
       "max             1000.000000            200.000000                 100.000000   \n",
       "\n",
       "       Average_Rating_Given  Loyalty_Points  \n",
       "count            1000.00000     1000.000000  \n",
       "mean                4.01030     2444.217000  \n",
       "std                 0.58459     1434.619603  \n",
       "min                 3.00000        3.000000  \n",
       "25%                 3.50000     1251.500000  \n",
       "50%                 4.00000     2423.000000  \n",
       "75%                 4.50000     3660.000000  \n",
       "max                 5.00000     4990.000000  "
      ]
     },
     "execution_count": 14,
     "metadata": {},
     "output_type": "execute_result"
    }
   ],
   "source": [
    "stream_df.describe()"
   ]
  },
  {
   "cell_type": "markdown",
   "id": "0aa479d1-1429-4a9a-929d-51c6889c1707",
   "metadata": {},
   "source": [
    "### Streaming service descriptions\n",
    "\n",
    "| **Feature**                   | **Count** | **Mean**   | **Std**    | **Min**  | **25%**   | **50%**   | **75%**   | **Max**   |\n",
    "|------------------------------|-----------|------------|------------|----------|-----------|-----------|-----------|-----------|\n",
    "| **User_ID**                  | 1000      | 5610.52    | 2566.99    | 1003     | 3587.75   | 5694.00   | 7794.25   | 9996      |\n",
    "| **Monthly_Price ($)**        | 1000      | 12.03      | 3.24       | 7.99     | 7.99      | 11.99     | 15.99     | 15.99     |\n",
    "| **Watch_Hours**              | 1000      | 254.52     | 140.67     | 10.00    | 136.00    | 256.00    | 373.25    | 500.00    |\n",
    "| **Active_Devices**           | 1000      | 3.05       | 1.43       | 1.00     | 2.00      | 3.00      | 4.00      | 5.00      |\n",
    "| **Profile_Count**            | 1000      | 3.46       | 1.75       | 1.00     | 2.00      | 3.00      | 5.00      | 6.00      |\n",
    "| **Total_Movies_Watched**     | 1000      | 515.90     | 282.70     | 12.00    | 273.75    | 510.00    | 770.75    | 1000.00   |\n",
    "| **Total_Series_Watched**     | 1000      | 99.75      | 58.45      | 1.00     | 48.75     | 103.00    | 150.00    | 200.00    |\n",
    "| **Recommended_Content_Count**| 1000      | 51.48      | 29.32      | 0.00     | 26.00     | 52.50     | 77.00     | 100.00    |\n",
    "| **Average_Rating_Given**     | 1000      | 4.01       | 0.58       | 3.00     | 3.50      | 4.00      | 4.50      | 5.00      |\n",
    "| **Loyalty_Points**           | 1000      | 2444.22    | 1434.62    | 3.00     | 1251.50   | 2423.00   | 3660.00   | 4990.00   |\n",
    "\n",
    "\n",
    "## Streaming service interpretations\n",
    "\n",
    "- **Subscription Tiers**:  \n",
    "  The **average monthly price is $12.03**, indicating a mix of users subscribing to **both basic and premium plans**.\n",
    "\n",
    "- **Viewing Habits**:  \n",
    "  Users watched an **average of 254 hours**, with wide variation (**10 to 500 hours**), showing **diverse engagement levels**.\n",
    "\n",
    "- **Device Usage**:  \n",
    "  On average, users access content through **~3 active devices**, reflecting **multi-device usage** per account.\n",
    "\n",
    "- **Content Consumption**:  \n",
    "  Users are **highly engaged**, with an **average of 516 movies** and **100 series** watched, showing strong **content consumption** behavior.\n",
    "\n",
    "- **Recommendation Efficiency**:  \n",
    "  Users interacted with about **51 recommended items** on average, suggesting the **recommendation system is utilized** and effective.\n",
    "\n",
    "- **User Ratings**:  \n",
    "  The **average user rating is 4.01/5**, indicating **high satisfaction** with the platform’s content.\n",
    "\n",
    "- **Loyalty**:  \n",
    "  Loyalty points range from **3 to 4990**, with an average of **2444**, demonstrating **strong platform retention** and consistent **user loyalty**.\n",
    "\n"
   ]
  },
  {
   "cell_type": "markdown",
   "id": "60f76a76-8f43-4bb6-bf40-b8b3599b3f0f",
   "metadata": {},
   "source": [
    "### categorical Variable"
   ]
  },
  {
   "cell_type": "code",
   "execution_count": 17,
   "id": "3ed8c65c-70a1-48ae-829d-f586e4653877",
   "metadata": {},
   "outputs": [
    {
     "data": {
      "text/html": [
       "<div>\n",
       "<style scoped>\n",
       "    .dataframe tbody tr th:only-of-type {\n",
       "        vertical-align: middle;\n",
       "    }\n",
       "\n",
       "    .dataframe tbody tr th {\n",
       "        vertical-align: top;\n",
       "    }\n",
       "\n",
       "    .dataframe thead th {\n",
       "        text-align: right;\n",
       "    }\n",
       "</style>\n",
       "<table border=\"1\" class=\"dataframe\">\n",
       "  <thead>\n",
       "    <tr style=\"text-align: right;\">\n",
       "      <th></th>\n",
       "      <th>User_Name</th>\n",
       "      <th>Join_Date</th>\n",
       "      <th>Last_Login</th>\n",
       "      <th>Favorite_Genre</th>\n",
       "      <th>Country</th>\n",
       "      <th>Payment_Method</th>\n",
       "      <th>Language_Preference</th>\n",
       "      <th>Membership_Status</th>\n",
       "      <th>First_Device_Used</th>\n",
       "      <th>Age_Group</th>\n",
       "      <th>Primary_Watch_Time</th>\n",
       "      <th>Watch_Hour_Group</th>\n",
       "      <th>Loyalty_Point_Group</th>\n",
       "      <th>Age_Category</th>\n",
       "    </tr>\n",
       "  </thead>\n",
       "  <tbody>\n",
       "    <tr>\n",
       "      <th>count</th>\n",
       "      <td>1000</td>\n",
       "      <td>1000</td>\n",
       "      <td>1000</td>\n",
       "      <td>1000</td>\n",
       "      <td>1000</td>\n",
       "      <td>1000</td>\n",
       "      <td>1000</td>\n",
       "      <td>1000</td>\n",
       "      <td>1000</td>\n",
       "      <td>1000</td>\n",
       "      <td>1000</td>\n",
       "      <td>1000</td>\n",
       "      <td>1000</td>\n",
       "      <td>1000</td>\n",
       "    </tr>\n",
       "    <tr>\n",
       "      <th>unique</th>\n",
       "      <td>340</td>\n",
       "      <td>540</td>\n",
       "      <td>30</td>\n",
       "      <td>7</td>\n",
       "      <td>7</td>\n",
       "      <td>4</td>\n",
       "      <td>6</td>\n",
       "      <td>1</td>\n",
       "      <td>5</td>\n",
       "      <td>5</td>\n",
       "      <td>4</td>\n",
       "      <td>5</td>\n",
       "      <td>5</td>\n",
       "      <td>5</td>\n",
       "    </tr>\n",
       "    <tr>\n",
       "      <th>top</th>\n",
       "      <td>Michael</td>\n",
       "      <td>4/17/2023</td>\n",
       "      <td>11/29/2024</td>\n",
       "      <td>Horror</td>\n",
       "      <td>USA</td>\n",
       "      <td>PayPal</td>\n",
       "      <td>Mandarin</td>\n",
       "      <td>Active</td>\n",
       "      <td>Tablet</td>\n",
       "      <td>45-54</td>\n",
       "      <td>Late Night</td>\n",
       "      <td>301-500</td>\n",
       "      <td>1000-1999</td>\n",
       "      <td>Older Streamers</td>\n",
       "    </tr>\n",
       "    <tr>\n",
       "      <th>freq</th>\n",
       "      <td>25</td>\n",
       "      <td>6</td>\n",
       "      <td>48</td>\n",
       "      <td>157</td>\n",
       "      <td>158</td>\n",
       "      <td>269</td>\n",
       "      <td>179</td>\n",
       "      <td>1000</td>\n",
       "      <td>215</td>\n",
       "      <td>208</td>\n",
       "      <td>271</td>\n",
       "      <td>408</td>\n",
       "      <td>215</td>\n",
       "      <td>208</td>\n",
       "    </tr>\n",
       "  </tbody>\n",
       "</table>\n",
       "</div>"
      ],
      "text/plain": [
       "       User_Name  Join_Date  Last_Login Favorite_Genre Country Payment_Method  \\\n",
       "count       1000       1000        1000           1000    1000           1000   \n",
       "unique       340        540          30              7       7              4   \n",
       "top      Michael  4/17/2023  11/29/2024         Horror     USA         PayPal   \n",
       "freq          25          6          48            157     158            269   \n",
       "\n",
       "       Language_Preference Membership_Status First_Device_Used Age_Group  \\\n",
       "count                 1000              1000              1000      1000   \n",
       "unique                   6                 1                 5         5   \n",
       "top               Mandarin            Active            Tablet     45-54   \n",
       "freq                   179              1000               215       208   \n",
       "\n",
       "       Primary_Watch_Time Watch_Hour_Group Loyalty_Point_Group  \\\n",
       "count                1000             1000                1000   \n",
       "unique                  4                5                   5   \n",
       "top            Late Night         301-500           1000-1999    \n",
       "freq                  271              408                 215   \n",
       "\n",
       "           Age_Category  \n",
       "count              1000  \n",
       "unique                5  \n",
       "top     Older Streamers  \n",
       "freq                208  "
      ]
     },
     "execution_count": 17,
     "metadata": {},
     "output_type": "execute_result"
    }
   ],
   "source": [
    "stream_df.describe(include='object')"
   ]
  },
  {
   "cell_type": "markdown",
   "id": "baff776f-6629-4d91-80de-07535699fb7c",
   "metadata": {},
   "source": [
    "##  Categorical Summary Interpretation for streaming service\n",
    "\n",
    "This section explains the key characteristics of the categorical attributes in the dataset:\n",
    "\n",
    "| Feature                 | Unique Values | Most Frequent Value | Frequency | Description |\n",
    "|------------------------|---------------|----------------------|-----------|-------------|\n",
    "| **User_Name**          | 340           | Michael              | 25        | There are 340 unique usernames. The most common username is \"Michael\". |\n",
    "| **Join_Date**          | 540           | 4/17/2023            | 6         | Users joined on 540 unique dates; April 17, 2023 had the highest new user signups. |\n",
    "| **Last_Login**         | 30            | 11/29/2024           | 48        | There are 30 distinct login dates; most users logged in on November 29, 2024. |\n",
    "| **Favorite_Genre**     | 7             | Horror               | 157       | 7 genres exist, with \"Horror\" being the favorite for 157 users. |\n",
    "| **Country**            | 7             | USA                  | 158       | Users are from 7 different countries; USA has the most users. |\n",
    "| **Payment_Method**     | 4             | PayPal               | 269       | 4 payment methods used; PayPal is the most popular. |\n",
    "| **Language_Preference**| 6             | Mandarin             | 179       | Users prefer 6 different languages, most prefer Mandarin. |\n",
    "| **Membership_Status**  | 1             | Active               | 1000      | All users are currently active members. |\n",
    "| **First_Device_Used**  | 5             | Tablet               | 215       | Tablet is the most common first device used. |\n",
    "| **Age_Group**          | 5             | 45–54                | 208       | The most represented age group is 45–54. |\n",
    "| **Primary_Watch_Time** | 4             | Late Night           | 271       | 4 different primary watch time categories; \"Late Night\" is most popular. |\n",
    "| **Watch_Hour_Group**   | 5             | 301–500              | 408       | Most users fall into the 301–500 watch hour group. |\n",
    "| **Loyalty_Point_Group**| 5             | 1000–1999            | 215       | Loyalty points are grouped into 5 ranges; 1000–1999 is most common. |\n",
    "| **Age_Category**       | 5             | Older Streamers      | 208       | \"Older Streamers\" is the most common age category. |\n",
    "\n",
    "### streaming service contains\n",
    "- The dataset includes **1000 records**.\n",
    "- The **diversity in user attributes** like device, language, and payment method indicates a **broad and varied user base**.\n",
    "- **Membership is active** for all users, which may suggest this is a filtered or current-user dataset.\n",
    "- **Most users are middle-aged**, prefer watching **late at night**, and have **medium-high watch hours and loyalty points**.\n",
    "\n",
    "This summary provides a comprehensive overview of user demographics, behavior, and preferences.\n"
   ]
  },
  {
   "cell_type": "markdown",
   "id": "d30edb14-83d1-4574-b0ce-b87475e61ce2",
   "metadata": {},
   "source": [
    "## Understanding all Categorical "
   ]
  },
  {
   "cell_type": "code",
   "execution_count": 20,
   "id": "4b442c80-3dcb-4038-bff0-9207c3a87ff0",
   "metadata": {},
   "outputs": [
    {
     "data": {
      "text/html": [
       "<div>\n",
       "<style scoped>\n",
       "    .dataframe tbody tr th:only-of-type {\n",
       "        vertical-align: middle;\n",
       "    }\n",
       "\n",
       "    .dataframe tbody tr th {\n",
       "        vertical-align: top;\n",
       "    }\n",
       "\n",
       "    .dataframe thead th {\n",
       "        text-align: right;\n",
       "    }\n",
       "</style>\n",
       "<table border=\"1\" class=\"dataframe\">\n",
       "  <thead>\n",
       "    <tr style=\"text-align: right;\">\n",
       "      <th></th>\n",
       "      <th>Favorite genre</th>\n",
       "      <th>Count</th>\n",
       "    </tr>\n",
       "  </thead>\n",
       "  <tbody>\n",
       "    <tr>\n",
       "      <th></th>\n",
       "      <td>Horror</td>\n",
       "      <td>157</td>\n",
       "    </tr>\n",
       "    <tr>\n",
       "      <th></th>\n",
       "      <td>Action</td>\n",
       "      <td>150</td>\n",
       "    </tr>\n",
       "    <tr>\n",
       "      <th></th>\n",
       "      <td>Comedy</td>\n",
       "      <td>146</td>\n",
       "    </tr>\n",
       "    <tr>\n",
       "      <th></th>\n",
       "      <td>Romance</td>\n",
       "      <td>146</td>\n",
       "    </tr>\n",
       "    <tr>\n",
       "      <th></th>\n",
       "      <td>Drama</td>\n",
       "      <td>142</td>\n",
       "    </tr>\n",
       "    <tr>\n",
       "      <th></th>\n",
       "      <td>Documentary</td>\n",
       "      <td>130</td>\n",
       "    </tr>\n",
       "    <tr>\n",
       "      <th></th>\n",
       "      <td>Sci-Fi</td>\n",
       "      <td>129</td>\n",
       "    </tr>\n",
       "  </tbody>\n",
       "</table>\n",
       "</div>"
      ],
      "text/plain": [
       " Favorite genre  Count\n",
       "         Horror    157\n",
       "         Action    150\n",
       "         Comedy    146\n",
       "        Romance    146\n",
       "          Drama    142\n",
       "    Documentary    130\n",
       "         Sci-Fi    129"
      ]
     },
     "execution_count": 20,
     "metadata": {},
     "output_type": "execute_result"
    }
   ],
   "source": [
    "favorite_genre=(stream_df['Favorite_Genre'].value_counts().rename_axis('Favorite genre').reset_index(name='Count').rename(lambda x: x + 1))\n",
    "favorite_genre.index = [''] * len(favorite_genre)\n",
    "favorite_genre"
   ]
  },
  {
   "cell_type": "code",
   "execution_count": 21,
   "id": "2bc11a30-d1cc-4295-9366-288f20c7457e",
   "metadata": {},
   "outputs": [
    {
     "data": {
      "text/html": [
       "<div>\n",
       "<style scoped>\n",
       "    .dataframe tbody tr th:only-of-type {\n",
       "        vertical-align: middle;\n",
       "    }\n",
       "\n",
       "    .dataframe tbody tr th {\n",
       "        vertical-align: top;\n",
       "    }\n",
       "\n",
       "    .dataframe thead th {\n",
       "        text-align: right;\n",
       "    }\n",
       "</style>\n",
       "<table border=\"1\" class=\"dataframe\">\n",
       "  <thead>\n",
       "    <tr style=\"text-align: right;\">\n",
       "      <th></th>\n",
       "      <th>Country</th>\n",
       "      <th>Count</th>\n",
       "    </tr>\n",
       "  </thead>\n",
       "  <tbody>\n",
       "    <tr>\n",
       "      <th></th>\n",
       "      <td>USA</td>\n",
       "      <td>158</td>\n",
       "    </tr>\n",
       "    <tr>\n",
       "      <th></th>\n",
       "      <td>France</td>\n",
       "      <td>151</td>\n",
       "    </tr>\n",
       "    <tr>\n",
       "      <th></th>\n",
       "      <td>UK</td>\n",
       "      <td>150</td>\n",
       "    </tr>\n",
       "    <tr>\n",
       "      <th></th>\n",
       "      <td>Germany</td>\n",
       "      <td>146</td>\n",
       "    </tr>\n",
       "    <tr>\n",
       "      <th></th>\n",
       "      <td>Australia</td>\n",
       "      <td>140</td>\n",
       "    </tr>\n",
       "    <tr>\n",
       "      <th></th>\n",
       "      <td>Canada</td>\n",
       "      <td>139</td>\n",
       "    </tr>\n",
       "    <tr>\n",
       "      <th></th>\n",
       "      <td>India</td>\n",
       "      <td>116</td>\n",
       "    </tr>\n",
       "  </tbody>\n",
       "</table>\n",
       "</div>"
      ],
      "text/plain": [
       "    Country  Count\n",
       "        USA    158\n",
       "     France    151\n",
       "         UK    150\n",
       "    Germany    146\n",
       "  Australia    140\n",
       "     Canada    139\n",
       "      India    116"
      ]
     },
     "execution_count": 21,
     "metadata": {},
     "output_type": "execute_result"
    }
   ],
   "source": [
    "country=(stream_df['Country'].value_counts().rename_axis('Country').reset_index(name='Count'))\n",
    "country.index=['']*len(country)\n",
    "country"
   ]
  },
  {
   "cell_type": "code",
   "execution_count": 22,
   "id": "855880c0-da5b-4b06-853d-928b061fea37",
   "metadata": {},
   "outputs": [
    {
     "data": {
      "text/html": [
       "<div>\n",
       "<style scoped>\n",
       "    .dataframe tbody tr th:only-of-type {\n",
       "        vertical-align: middle;\n",
       "    }\n",
       "\n",
       "    .dataframe tbody tr th {\n",
       "        vertical-align: top;\n",
       "    }\n",
       "\n",
       "    .dataframe thead th {\n",
       "        text-align: right;\n",
       "    }\n",
       "</style>\n",
       "<table border=\"1\" class=\"dataframe\">\n",
       "  <thead>\n",
       "    <tr style=\"text-align: right;\">\n",
       "      <th></th>\n",
       "      <th>Payment Method</th>\n",
       "      <th>Count</th>\n",
       "    </tr>\n",
       "  </thead>\n",
       "  <tbody>\n",
       "    <tr>\n",
       "      <th></th>\n",
       "      <td>PayPal</td>\n",
       "      <td>269</td>\n",
       "    </tr>\n",
       "    <tr>\n",
       "      <th></th>\n",
       "      <td>Cryptocurrency</td>\n",
       "      <td>254</td>\n",
       "    </tr>\n",
       "    <tr>\n",
       "      <th></th>\n",
       "      <td>Debit Card</td>\n",
       "      <td>249</td>\n",
       "    </tr>\n",
       "    <tr>\n",
       "      <th></th>\n",
       "      <td>Credit Card</td>\n",
       "      <td>228</td>\n",
       "    </tr>\n",
       "  </tbody>\n",
       "</table>\n",
       "</div>"
      ],
      "text/plain": [
       "  Payment Method  Count\n",
       "          PayPal    269\n",
       "  Cryptocurrency    254\n",
       "      Debit Card    249\n",
       "     Credit Card    228"
      ]
     },
     "execution_count": 22,
     "metadata": {},
     "output_type": "execute_result"
    }
   ],
   "source": [
    "payment=(stream_df['Payment_Method'].value_counts().rename_axis('Payment Method').reset_index(name='Count'))\n",
    "payment.index=['']*len(payment)\n",
    "payment"
   ]
  },
  {
   "cell_type": "code",
   "execution_count": 23,
   "id": "098d0607-e2ab-4aa9-a312-deb91fc2b508",
   "metadata": {},
   "outputs": [
    {
     "data": {
      "text/html": [
       "<div>\n",
       "<style scoped>\n",
       "    .dataframe tbody tr th:only-of-type {\n",
       "        vertical-align: middle;\n",
       "    }\n",
       "\n",
       "    .dataframe tbody tr th {\n",
       "        vertical-align: top;\n",
       "    }\n",
       "\n",
       "    .dataframe thead th {\n",
       "        text-align: right;\n",
       "    }\n",
       "</style>\n",
       "<table border=\"1\" class=\"dataframe\">\n",
       "  <thead>\n",
       "    <tr style=\"text-align: right;\">\n",
       "      <th></th>\n",
       "      <th>Language used</th>\n",
       "      <th>Count</th>\n",
       "    </tr>\n",
       "  </thead>\n",
       "  <tbody>\n",
       "    <tr>\n",
       "      <th></th>\n",
       "      <td>Mandarin</td>\n",
       "      <td>179</td>\n",
       "    </tr>\n",
       "    <tr>\n",
       "      <th></th>\n",
       "      <td>French</td>\n",
       "      <td>171</td>\n",
       "    </tr>\n",
       "    <tr>\n",
       "      <th></th>\n",
       "      <td>English</td>\n",
       "      <td>168</td>\n",
       "    </tr>\n",
       "    <tr>\n",
       "      <th></th>\n",
       "      <td>German</td>\n",
       "      <td>167</td>\n",
       "    </tr>\n",
       "    <tr>\n",
       "      <th></th>\n",
       "      <td>Hindi</td>\n",
       "      <td>162</td>\n",
       "    </tr>\n",
       "    <tr>\n",
       "      <th></th>\n",
       "      <td>Spanish</td>\n",
       "      <td>153</td>\n",
       "    </tr>\n",
       "  </tbody>\n",
       "</table>\n",
       "</div>"
      ],
      "text/plain": [
       " Language used  Count\n",
       "      Mandarin    179\n",
       "        French    171\n",
       "       English    168\n",
       "        German    167\n",
       "         Hindi    162\n",
       "       Spanish    153"
      ]
     },
     "execution_count": 23,
     "metadata": {},
     "output_type": "execute_result"
    }
   ],
   "source": [
    "language=(stream_df['Language_Preference'].value_counts().rename_axis('Language used').reset_index(name='Count'))\n",
    "language.index=['']*len(language)\n",
    "language"
   ]
  },
  {
   "cell_type": "code",
   "execution_count": 24,
   "id": "26164816-3e42-4406-b885-e701bcde7ba3",
   "metadata": {},
   "outputs": [
    {
     "data": {
      "text/html": [
       "<div>\n",
       "<style scoped>\n",
       "    .dataframe tbody tr th:only-of-type {\n",
       "        vertical-align: middle;\n",
       "    }\n",
       "\n",
       "    .dataframe tbody tr th {\n",
       "        vertical-align: top;\n",
       "    }\n",
       "\n",
       "    .dataframe thead th {\n",
       "        text-align: right;\n",
       "    }\n",
       "</style>\n",
       "<table border=\"1\" class=\"dataframe\">\n",
       "  <thead>\n",
       "    <tr style=\"text-align: right;\">\n",
       "      <th></th>\n",
       "      <th>Divice Used</th>\n",
       "      <th>Count</th>\n",
       "    </tr>\n",
       "  </thead>\n",
       "  <tbody>\n",
       "    <tr>\n",
       "      <th></th>\n",
       "      <td>Tablet</td>\n",
       "      <td>215</td>\n",
       "    </tr>\n",
       "    <tr>\n",
       "      <th></th>\n",
       "      <td>Smartphone</td>\n",
       "      <td>209</td>\n",
       "    </tr>\n",
       "    <tr>\n",
       "      <th></th>\n",
       "      <td>Smart TV</td>\n",
       "      <td>209</td>\n",
       "    </tr>\n",
       "    <tr>\n",
       "      <th></th>\n",
       "      <td>Desktop</td>\n",
       "      <td>189</td>\n",
       "    </tr>\n",
       "    <tr>\n",
       "      <th></th>\n",
       "      <td>Laptop</td>\n",
       "      <td>178</td>\n",
       "    </tr>\n",
       "  </tbody>\n",
       "</table>\n",
       "</div>"
      ],
      "text/plain": [
       " Divice Used  Count\n",
       "      Tablet    215\n",
       "  Smartphone    209\n",
       "    Smart TV    209\n",
       "     Desktop    189\n",
       "      Laptop    178"
      ]
     },
     "execution_count": 24,
     "metadata": {},
     "output_type": "execute_result"
    }
   ],
   "source": [
    "device=(stream_df['First_Device_Used'].value_counts().rename_axis('Divice Used').reset_index(name='Count'))\n",
    "device.index=['']*len(device)\n",
    "device"
   ]
  },
  {
   "cell_type": "code",
   "execution_count": 25,
   "id": "f1be2782-6554-44d6-93c2-909808fbd154",
   "metadata": {},
   "outputs": [
    {
     "data": {
      "text/html": [
       "<div>\n",
       "<style scoped>\n",
       "    .dataframe tbody tr th:only-of-type {\n",
       "        vertical-align: middle;\n",
       "    }\n",
       "\n",
       "    .dataframe tbody tr th {\n",
       "        vertical-align: top;\n",
       "    }\n",
       "\n",
       "    .dataframe thead th {\n",
       "        text-align: right;\n",
       "    }\n",
       "</style>\n",
       "<table border=\"1\" class=\"dataframe\">\n",
       "  <thead>\n",
       "    <tr style=\"text-align: right;\">\n",
       "      <th></th>\n",
       "      <th>Age Group</th>\n",
       "      <th>Count</th>\n",
       "    </tr>\n",
       "  </thead>\n",
       "  <tbody>\n",
       "    <tr>\n",
       "      <th></th>\n",
       "      <td>45-54</td>\n",
       "      <td>208</td>\n",
       "    </tr>\n",
       "    <tr>\n",
       "      <th></th>\n",
       "      <td>35-44</td>\n",
       "      <td>207</td>\n",
       "    </tr>\n",
       "    <tr>\n",
       "      <th></th>\n",
       "      <td>55+</td>\n",
       "      <td>205</td>\n",
       "    </tr>\n",
       "    <tr>\n",
       "      <th></th>\n",
       "      <td>25-34</td>\n",
       "      <td>200</td>\n",
       "    </tr>\n",
       "    <tr>\n",
       "      <th></th>\n",
       "      <td>18-24</td>\n",
       "      <td>180</td>\n",
       "    </tr>\n",
       "  </tbody>\n",
       "</table>\n",
       "</div>"
      ],
      "text/plain": [
       " Age Group  Count\n",
       "     45-54    208\n",
       "     35-44    207\n",
       "       55+    205\n",
       "     25-34    200\n",
       "     18-24    180"
      ]
     },
     "execution_count": 25,
     "metadata": {},
     "output_type": "execute_result"
    }
   ],
   "source": [
    "age_group_counts = stream_df['Age_Group'].value_counts().rename_axis('Age Group').reset_index(name='Count')\n",
    "age_group_counts.index = [''] * len(age_group_counts)\n",
    "age_group_counts\n"
   ]
  },
  {
   "cell_type": "code",
   "execution_count": 26,
   "id": "a8b81fc4-2be9-4f90-a00e-2fe34194312d",
   "metadata": {},
   "outputs": [
    {
     "data": {
      "text/html": [
       "<div>\n",
       "<style scoped>\n",
       "    .dataframe tbody tr th:only-of-type {\n",
       "        vertical-align: middle;\n",
       "    }\n",
       "\n",
       "    .dataframe tbody tr th {\n",
       "        vertical-align: top;\n",
       "    }\n",
       "\n",
       "    .dataframe thead th {\n",
       "        text-align: right;\n",
       "    }\n",
       "</style>\n",
       "<table border=\"1\" class=\"dataframe\">\n",
       "  <thead>\n",
       "    <tr style=\"text-align: right;\">\n",
       "      <th></th>\n",
       "      <th>Age Category</th>\n",
       "      <th>Count</th>\n",
       "    </tr>\n",
       "  </thead>\n",
       "  <tbody>\n",
       "    <tr>\n",
       "      <th></th>\n",
       "      <td>Older Streamers</td>\n",
       "      <td>208</td>\n",
       "    </tr>\n",
       "    <tr>\n",
       "      <th></th>\n",
       "      <td>Mature Streamers</td>\n",
       "      <td>207</td>\n",
       "    </tr>\n",
       "    <tr>\n",
       "      <th></th>\n",
       "      <td>Senior Streamers</td>\n",
       "      <td>205</td>\n",
       "    </tr>\n",
       "    <tr>\n",
       "      <th></th>\n",
       "      <td>Adult Streamers</td>\n",
       "      <td>200</td>\n",
       "    </tr>\n",
       "    <tr>\n",
       "      <th></th>\n",
       "      <td>Young Streamers</td>\n",
       "      <td>180</td>\n",
       "    </tr>\n",
       "  </tbody>\n",
       "</table>\n",
       "</div>"
      ],
      "text/plain": [
       "      Age Category  Count\n",
       "   Older Streamers    208\n",
       "  Mature Streamers    207\n",
       "  Senior Streamers    205\n",
       "   Adult Streamers    200\n",
       "   Young Streamers    180"
      ]
     },
     "execution_count": 26,
     "metadata": {},
     "output_type": "execute_result"
    }
   ],
   "source": [
    "age_category_counts = stream_df['Age_Category'].value_counts().rename_axis('Age Category').reset_index(name='Count')\n",
    "age_category_counts.index = [''] * len(age_category_counts)\n",
    "age_category_counts\n"
   ]
  },
  {
   "cell_type": "code",
   "execution_count": 27,
   "id": "5650af82-2184-4586-8b03-e798583005b3",
   "metadata": {},
   "outputs": [
    {
     "data": {
      "text/html": [
       "<div>\n",
       "<style scoped>\n",
       "    .dataframe tbody tr th:only-of-type {\n",
       "        vertical-align: middle;\n",
       "    }\n",
       "\n",
       "    .dataframe tbody tr th {\n",
       "        vertical-align: top;\n",
       "    }\n",
       "\n",
       "    .dataframe thead th {\n",
       "        text-align: right;\n",
       "    }\n",
       "</style>\n",
       "<table border=\"1\" class=\"dataframe\">\n",
       "  <thead>\n",
       "    <tr style=\"text-align: right;\">\n",
       "      <th></th>\n",
       "      <th>Primary Watch Time</th>\n",
       "      <th>Count</th>\n",
       "    </tr>\n",
       "  </thead>\n",
       "  <tbody>\n",
       "    <tr>\n",
       "      <th></th>\n",
       "      <td>Late Night</td>\n",
       "      <td>271</td>\n",
       "    </tr>\n",
       "    <tr>\n",
       "      <th></th>\n",
       "      <td>Evening</td>\n",
       "      <td>256</td>\n",
       "    </tr>\n",
       "    <tr>\n",
       "      <th></th>\n",
       "      <td>Afternoon</td>\n",
       "      <td>251</td>\n",
       "    </tr>\n",
       "    <tr>\n",
       "      <th></th>\n",
       "      <td>Morning</td>\n",
       "      <td>222</td>\n",
       "    </tr>\n",
       "  </tbody>\n",
       "</table>\n",
       "</div>"
      ],
      "text/plain": [
       " Primary Watch Time  Count\n",
       "         Late Night    271\n",
       "            Evening    256\n",
       "          Afternoon    251\n",
       "            Morning    222"
      ]
     },
     "execution_count": 27,
     "metadata": {},
     "output_type": "execute_result"
    }
   ],
   "source": [
    "watch_time_counts = stream_df['Primary_Watch_Time'].value_counts().rename_axis('Primary Watch Time').reset_index(name='Count')\n",
    "watch_time_counts.index = [''] * len(watch_time_counts)\n",
    "watch_time_counts\n"
   ]
  },
  {
   "cell_type": "code",
   "execution_count": 28,
   "id": "2f440195-0636-4c2e-b3de-443bfba8a1a8",
   "metadata": {},
   "outputs": [
    {
     "data": {
      "text/html": [
       "<div>\n",
       "<style scoped>\n",
       "    .dataframe tbody tr th:only-of-type {\n",
       "        vertical-align: middle;\n",
       "    }\n",
       "\n",
       "    .dataframe tbody tr th {\n",
       "        vertical-align: top;\n",
       "    }\n",
       "\n",
       "    .dataframe thead th {\n",
       "        text-align: right;\n",
       "    }\n",
       "</style>\n",
       "<table border=\"1\" class=\"dataframe\">\n",
       "  <thead>\n",
       "    <tr style=\"text-align: right;\">\n",
       "      <th></th>\n",
       "      <th>Watch Hour Group</th>\n",
       "      <th>Count</th>\n",
       "    </tr>\n",
       "  </thead>\n",
       "  <tbody>\n",
       "    <tr>\n",
       "      <th></th>\n",
       "      <td>301-500</td>\n",
       "      <td>408</td>\n",
       "    </tr>\n",
       "    <tr>\n",
       "      <th></th>\n",
       "      <td>101-200</td>\n",
       "      <td>210</td>\n",
       "    </tr>\n",
       "    <tr>\n",
       "      <th></th>\n",
       "      <td>201-300</td>\n",
       "      <td>201</td>\n",
       "    </tr>\n",
       "    <tr>\n",
       "      <th></th>\n",
       "      <td>0-50</td>\n",
       "      <td>93</td>\n",
       "    </tr>\n",
       "    <tr>\n",
       "      <th></th>\n",
       "      <td>51-100</td>\n",
       "      <td>88</td>\n",
       "    </tr>\n",
       "  </tbody>\n",
       "</table>\n",
       "</div>"
      ],
      "text/plain": [
       " Watch Hour Group  Count\n",
       "         301-500     408\n",
       "         101-200     210\n",
       "         201-300     201\n",
       "            0-50      93\n",
       "          51-100      88"
      ]
     },
     "execution_count": 28,
     "metadata": {},
     "output_type": "execute_result"
    }
   ],
   "source": [
    "watch_hour_counts = stream_df['Watch_Hour_Group'].value_counts().rename_axis('Watch Hour Group').reset_index(name='Count')\n",
    "watch_hour_counts.index = [''] * len(watch_hour_counts)\n",
    "watch_hour_counts\n"
   ]
  },
  {
   "cell_type": "code",
   "execution_count": 29,
   "id": "a95c4c0b-e74a-4cd9-9ee6-199f0b28e296",
   "metadata": {},
   "outputs": [
    {
     "data": {
      "text/html": [
       "<div>\n",
       "<style scoped>\n",
       "    .dataframe tbody tr th:only-of-type {\n",
       "        vertical-align: middle;\n",
       "    }\n",
       "\n",
       "    .dataframe tbody tr th {\n",
       "        vertical-align: top;\n",
       "    }\n",
       "\n",
       "    .dataframe thead th {\n",
       "        text-align: right;\n",
       "    }\n",
       "</style>\n",
       "<table border=\"1\" class=\"dataframe\">\n",
       "  <thead>\n",
       "    <tr style=\"text-align: right;\">\n",
       "      <th></th>\n",
       "      <th>Loyalty Point Group</th>\n",
       "      <th>Count</th>\n",
       "    </tr>\n",
       "  </thead>\n",
       "  <tbody>\n",
       "    <tr>\n",
       "      <th></th>\n",
       "      <td>1000-1999</td>\n",
       "      <td>215</td>\n",
       "    </tr>\n",
       "    <tr>\n",
       "      <th></th>\n",
       "      <td>0-999</td>\n",
       "      <td>207</td>\n",
       "    </tr>\n",
       "    <tr>\n",
       "      <th></th>\n",
       "      <td>2000-2999</td>\n",
       "      <td>196</td>\n",
       "    </tr>\n",
       "    <tr>\n",
       "      <th></th>\n",
       "      <td>3000-3999</td>\n",
       "      <td>191</td>\n",
       "    </tr>\n",
       "    <tr>\n",
       "      <th></th>\n",
       "      <td>4000-4990</td>\n",
       "      <td>191</td>\n",
       "    </tr>\n",
       "  </tbody>\n",
       "</table>\n",
       "</div>"
      ],
      "text/plain": [
       " Loyalty Point Group  Count\n",
       "          1000-1999     215\n",
       "              0-999     207\n",
       "          2000-2999     196\n",
       "          3000-3999     191\n",
       "          4000-4990     191"
      ]
     },
     "execution_count": 29,
     "metadata": {},
     "output_type": "execute_result"
    }
   ],
   "source": [
    "loyalty_counts = stream_df['Loyalty_Point_Group'].value_counts().rename_axis('Loyalty Point Group').reset_index(name='Count')\n",
    "loyalty_counts.index = [''] * len(loyalty_counts)\n",
    "loyalty_counts\n"
   ]
  },
  {
   "cell_type": "markdown",
   "id": "07cfbe65-d6b5-4e20-b0c4-a7db7e78e81a",
   "metadata": {},
   "source": [
    "# Visualisation"
   ]
  },
  {
   "cell_type": "markdown",
   "id": "d51f3969-fe32-4594-9fbf-975578307358",
   "metadata": {},
   "source": [
    "## Monthly Revenue Comparison (2022 vs 2023 vs 2024)\n",
    "This chart displays the total monthly revenue ($) generated over the years 2022, 2023, and 2024, helping to visualize revenue trends, seasonal patterns, and year-over-year performance."
   ]
  },
  {
   "cell_type": "code",
   "execution_count": 32,
   "id": "58b21b30-b657-4519-bd97-ce64cb672a7f",
   "metadata": {},
   "outputs": [],
   "source": [
    "stream_df['Join_Date'] = pd.to_datetime(stream_df['Join_Date'])\n",
    "stream_df['YearMonth'] = stream_df['Join_Date'].dt.to_period('M').astype(str)"
   ]
  },
  {
   "cell_type": "code",
   "execution_count": 33,
   "id": "02b65eb0-1ab9-4879-8bb4-aeb5c4ebff2a",
   "metadata": {},
   "outputs": [],
   "source": [
    "monthly_revenue = (\n",
    "    stream_df.groupby('YearMonth')['Monthly_Price']\n",
    "    .sum()\n",
    "    .reset_index()\n",
    "    .rename(columns={'Monthly_Price': 'Total_Revenue'})\n",
    ")"
   ]
  },
  {
   "cell_type": "code",
   "execution_count": 43,
   "id": "f3884377-9e98-446d-8751-a0c01f726d06",
   "metadata": {},
   "outputs": [],
   "source": [
    "stream_df['Join_Date'] = pd.to_datetime(stream_df['Join_Date'])\n",
    "\n",
    "stream_df['Year'] = stream_df['Join_Date'].dt.year\n",
    "stream_df['Month'] = stream_df['Join_Date'].dt.strftime('%b')  \n",
    "\n",
    "month_order = ['Jan', 'Feb', 'Mar', 'Apr', 'May', 'Jun',\n",
    "               'Jul', 'Aug', 'Sep', 'Oct', 'Nov', 'Dec']\n",
    "\n",
    "monthly_revenue = stream_df.groupby(['Year', 'Month'])['Monthly_Price'].sum().reset_index()\n",
    "monthly_revenue.rename(columns={'Monthly_Price': 'Total_Revenue'}, inplace=True)\n",
    "\n",
    "monthly_revenue['Month'] = pd.Categorical(monthly_revenue['Month'], categories=month_order, ordered=True)\n",
    "monthly_revenue = monthly_revenue.sort_values(['Year', 'Month'])\n"
   ]
  },
  {
   "cell_type": "code",
   "execution_count": 45,
   "id": "38f69dc6-f5b4-4550-a120-83a76789ecfc",
   "metadata": {},
   "outputs": [
    {
     "data": {
      "application/vnd.plotly.v1+json": {
       "config": {
        "plotlyServerURL": "https://plot.ly"
       },
       "data": [
        {
         "hovertemplate": "Year=2022<br>Month=%{x}<br>Total_Revenue=%{y}<extra></extra>",
         "legendgroup": "2022",
         "line": {
          "color": "#1F77B4",
          "dash": "solid",
          "shape": "linear"
         },
         "marker": {
          "symbol": "circle"
         },
         "mode": "lines+markers",
         "name": "2022",
         "orientation": "v",
         "showlegend": true,
         "type": "scatter",
         "x": [
          "Dec"
         ],
         "xaxis": "x",
         "y": {
          "_inputArray": {
           "0": 223.82,
           "bdata": "CtejcD36a0A=",
           "dtype": "f8",
           "shape": "1"
          },
          "bdata": "CtejcD36a0A=",
          "dtype": "f8"
         },
         "yaxis": "y"
        },
        {
         "hovertemplate": "Year=2023<br>Month=%{x}<br>Total_Revenue=%{y}<extra></extra>",
         "legendgroup": "2023",
         "line": {
          "color": "#FF7F0E",
          "dash": "solid",
          "shape": "linear"
         },
         "marker": {
          "symbol": "circle"
         },
         "mode": "lines+markers",
         "name": "2023",
         "orientation": "v",
         "showlegend": true,
         "type": "scatter",
         "x": [
          "Jan",
          "Feb",
          "Mar",
          "Apr",
          "May",
          "Jun",
          "Jul",
          "Aug",
          "Sep",
          "Oct",
          "Nov",
          "Dec"
         ],
         "xaxis": "x",
         "y": {
          "_inputArray": {
           "0": 575.5600000000001,
           "1": 547.54,
           "10": 527.59,
           "11": 635.48,
           "2": 435.62,
           "3": 499.54,
           "4": 515.55,
           "5": 519.5600000000001,
           "6": 423.64,
           "7": 383.68,
           "8": 595.53,
           "9": 467.6,
           "bdata": "Fa5H4Xr8gUC4HoXrURyBQFK4HoXrOXtAcT0K16M4f0BmZmZmZhyAQBWuR+F6PIBACtejcD16ekB7FK5H4fp3QArXo3A9nIJAmpmZmZk5fUAfhetRuHyAQKRwPQrX24NA",
           "dtype": "f8",
           "shape": "12"
          },
          "bdata": "Fa5H4Xr8gUC4HoXrURyBQFK4HoXrOXtAcT0K16M4f0BmZmZmZhyAQBWuR+F6PIBACtejcD16ekB7FK5H4fp3QArXo3A9nIJAmpmZmZk5fUAfhetRuHyAQKRwPQrX24NA",
          "dtype": "f8"
         },
         "yaxis": "y"
        },
        {
         "hovertemplate": "Year=2024<br>Month=%{x}<br>Total_Revenue=%{y}<extra></extra>",
         "legendgroup": "2024",
         "line": {
          "color": "#2CA02C",
          "dash": "solid",
          "shape": "linear"
         },
         "marker": {
          "symbol": "circle"
         },
         "mode": "lines+markers",
         "name": "2024",
         "orientation": "v",
         "showlegend": true,
         "type": "scatter",
         "x": [
          "Jan",
          "Feb",
          "Mar",
          "Apr",
          "May",
          "Jun",
          "Jul",
          "Aug",
          "Sep",
          "Oct",
          "Nov",
          "Dec"
         ],
         "xaxis": "x",
         "y": {
          "_inputArray": {
           "0": 487.59000000000003,
           "1": 515.58,
           "10": 343.71,
           "11": 347.73,
           "2": 423.65000000000003,
           "3": 479.6,
           "4": 535.5600000000001,
           "5": 603.52,
           "6": 487.6,
           "7": 403.67,
           "8": 531.54,
           "9": 515.54,
           "bdata": "PgrXo3B5fkBxPQrXoxyAQGdmZmZmenpAmpmZmZn5fUAVrkfheryAQFyPwvUo3IJAmpmZmZl5fkAfhetRuDp5QLgehetRnIBAuB6F61EcgECPwvUoXHt1QEjhehSuu3VA",
           "dtype": "f8",
           "shape": "12"
          },
          "bdata": "PgrXo3B5fkBxPQrXoxyAQGdmZmZmenpAmpmZmZn5fUAVrkfheryAQFyPwvUo3IJAmpmZmZl5fkAfhetRuDp5QLgehetRnIBAuB6F61EcgECPwvUoXHt1QEjhehSuu3VA",
          "dtype": "f8"
         },
         "yaxis": "y"
        }
       ],
       "layout": {
        "height": 500,
        "legend": {
         "title": {
          "text": "Year"
         },
         "tracegroupgap": 0
        },
        "margin": {
         "b": 80,
         "l": 60,
         "r": 40,
         "t": 80
        },
        "paper_bgcolor": "rgba(0, 0, 0, 0)",
        "plot_bgcolor": "rgba(0, 0, 0, 0)",
        "template": {
         "data": {
          "pie": [
           {
            "automargin": true,
            "type": "pie"
           }
          ],
          "scatter": [
           {
            "line": {
             "width": 3
            },
            "marker": {
             "size": 9
            },
            "type": "scatter"
           }
          ],
          "scatter3d": [
           {
            "line": {
             "width": 3
            },
            "marker": {
             "size": 9
            },
            "type": "scatter3d"
           }
          ],
          "scattergeo": [
           {
            "line": {
             "width": 3
            },
            "marker": {
             "size": 9
            },
            "type": "scattergeo"
           }
          ],
          "scattergl": [
           {
            "line": {
             "width": 3
            },
            "marker": {
             "size": 9
            },
            "type": "scattergl"
           }
          ],
          "scatterpolar": [
           {
            "line": {
             "width": 3
            },
            "marker": {
             "size": 9
            },
            "type": "scatterpolar"
           }
          ],
          "scatterpolargl": [
           {
            "line": {
             "width": 3
            },
            "marker": {
             "size": 9
            },
            "type": "scatterpolargl"
           }
          ],
          "scatterternary": [
           {
            "line": {
             "width": 3
            },
            "marker": {
             "size": 9
            },
            "type": "scatterternary"
           }
          ],
          "table": [
           {
            "cells": {
             "height": 30
            },
            "header": {
             "height": 36
            },
            "type": "table"
           }
          ]
         },
         "layout": {
          "font": {
           "size": 18
          },
          "xaxis": {
           "title": {
            "standoff": 15
           }
          },
          "yaxis": {
           "title": {
            "standoff": 15
           }
          }
         }
        },
        "title": {
         "text": "Monthly Revenue Comparison: 2022 vs 2023 vs 2024"
        },
        "width": 1000,
        "xaxis": {
         "anchor": "y",
         "autorange": true,
         "categoryarray": [
          "Jan",
          "Feb",
          "Mar",
          "Apr",
          "May",
          "Jun",
          "Jul",
          "Aug",
          "Sep",
          "Oct",
          "Nov",
          "Dec"
         ],
         "categoryorder": "array",
         "domain": [
          0,
          1
         ],
         "range": [
          -0.7055933484504913,
          11.705593348450492
         ],
         "title": {
          "text": "Month"
         },
         "type": "category"
        },
        "yaxis": {
         "anchor": "x",
         "autorange": true,
         "domain": [
          0,
          1
         ],
         "range": [
          192.22099236641222,
          667.0790076335878
         ],
         "title": {
          "text": "Total Revenue ($)"
         },
         "type": "linear"
        }
       }
      },
      "image/png": "[encoded data removed]"
     },
     "metadata": {},
     "output_type": "display_data"
    }
   ],
   "source": [
    "fig = px.line(\n",
    "    monthly_revenue,\n",
    "    x='Month',\n",
    "    y='Total_Revenue',\n",
    "    color='Year',\n",
    "    markers=True,\n",
    "    title='Monthly Revenue Comparison: 2022 vs 2023 vs 2024',\n",
    "    category_orders={'Month': month_order},  \n",
    "    template='presentation',\n",
    "    line_shape='linear'\n",
    ")\n",
    "\n",
    "fig.update_layout(\n",
    "    xaxis_title='Month',\n",
    "    yaxis_title='Total Revenue ($)',\n",
    "    legend_title_text='Year',\n",
    "    height=500,\n",
    "    width=1000,\n",
    "    paper_bgcolor='rgba(0,0,0,0)',\n",
    "    plot_bgcolor='rgba(0,0,0,0)',\n",
    "    margin=dict(l=60, r=40, t=80, b=80)\n",
    ")\n",
    "\n",
    "fig.show()\n",
    "\n",
    "fig.write_image(os.path.join(result_dir, 'Monthly_Revenue_Comparison_Line_Chart.jpg'))\n",
    "fig.write_image(os.path.join(result_dir, 'Monthly_Revenue_Comparison_Line_Chart.png'))\n",
    "fig.write_html(os.path.join(result_dir, 'Monthly_Revenue_Comparison_Line_Chart.html'))\n"
   ]
  },
  {
   "cell_type": "markdown",
   "id": "c5c2a00c-b095-4704-aa52-7efa29fc950e",
   "metadata": {},
   "source": [
    "## Watch Hours by Age Category"
   ]
  },
  {
   "cell_type": "code",
   "execution_count": 46,
   "id": "56484b19-9540-4897-b6ce-85b8484ac97e",
   "metadata": {},
   "outputs": [
    {
     "name": "stdout",
     "output_type": "stream",
     "text": [
      "       Age_Category  Count\n",
      "0   Older Streamers    208\n",
      "1  Mature Streamers    207\n",
      "2  Senior Streamers    205\n",
      "3   Adult Streamers    200\n",
      "4   Young Streamers    180\n",
      "       Age_Category  proportion\n",
      "0   Older Streamers       0.208\n",
      "1  Mature Streamers       0.207\n",
      "2  Senior Streamers       0.205\n",
      "3   Adult Streamers       0.200\n",
      "4   Young Streamers       0.180\n",
      "                  count        mean         std   min     25%    50%     75%  \\\n",
      "Age_Category                                                                   \n",
      "Adult Streamers   200.0  268.520000  144.746459  11.0  135.75  278.0  406.50   \n",
      "Mature Streamers  207.0  244.956522  139.489162  10.0  130.50  225.0  363.00   \n",
      "Older Streamers   208.0  255.663462  135.851447  10.0  146.50  256.0  358.00   \n",
      "Senior Streamers  205.0  264.668293  138.228453  11.0  158.00  280.0  376.00   \n",
      "Young Streamers   180.0  237.061111  144.496860  11.0  111.25  239.5  354.25   \n",
      "\n",
      "                    max  \n",
      "Age_Category             \n",
      "Adult Streamers   498.0  \n",
      "Mature Streamers  494.0  \n",
      "Older Streamers   500.0  \n",
      "Senior Streamers  500.0  \n",
      "Young Streamers   493.0  \n",
      "Favorite_Genre    Action  Comedy  Documentary  Drama  Horror  Romance  Sci-Fi\n",
      "Age_Category                                                                 \n",
      "Adult Streamers       33      29           21     31      36       27      23\n",
      "Mature Streamers      32      29           22     27      34       32      31\n",
      "Older Streamers       34      26           22     31      32       36      27\n",
      "Senior Streamers      25      39           29     28      32       27      25\n",
      "Young Streamers       26      23           36     25      23       24      23\n"
     ]
    }
   ],
   "source": [
    "# Count and proportion of Age_Category\n",
    "age_counts = stream_df['Age_Category'].value_counts().reset_index()\n",
    "age_counts.columns = ['Age_Category', 'Count'] \n",
    "age_props = stream_df['Age_Category'].value_counts(normalize=True).reset_index()\n",
    "print(age_counts)\n",
    "print(age_props)\n",
    "\n",
    "# Summary stats of Watch_Hours by Age_Category\n",
    "watch_hours_summary = stream_df.groupby('Age_Category')['Watch_Hours'].describe()\n",
    "print(watch_hours_summary)\n",
    "\n",
    "# Count of Favorite_Genre by Age_Category\n",
    "genre_counts = pd.crosstab(stream_df['Age_Category'], stream_df['Favorite_Genre'])\n",
    "print(genre_counts)\n"
   ]
  },
  {
   "cell_type": "code",
   "execution_count": 47,
   "id": "95312d5b-0a2d-47c5-8169-04cc78ad5c7f",
   "metadata": {},
   "outputs": [
    {
     "data": {
      "application/vnd.plotly.v1+json": {
       "config": {
        "plotlyServerURL": "https://plot.ly"
       },
       "data": [
        {
         "domain": {
          "x": [
           0,
           1
          ],
          "y": [
           0,
           1
          ]
         },
         "hole": 0.4,
         "hovertemplate": "Age_Category=%{label}<br>User_Count=%{value}<extra></extra>",
         "labels": [
          "Older Streamers",
          "Mature Streamers",
          "Senior Streamers",
          "Adult Streamers",
          "Young Streamers"
         ],
         "legendgroup": "",
         "name": "",
         "showlegend": true,
         "type": "pie",
         "values": {
          "_inputArray": {
           "0": 208,
           "1": 207,
           "2": 205,
           "3": 200,
           "4": 180,
           "bdata": "0ADPAM0AyAC0AA==",
           "dtype": "i2",
           "shape": "5"
          },
          "bdata": "0ADPAM0AyAC0AA==",
          "dtype": "i2"
         }
        }
       ],
       "layout": {
        "height": 500,
        "legend": {
         "title": {
          "text": "Age Categories"
         },
         "tracegroupgap": 0
        },
        "paper_bgcolor": "rgba(0, 0, 0, 0)",
        "piecolorway": [
         "rgb(8,48,107)",
         "rgb(8,81,156)",
         "rgb(33,113,181)",
         "rgb(66,146,198)",
         "rgb(107,174,214)",
         "rgb(158,202,225)",
         "rgb(198,219,239)",
         "rgb(222,235,247)",
         "rgb(247,251,255)"
        ],
        "template": {
         "data": {
          "pie": [
           {
            "automargin": true,
            "type": "pie"
           }
          ],
          "scatter": [
           {
            "line": {
             "width": 3
            },
            "marker": {
             "size": 9
            },
            "type": "scatter"
           }
          ],
          "scatter3d": [
           {
            "line": {
             "width": 3
            },
            "marker": {
             "size": 9
            },
            "type": "scatter3d"
           }
          ],
          "scattergeo": [
           {
            "line": {
             "width": 3
            },
            "marker": {
             "size": 9
            },
            "type": "scattergeo"
           }
          ],
          "scattergl": [
           {
            "line": {
             "width": 3
            },
            "marker": {
             "size": 9
            },
            "type": "scattergl"
           }
          ],
          "scatterpolar": [
           {
            "line": {
             "width": 3
            },
            "marker": {
             "size": 9
            },
            "type": "scatterpolar"
           }
          ],
          "scatterpolargl": [
           {
            "line": {
             "width": 3
            },
            "marker": {
             "size": 9
            },
            "type": "scatterpolargl"
           }
          ],
          "scatterternary": [
           {
            "line": {
             "width": 3
            },
            "marker": {
             "size": 9
            },
            "type": "scatterternary"
           }
          ],
          "table": [
           {
            "cells": {
             "height": 30
            },
            "header": {
             "height": 36
            },
            "type": "table"
           }
          ]
         },
         "layout": {
          "font": {
           "size": 18
          },
          "xaxis": {
           "title": {
            "standoff": 15
           }
          },
          "yaxis": {
           "title": {
            "standoff": 15
           }
          }
         }
        },
        "title": {
         "text": "Viewer Age Category Distribution"
        },
        "width": 700
       }
      }
     },
     "metadata": {},
     "output_type": "display_data"
    }
   ],
   "source": [
    "age_category_counts = stream_df[\"Age_Category\"].value_counts().reset_index()\n",
    "age_category_counts.columns = [\"Age_Category\", \"User_Count\"]\n",
    "\n",
    "fig = px.pie(\n",
    "    age_category_counts,\n",
    "    names=\"Age_Category\",\n",
    "    values=\"User_Count\",\n",
    "    title=\"Viewer Age Category Distribution\",\n",
    "    hole=0.4,\n",
    "    color_discrete_sequence=px.colors.sequential.Blues_r\n",
    ")\n",
    "\n",
    "fig.update_layout(\n",
    "    template=\"presentation\",\n",
    "    height=500,\n",
    "    width=700,\n",
    "    legend_title=dict(text=\"Age Categories\"),\n",
    "    paper_bgcolor=\"rgba(0, 0, 0, 0)\"\n",
    ")\n",
    "\n",
    "fig.show()\n",
    "fig.write_image(os.path.join(result_dir, 'Age_Category_Distribution_Pie_Chart.jpg'))\n",
    "fig.write_image(os.path.join(result_dir, 'Age_Category_Distribution_Pie_Chart.png'))\n",
    "fig.write_html(os.path.join(result_dir, 'Age_Category_Distribution_Pie_Chart.html'))"
   ]
  },
  {
   "cell_type": "markdown",
   "id": "82f930c5-f3e8-4192-b8bc-ac1c4645108a",
   "metadata": {},
   "source": [
    "The dataset categorizes users into five age groups with the following user counts:\n",
    "\n",
    "- **Older Streamers:** 208 users  \n",
    "- **Mature Streamers:** 207 users  \n",
    "- **Senior Streamers:** 205 users  \n",
    "- **Adult Streamers:** 200 users\n",
    "- **Young Streamers:** 180 users  \n",
    "\n",
    "A donut pie chart was created using Plotly Express to visualize this distribution, showing the proportion of users in each age category. We have to  saved as `.jpg`, `.png`, and `.html` files for reporting purposes in result folders."
   ]
  },
  {
   "cell_type": "markdown",
   "id": "affc5d7a-d3c1-4e09-88bd-a46e08d04480",
   "metadata": {},
   "source": [
    "### Favorite genre by Country"
   ]
  },
  {
   "cell_type": "code",
   "execution_count": 50,
   "id": "07bfc3d2-d9ae-42df-b5f6-485700d6ed0a",
   "metadata": {},
   "outputs": [],
   "source": [
    "Favorite_genre_country = stream_df.groupby(['Country', 'Favorite_Genre']).size().reset_index(name='total').sort_values(by='total', ascending=False)\n",
    "Favorite_genre_country.index=['']*len(Favorite_genre_country)\n",
    "# Favorite_genre_country"
   ]
  },
  {
   "cell_type": "code",
   "execution_count": 51,
   "id": "1d0e820c-e4b5-47f3-a124-41cf6605e96c",
   "metadata": {},
   "outputs": [
    {
     "data": {
      "application/vnd.plotly.v1+json": {
       "config": {
        "plotlyServerURL": "https://plot.ly"
       },
       "data": [
        {
         "alignmentgroup": "True",
         "hovertemplate": "Favorite_Genre=Horror<br>Country=%{x}<br>total=%{text}<extra></extra>",
         "legendgroup": "Horror",
         "marker": {
          "color": "rgb(8,48,107)",
          "pattern": {
           "shape": ""
          }
         },
         "name": "Horror",
         "offsetgroup": "Horror",
         "orientation": "v",
         "showlegend": true,
         "text": {
          "_inputArray": {
           "0": 36,
           "1": 27,
           "2": 23,
           "3": 21,
           "4": 20,
           "5": 16,
           "6": 14,
           "bdata": "AAAAAAAAQkAAAAAAAAA7QAAAAAAAADdAAAAAAAAANUAAAAAAAAA0QAAAAAAAADBAAAAAAAAALEA=",
           "dtype": "f8",
           "shape": "7"
          },
          "bdata": "AAAAAAAAQkAAAAAAAAA7QAAAAAAAADdAAAAAAAAANUAAAAAAAAA0QAAAAAAAADBAAAAAAAAALEA=",
          "dtype": "f8"
         },
         "textposition": "outside",
         "texttemplate": "%{text:.0f}",
         "type": "bar",
         "x": [
          "France",
          "Australia",
          "USA",
          "Germany",
          "UK",
          "India",
          "Canada"
         ],
         "xaxis": "x",
         "y": {
          "_inputArray": {
           "0": 36,
           "1": 27,
           "2": 23,
           "3": 21,
           "4": 20,
           "5": 16,
           "6": 14,
           "bdata": "JBsXFRQQDg==",
           "dtype": "i1",
           "shape": "7"
          },
          "bdata": "JBsXFRQQDg==",
          "dtype": "i1"
         },
         "yaxis": "y"
        },
        {
         "alignmentgroup": "True",
         "hovertemplate": "Favorite_Genre=Drama<br>Country=%{x}<br>total=%{text}<extra></extra>",
         "legendgroup": "Drama",
         "marker": {
          "color": "rgb(8,81,156)",
          "pattern": {
           "shape": ""
          }
         },
         "name": "Drama",
         "offsetgroup": "Drama",
         "orientation": "v",
         "showlegend": true,
         "text": {
          "_inputArray": {
           "0": 32,
           "1": 23,
           "2": 23,
           "3": 23,
           "4": 16,
           "5": 15,
           "6": 10,
           "bdata": "AAAAAAAAQEAAAAAAAAA3QAAAAAAAADdAAAAAAAAAN0AAAAAAAAAwQAAAAAAAAC5AAAAAAAAAJEA=",
           "dtype": "f8",
           "shape": "7"
          },
          "bdata": "AAAAAAAAQEAAAAAAAAA3QAAAAAAAADdAAAAAAAAAN0AAAAAAAAAwQAAAAAAAAC5AAAAAAAAAJEA=",
          "dtype": "f8"
         },
         "textposition": "outside",
         "texttemplate": "%{text:.0f}",
         "type": "bar",
         "x": [
          "USA",
          "Germany",
          "UK",
          "Canada",
          "Australia",
          "India",
          "France"
         ],
         "xaxis": "x",
         "y": {
          "_inputArray": {
           "0": 32,
           "1": 23,
           "2": 23,
           "3": 23,
           "4": 16,
           "5": 15,
           "6": 10,
           "bdata": "IBcXFxAPCg==",
           "dtype": "i1",
           "shape": "7"
          },
          "bdata": "IBcXFxAPCg==",
          "dtype": "i1"
         },
         "yaxis": "y"
        },
        {
         "alignmentgroup": "True",
         "hovertemplate": "Favorite_Genre=Comedy<br>Country=%{x}<br>total=%{text}<extra></extra>",
         "legendgroup": "Comedy",
         "marker": {
          "color": "rgb(33,113,181)",
          "pattern": {
           "shape": ""
          }
         },
         "name": "Comedy",
         "offsetgroup": "Comedy",
         "orientation": "v",
         "showlegend": true,
         "text": {
          "_inputArray": {
           "0": 30,
           "1": 21,
           "2": 20,
           "3": 20,
           "4": 20,
           "5": 19,
           "6": 16,
           "bdata": "AAAAAAAAPkAAAAAAAAA1QAAAAAAAADRAAAAAAAAANEAAAAAAAAA0QAAAAAAAADNAAAAAAAAAMEA=",
           "dtype": "f8",
           "shape": "7"
          },
          "bdata": "AAAAAAAAPkAAAAAAAAA1QAAAAAAAADRAAAAAAAAANEAAAAAAAAA0QAAAAAAAADNAAAAAAAAAMEA=",
          "dtype": "f8"
         },
         "textposition": "outside",
         "texttemplate": "%{text:.0f}",
         "type": "bar",
         "x": [
          "UK",
          "Germany",
          "Canada",
          "Australia",
          "France",
          "USA",
          "India"
         ],
         "xaxis": "x",
         "y": {
          "_inputArray": {
           "0": 30,
           "1": 21,
           "2": 20,
           "3": 20,
           "4": 20,
           "5": 19,
           "6": 16,
           "bdata": "HhUUFBQTEA==",
           "dtype": "i1",
           "shape": "7"
          },
          "bdata": "HhUUFBQTEA==",
          "dtype": "i1"
         },
         "yaxis": "y"
        },
        {
         "alignmentgroup": "True",
         "hovertemplate": "Favorite_Genre=Action<br>Country=%{x}<br>total=%{text}<extra></extra>",
         "legendgroup": "Action",
         "marker": {
          "color": "rgb(66,146,198)",
          "pattern": {
           "shape": ""
          }
         },
         "name": "Action",
         "offsetgroup": "Action",
         "orientation": "v",
         "showlegend": true,
         "text": {
          "_inputArray": {
           "0": 28,
           "1": 26,
           "2": 22,
           "3": 22,
           "4": 20,
           "5": 20,
           "6": 12,
           "bdata": "AAAAAAAAPEAAAAAAAAA6QAAAAAAAADZAAAAAAAAANkAAAAAAAAA0QAAAAAAAADRAAAAAAAAAKEA=",
           "dtype": "f8",
           "shape": "7"
          },
          "bdata": "AAAAAAAAPEAAAAAAAAA6QAAAAAAAADZAAAAAAAAANkAAAAAAAAA0QAAAAAAAADRAAAAAAAAAKEA=",
          "dtype": "f8"
         },
         "textposition": "outside",
         "texttemplate": "%{text:.0f}",
         "type": "bar",
         "x": [
          "Germany",
          "USA",
          "UK",
          "Australia",
          "Canada",
          "India",
          "France"
         ],
         "xaxis": "x",
         "y": {
          "_inputArray": {
           "0": 28,
           "1": 26,
           "2": 22,
           "3": 22,
           "4": 20,
           "5": 20,
           "6": 12,
           "bdata": "HBoWFhQUDA==",
           "dtype": "i1",
           "shape": "7"
          },
          "bdata": "HBoWFhQUDA==",
          "dtype": "i1"
         },
         "yaxis": "y"
        },
        {
         "alignmentgroup": "True",
         "hovertemplate": "Favorite_Genre=Romance<br>Country=%{x}<br>total=%{text}<extra></extra>",
         "legendgroup": "Romance",
         "marker": {
          "color": "rgb(107,174,214)",
          "pattern": {
           "shape": ""
          }
         },
         "name": "Romance",
         "offsetgroup": "Romance",
         "orientation": "v",
         "showlegend": true,
         "text": {
          "_inputArray": {
           "0": 26,
           "1": 24,
           "2": 21,
           "3": 20,
           "4": 19,
           "5": 19,
           "6": 17,
           "bdata": "AAAAAAAAOkAAAAAAAAA4QAAAAAAAADVAAAAAAAAANEAAAAAAAAAzQAAAAAAAADNAAAAAAAAAMUA=",
           "dtype": "f8",
           "shape": "7"
          },
          "bdata": "AAAAAAAAOkAAAAAAAAA4QAAAAAAAADVAAAAAAAAANEAAAAAAAAAzQAAAAAAAADNAAAAAAAAAMUA=",
          "dtype": "f8"
         },
         "textposition": "outside",
         "texttemplate": "%{text:.0f}",
         "type": "bar",
         "x": [
          "France",
          "Canada",
          "Germany",
          "India",
          "Australia",
          "USA",
          "UK"
         ],
         "xaxis": "x",
         "y": {
          "_inputArray": {
           "0": 26,
           "1": 24,
           "2": 21,
           "3": 20,
           "4": 19,
           "5": 19,
           "6": 17,
           "bdata": "GhgVFBMTEQ==",
           "dtype": "i1",
           "shape": "7"
          },
          "bdata": "GhgVFBMTEQ==",
          "dtype": "i1"
         },
         "yaxis": "y"
        },
        {
         "alignmentgroup": "True",
         "hovertemplate": "Favorite_Genre=Documentary<br>Country=%{x}<br>total=%{text}<extra></extra>",
         "legendgroup": "Documentary",
         "marker": {
          "color": "rgb(158,202,225)",
          "pattern": {
           "shape": ""
          }
         },
         "name": "Documentary",
         "offsetgroup": "Documentary",
         "orientation": "v",
         "showlegend": true,
         "text": {
          "_inputArray": {
           "0": 24,
           "1": 21,
           "2": 19,
           "3": 19,
           "4": 18,
           "5": 15,
           "6": 14,
           "bdata": "AAAAAAAAOEAAAAAAAAA1QAAAAAAAADNAAAAAAAAAM0AAAAAAAAAyQAAAAAAAAC5AAAAAAAAALEA=",
           "dtype": "f8",
           "shape": "7"
          },
          "bdata": "AAAAAAAAOEAAAAAAAAA1QAAAAAAAADNAAAAAAAAAM0AAAAAAAAAyQAAAAAAAAC5AAAAAAAAALEA=",
          "dtype": "f8"
         },
         "textposition": "outside",
         "texttemplate": "%{text:.0f}",
         "type": "bar",
         "x": [
          "France",
          "USA",
          "Australia",
          "UK",
          "Germany",
          "India",
          "Canada"
         ],
         "xaxis": "x",
         "y": {
          "_inputArray": {
           "0": 24,
           "1": 21,
           "2": 19,
           "3": 19,
           "4": 18,
           "5": 15,
           "6": 14,
           "bdata": "GBUTExIPDg==",
           "dtype": "i1",
           "shape": "7"
          },
          "bdata": "GBUTExIPDg==",
          "dtype": "i1"
         },
         "yaxis": "y"
        },
        {
         "alignmentgroup": "True",
         "hovertemplate": "Favorite_Genre=Sci-Fi<br>Country=%{x}<br>total=%{text}<extra></extra>",
         "legendgroup": "Sci-Fi",
         "marker": {
          "color": "rgb(198,219,239)",
          "pattern": {
           "shape": ""
          }
         },
         "name": "Sci-Fi",
         "offsetgroup": "Sci-Fi",
         "orientation": "v",
         "showlegend": true,
         "text": {
          "_inputArray": {
           "0": 24,
           "1": 23,
           "2": 19,
           "3": 18,
           "4": 17,
           "5": 14,
           "6": 14,
           "bdata": "AAAAAAAAOEAAAAAAAAA3QAAAAAAAADNAAAAAAAAAMkAAAAAAAAAxQAAAAAAAACxAAAAAAAAALEA=",
           "dtype": "f8",
           "shape": "7"
          },
          "bdata": "AAAAAAAAOEAAAAAAAAA3QAAAAAAAADNAAAAAAAAAMkAAAAAAAAAxQAAAAAAAACxAAAAAAAAALEA=",
          "dtype": "f8"
         },
         "textposition": "outside",
         "texttemplate": "%{text:.0f}",
         "type": "bar",
         "x": [
          "Canada",
          "France",
          "UK",
          "USA",
          "Australia",
          "India",
          "Germany"
         ],
         "xaxis": "x",
         "y": {
          "_inputArray": {
           "0": 24,
           "1": 23,
           "2": 19,
           "3": 18,
           "4": 17,
           "5": 14,
           "6": 14,
           "bdata": "GBcTEhEODg==",
           "dtype": "i1",
           "shape": "7"
          },
          "bdata": "GBcTEhEODg==",
          "dtype": "i1"
         },
         "yaxis": "y"
        }
       ],
       "layout": {
        "barmode": "group",
        "height": 650,
        "legend": {
         "title": {
          "text": "Favorite Genre"
         },
         "tracegroupgap": 0
        },
        "margin": {
         "b": 180,
         "l": 100,
         "r": 50,
         "t": 100
        },
        "paper_bgcolor": "rgba(0, 0, 0, 0)",
        "plot_bgcolor": "rgba(0, 0, 0, 0)",
        "template": {
         "data": {
          "pie": [
           {
            "automargin": true,
            "type": "pie"
           }
          ],
          "scatter": [
           {
            "line": {
             "width": 3
            },
            "marker": {
             "size": 9
            },
            "type": "scatter"
           }
          ],
          "scatter3d": [
           {
            "line": {
             "width": 3
            },
            "marker": {
             "size": 9
            },
            "type": "scatter3d"
           }
          ],
          "scattergeo": [
           {
            "line": {
             "width": 3
            },
            "marker": {
             "size": 9
            },
            "type": "scattergeo"
           }
          ],
          "scattergl": [
           {
            "line": {
             "width": 3
            },
            "marker": {
             "size": 9
            },
            "type": "scattergl"
           }
          ],
          "scatterpolar": [
           {
            "line": {
             "width": 3
            },
            "marker": {
             "size": 9
            },
            "type": "scatterpolar"
           }
          ],
          "scatterpolargl": [
           {
            "line": {
             "width": 3
            },
            "marker": {
             "size": 9
            },
            "type": "scatterpolargl"
           }
          ],
          "scatterternary": [
           {
            "line": {
             "width": 3
            },
            "marker": {
             "size": 9
            },
            "type": "scatterternary"
           }
          ],
          "table": [
           {
            "cells": {
             "height": 30
            },
            "header": {
             "height": 36
            },
            "type": "table"
           }
          ]
         },
         "layout": {
          "font": {
           "size": 18
          },
          "xaxis": {
           "title": {
            "standoff": 15
           }
          },
          "yaxis": {
           "title": {
            "standoff": 15
           }
          }
         }
        },
        "title": {
         "text": "Genre Preference by Country"
        },
        "width": 1250,
        "xaxis": {
         "anchor": "y",
         "autorange": true,
         "domain": [
          0,
          1
         ],
         "range": [
          -0.5,
          6.5
         ],
         "title": {
          "text": "Country"
         },
         "type": "category"
        },
        "yaxis": {
         "anchor": "x",
         "autorange": true,
         "domain": [
          0,
          1
         ],
         "range": [
          0,
          37.89473684210526
         ],
         "title": {
          "text": "User Count"
         },
         "type": "linear"
        }
       }
      }
     },
     "metadata": {},
     "output_type": "display_data"
    }
   ],
   "source": [
    "fig = px.bar(\n",
    "    Favorite_genre_country,\n",
    "    x='Country',\n",
    "    y='total',\n",
    "    color='Favorite_Genre',\n",
    "    barmode='group',\n",
    "    title='Genre Preference by Country',\n",
    "    text='total',\n",
    "    color_discrete_sequence=px.colors.sequential.Blues_r,\n",
    "    height=650,\n",
    "    width=1250\n",
    ")\n",
    "\n",
    "fig.update_layout(\n",
    "    xaxis_title='Country',\n",
    "    yaxis_title='User Count',\n",
    "    legend_title='Favorite Genre',\n",
    "    template='presentation',\n",
    "    margin=dict(l=100, r=50, t=100, b=180),\n",
    "    paper_bgcolor=\"rgba(0,0,0,0)\",\n",
    "    plot_bgcolor=\"rgba(0,0,0,0)\",\n",
    ")\n",
    "\n",
    "fig.update_traces(\n",
    "    texttemplate='%{text:.0f}',\n",
    "    textposition='outside'\n",
    ")\n",
    "\n",
    "fig.show()\n",
    "fig.write_image(os.path.join(result_dir, 'Favorite_genre_by_country_Bar_chart.jpg'))\n",
    "fig.write_image(os.path.join(result_dir, 'Favorite_genre_by_country_Bar_chart.png'))\n",
    "fig.write_html(os.path.join(result_dir, 'Favorite_genre_by_country_Bar_chart.html'))\n"
   ]
  },
  {
   "cell_type": "markdown",
   "id": "5d42fea1-cc1c-4a57-b27b-c6750e3c56a8",
   "metadata": {},
   "source": [
    "### Summary Description\n",
    "\n",
    "The data represents the distribution of users' favorite genres across different countries. It reveals key viewing preferences such as Horror being most popular in France and Australia, Drama favored in the USA and Germany, and Comedy preferred in the UK and Canada. This summary highlights regional differences in content preferences, which can help in customizing content offerings and marketing strategies for each country.\n",
    "\n",
    "- **France** has a strong preference for **Horror** (36 users) and **Romance** (26 users).\n",
    "- **USA** users favor **Drama** (32 users), **Action** (26 users), and **Horror** (23 users).\n",
    "- **UK** shows popularity for **Comedy** (30 users) and **Drama** (23 users).\n",
    "- **Germany** users mostly enjoy **Action** (28 users) and **Drama** (23 users).\n",
    "- **Australia**, **Canada**, and **India** have diverse preferences across genres like **Action**, **Romance**, **Comedy**, **Documentary**, and **Sci-Fi**."
   ]
  },
  {
   "cell_type": "markdown",
   "id": "41416b22-dd32-465d-aa09-c2d1671766cd",
   "metadata": {},
   "source": [
    "## Payment method distribution"
   ]
  },
  {
   "cell_type": "code",
   "execution_count": 54,
   "id": "d8127b73-0a41-4730-bb45-f84397c31cb1",
   "metadata": {},
   "outputs": [
    {
     "data": {
      "text/html": [
       "<div>\n",
       "<style scoped>\n",
       "    .dataframe tbody tr th:only-of-type {\n",
       "        vertical-align: middle;\n",
       "    }\n",
       "\n",
       "    .dataframe tbody tr th {\n",
       "        vertical-align: top;\n",
       "    }\n",
       "\n",
       "    .dataframe thead th {\n",
       "        text-align: right;\n",
       "    }\n",
       "</style>\n",
       "<table border=\"1\" class=\"dataframe\">\n",
       "  <thead>\n",
       "    <tr style=\"text-align: right;\">\n",
       "      <th></th>\n",
       "      <th>Payment_Method</th>\n",
       "      <th>Monthly_Price</th>\n",
       "      <th>Loyalty_Points</th>\n",
       "      <th>Monthly_Price_percentage</th>\n",
       "      <th>Loyalty_Points_percentage</th>\n",
       "    </tr>\n",
       "  </thead>\n",
       "  <tbody>\n",
       "    <tr>\n",
       "      <th></th>\n",
       "      <td>Credit Card</td>\n",
       "      <td>11.95</td>\n",
       "      <td>2343.54</td>\n",
       "      <td>24.84</td>\n",
       "      <td>24.01</td>\n",
       "    </tr>\n",
       "    <tr>\n",
       "      <th></th>\n",
       "      <td>Cryptocurrency</td>\n",
       "      <td>12.26</td>\n",
       "      <td>2469.45</td>\n",
       "      <td>25.49</td>\n",
       "      <td>25.30</td>\n",
       "    </tr>\n",
       "    <tr>\n",
       "      <th></th>\n",
       "      <td>Debit Card</td>\n",
       "      <td>11.97</td>\n",
       "      <td>2425.82</td>\n",
       "      <td>24.89</td>\n",
       "      <td>24.85</td>\n",
       "    </tr>\n",
       "    <tr>\n",
       "      <th></th>\n",
       "      <td>PayPal</td>\n",
       "      <td>11.92</td>\n",
       "      <td>2522.76</td>\n",
       "      <td>24.78</td>\n",
       "      <td>25.84</td>\n",
       "    </tr>\n",
       "  </tbody>\n",
       "</table>\n",
       "</div>"
      ],
      "text/plain": [
       "  Payment_Method  Monthly_Price  Loyalty_Points  Monthly_Price_percentage  \\\n",
       "     Credit Card          11.95         2343.54                     24.84   \n",
       "  Cryptocurrency          12.26         2469.45                     25.49   \n",
       "      Debit Card          11.97         2425.82                     24.89   \n",
       "          PayPal          11.92         2522.76                     24.78   \n",
       "\n",
       "  Loyalty_Points_percentage  \n",
       "                      24.01  \n",
       "                      25.30  \n",
       "                      24.85  \n",
       "                      25.84  "
      ]
     },
     "execution_count": 54,
     "metadata": {},
     "output_type": "execute_result"
    }
   ],
   "source": [
    "pay_trends = stream_df.groupby('Payment_Method')[['Monthly_Price', 'Loyalty_Points']].mean().round(2).reset_index()\n",
    "\n",
    "pay_trends['Monthly_Price_percentage'] = (pay_trends['Monthly_Price'] / pay_trends['Monthly_Price'].sum() * 100).round(2)\n",
    "pay_trends['Loyalty_Points_percentage'] = (pay_trends['Loyalty_Points'] / pay_trends['Loyalty_Points'].sum() * 100).round(2)\n",
    "pay_trends.index=['']*len(pay_trends)\n",
    "pay_trends\n"
   ]
  },
  {
   "cell_type": "code",
   "execution_count": 55,
   "id": "8955e14b-e2e0-490b-a14d-4c07e7571907",
   "metadata": {},
   "outputs": [
    {
     "data": {
      "application/vnd.plotly.v1+json": {
       "config": {
        "plotlyServerURL": "https://plot.ly"
       },
       "data": [
        {
         "alignmentgroup": "True",
         "hovertemplate": "Metric=Monthly_Price_percentage<br>Payment_Method=%{x}<br>Percentage=%{text}<extra></extra>",
         "legendgroup": "Monthly_Price_percentage",
         "marker": {
          "color": "rgb(8,48,107)",
          "line": {
           "width": 0
          },
          "pattern": {
           "shape": ""
          }
         },
         "name": "Monthly_Price_percentage",
         "offsetgroup": "Monthly_Price_percentage",
         "orientation": "v",
         "showlegend": true,
         "text": {
          "_inputArray": {
           "0": 24.84,
           "1": 25.49,
           "2": 24.89,
           "3": 24.78,
           "bdata": "16NwPQrXOEA9CtejcH05QKRwPQrX4zhASOF6FK7HOEA=",
           "dtype": "f8",
           "shape": "4"
          },
          "bdata": "16NwPQrXOEA9CtejcH05QKRwPQrX4zhASOF6FK7HOEA=",
          "dtype": "f8"
         },
         "textposition": "inside",
         "texttemplate": "%{text:.1f}%",
         "type": "bar",
         "x": [
          "Credit Card",
          "Cryptocurrency",
          "Debit Card",
          "PayPal"
         ],
         "xaxis": "x",
         "y": {
          "_inputArray": {
           "0": 24.84,
           "1": 25.49,
           "2": 24.89,
           "3": 24.78,
           "bdata": "16NwPQrXOEA9CtejcH05QKRwPQrX4zhASOF6FK7HOEA=",
           "dtype": "f8",
           "shape": "4"
          },
          "bdata": "16NwPQrXOEA9CtejcH05QKRwPQrX4zhASOF6FK7HOEA=",
          "dtype": "f8"
         },
         "yaxis": "y"
        },
        {
         "alignmentgroup": "True",
         "hovertemplate": "Metric=Loyalty_Points_percentage<br>Payment_Method=%{x}<br>Percentage=%{text}<extra></extra>",
         "legendgroup": "Loyalty_Points_percentage",
         "marker": {
          "color": "rgb(8,81,156)",
          "line": {
           "width": 0
          },
          "pattern": {
           "shape": ""
          }
         },
         "name": "Loyalty_Points_percentage",
         "offsetgroup": "Loyalty_Points_percentage",
         "orientation": "v",
         "showlegend": true,
         "text": {
          "_inputArray": {
           "0": 24.01,
           "1": 25.3,
           "2": 24.85,
           "3": 25.84,
           "bdata": "w/UoXI8COEDNzMzMzEw5QJqZmZmZ2ThA16NwPQrXOUA=",
           "dtype": "f8",
           "shape": "4"
          },
          "bdata": "w/UoXI8COEDNzMzMzEw5QJqZmZmZ2ThA16NwPQrXOUA=",
          "dtype": "f8"
         },
         "textposition": "inside",
         "texttemplate": "%{text:.1f}%",
         "type": "bar",
         "x": [
          "Credit Card",
          "Cryptocurrency",
          "Debit Card",
          "PayPal"
         ],
         "xaxis": "x",
         "y": {
          "_inputArray": {
           "0": 24.01,
           "1": 25.3,
           "2": 24.85,
           "3": 25.84,
           "bdata": "w/UoXI8COEDNzMzMzEw5QJqZmZmZ2ThA16NwPQrXOUA=",
           "dtype": "f8",
           "shape": "4"
          },
          "bdata": "w/UoXI8COEDNzMzMzEw5QJqZmZmZ2ThA16NwPQrXOUA=",
          "dtype": "f8"
         },
         "yaxis": "y"
        }
       ],
       "layout": {
        "barmode": "group",
        "height": 600,
        "legend": {
         "font": {
          "size": 12
         },
         "title": {
          "text": "Metric"
         },
         "tracegroupgap": 0
        },
        "margin": {
         "b": 160,
         "l": 100,
         "r": 60,
         "t": 100
        },
        "paper_bgcolor": "rgba(0, 0, 0, 0)",
        "plot_bgcolor": "rgba(0, 0, 0, 0)",
        "showlegend": true,
        "template": {
         "data": {
          "pie": [
           {
            "automargin": true,
            "type": "pie"
           }
          ],
          "scatter": [
           {
            "line": {
             "width": 3
            },
            "marker": {
             "size": 9
            },
            "type": "scatter"
           }
          ],
          "scatter3d": [
           {
            "line": {
             "width": 3
            },
            "marker": {
             "size": 9
            },
            "type": "scatter3d"
           }
          ],
          "scattergeo": [
           {
            "line": {
             "width": 3
            },
            "marker": {
             "size": 9
            },
            "type": "scattergeo"
           }
          ],
          "scattergl": [
           {
            "line": {
             "width": 3
            },
            "marker": {
             "size": 9
            },
            "type": "scattergl"
           }
          ],
          "scatterpolar": [
           {
            "line": {
             "width": 3
            },
            "marker": {
             "size": 9
            },
            "type": "scatterpolar"
           }
          ],
          "scatterpolargl": [
           {
            "line": {
             "width": 3
            },
            "marker": {
             "size": 9
            },
            "type": "scatterpolargl"
           }
          ],
          "scatterternary": [
           {
            "line": {
             "width": 3
            },
            "marker": {
             "size": 9
            },
            "type": "scatterternary"
           }
          ],
          "table": [
           {
            "cells": {
             "height": 30
            },
            "header": {
             "height": 36
            },
            "type": "table"
           }
          ]
         },
         "layout": {
          "font": {
           "size": 18
          },
          "xaxis": {
           "title": {
            "standoff": 15
           }
          },
          "yaxis": {
           "title": {
            "standoff": 15
           }
          }
         }
        },
        "title": {
         "text": "Payment Method Trends"
        },
        "width": 1100,
        "xaxis": {
         "anchor": "y",
         "autorange": true,
         "domain": [
          0,
          1
         ],
         "range": [
          -0.5,
          3.5
         ],
         "tickangle": 0,
         "tickfont": {
          "size": 14
         },
         "title": {
          "text": "Payment Method"
         },
         "type": "category"
        },
        "yaxis": {
         "anchor": "x",
         "autorange": true,
         "domain": [
          0,
          1
         ],
         "range": [
          0,
          27.2
         ],
         "tickfont": {
          "size": 12
         },
         "title": {
          "text": "Percentage (%)"
         },
         "type": "linear"
        }
       }
      }
     },
     "metadata": {},
     "output_type": "display_data"
    }
   ],
   "source": [
    "paypal = ['PayPal']\n",
    "others = pay_trends[pay_trends['Payment_Method'] != 'PayPal'].sort_values(\n",
    "    'Monthly_Price_percentage', ascending=False)['Payment_Method'].tolist()\n",
    "custom_order = paypal + others\n",
    "\n",
    "pay_trends['Payment_Method'] = pd.Categorical(\n",
    "    pay_trends['Payment_Method'], categories=custom_order, ordered=True)\n",
    "\n",
    "melted = pay_trends.melt(\n",
    "    id_vars='Payment_Method',\n",
    "    value_vars=['Monthly_Price_percentage', 'Loyalty_Points_percentage'],\n",
    "    var_name='Metric',\n",
    "    value_name='Percentage'\n",
    ")\n",
    "\n",
    "# Create the bar chart\n",
    "fig = px.bar(\n",
    "    melted,\n",
    "    x='Payment_Method',\n",
    "    y='Percentage',\n",
    "    color='Metric',\n",
    "    barmode='group',\n",
    "    title=\"Payment Method Trends\",\n",
    "    text='Percentage',\n",
    "    color_discrete_sequence=px.colors.sequential.Blues_r,\n",
    "    height=600,\n",
    "    width=1100\n",
    ")\n",
    "\n",
    "fig.update_traces(\n",
    "    texttemplate='%{text:.1f}%',\n",
    "    textposition='inside',\n",
    "    marker_line_width=0\n",
    ")\n",
    "\n",
    "# Update layout\n",
    "fig.update_layout(\n",
    "    xaxis_title=\"Payment Method\",\n",
    "    yaxis_title=\"Percentage (%)\",\n",
    "    template=\"presentation\",\n",
    "    showlegend=True,\n",
    "    legend_title_text=\"Metric\",\n",
    "    margin=dict(l=100, r=60, t=100, b=160),\n",
    "    paper_bgcolor=\"rgba(0,0,0,0)\",\n",
    "    plot_bgcolor=\"rgba(0,0,0,0)\",\n",
    "    xaxis=dict(\n",
    "        tickfont=dict(size=14),\n",
    "        tickangle=0\n",
    "    ),\n",
    "    yaxis=dict(\n",
    "        tickfont=dict(size=12)\n",
    "    ),\n",
    "    legend=dict(\n",
    "        font=dict(size=12)\n",
    "    )\n",
    ")\n",
    "\n",
    "fig.show()\n",
    "\n",
    "fig.write_image(os.path.join(result_dir, 'Payment_Method_Trends_Bar_chart.jpg'))\n",
    "fig.write_image(os.path.join(result_dir, 'Payment_Method_Trends_Bar_chart.png'))\n",
    "fig.write_html(os.path.join(result_dir, 'Payment_Method_Trends_Bar_chart.html'))"
   ]
  },
  {
   "cell_type": "markdown",
   "id": "4ec077ce-01ed-4c69-9d44-b19a3e0621c5",
   "metadata": {},
   "source": [
    "### Payment Method Summary\n",
    "\n",
    "This table provides an overview of user subscription and loyalty statistics by payment method:\n",
    "\n",
    "- **Payment_Method:** Different modes of payment used by users, including Credit Card, Cryptocurrency, Debit Card, and PayPal.\n",
    "- **Monthly_Price:** The average monthly subscription price paid by users for each payment method.\n",
    "- **Loyalty_Points:** The average loyalty points accumulated by users in each payment group.\n",
    "- **Monthly_Price_percentage:** The percentage share of each payment method in the overall monthly price distribution.\n",
    "- **Loyalty_Points_percentage:** The percentage share of loyalty points earned by users of each payment method.\n",
    "\n",
    "The data indicates that Cryptocurrency users pay slightly higher monthly prices and earn a comparable amount of loyalty points, while PayPal users have the highest average loyalty points despite a marginally lower subscription price.\n"
   ]
  },
  {
   "cell_type": "markdown",
   "id": "aa3f5fa3-d473-4c5d-bb0a-850c65240bf1",
   "metadata": {},
   "source": [
    "### Device behavior analysis"
   ]
  },
  {
   "cell_type": "code",
   "execution_count": 58,
   "id": "549e683d-9e26-4715-acc6-6e861cf63e62",
   "metadata": {},
   "outputs": [
    {
     "data": {
      "text/html": [
       "<div>\n",
       "<style scoped>\n",
       "    .dataframe tbody tr th:only-of-type {\n",
       "        vertical-align: middle;\n",
       "    }\n",
       "\n",
       "    .dataframe tbody tr th {\n",
       "        vertical-align: top;\n",
       "    }\n",
       "\n",
       "    .dataframe thead th {\n",
       "        text-align: right;\n",
       "    }\n",
       "</style>\n",
       "<table border=\"1\" class=\"dataframe\">\n",
       "  <thead>\n",
       "    <tr style=\"text-align: right;\">\n",
       "      <th></th>\n",
       "      <th>First_Device_Used</th>\n",
       "      <th>Average_Watch_Hours</th>\n",
       "    </tr>\n",
       "  </thead>\n",
       "  <tbody>\n",
       "    <tr>\n",
       "      <th></th>\n",
       "      <td>Smartphone</td>\n",
       "      <td>271.84</td>\n",
       "    </tr>\n",
       "    <tr>\n",
       "      <th></th>\n",
       "      <td>Desktop</td>\n",
       "      <td>261.76</td>\n",
       "    </tr>\n",
       "    <tr>\n",
       "      <th></th>\n",
       "      <td>Smart TV</td>\n",
       "      <td>257.72</td>\n",
       "    </tr>\n",
       "    <tr>\n",
       "      <th></th>\n",
       "      <td>Tablet</td>\n",
       "      <td>243.98</td>\n",
       "    </tr>\n",
       "    <tr>\n",
       "      <th></th>\n",
       "      <td>Laptop</td>\n",
       "      <td>235.45</td>\n",
       "    </tr>\n",
       "  </tbody>\n",
       "</table>\n",
       "</div>"
      ],
      "text/plain": [
       " First_Device_Used  Average_Watch_Hours\n",
       "        Smartphone               271.84\n",
       "           Desktop               261.76\n",
       "          Smart TV               257.72\n",
       "            Tablet               243.98\n",
       "            Laptop               235.45"
      ]
     },
     "execution_count": 58,
     "metadata": {},
     "output_type": "execute_result"
    }
   ],
   "source": [
    "device_watch = (\n",
    "    stream_df.groupby('First_Device_Used')['Watch_Hours']\n",
    "    .mean()\n",
    "    .round(2)\n",
    "    .reset_index(name='Average_Watch_Hours')\n",
    "    .sort_values(by='Average_Watch_Hours', ascending=False)\n",
    ")\n",
    "device_watch.index=['']*len(device_watch)\n",
    "device_watch\n"
   ]
  },
  {
   "cell_type": "code",
   "execution_count": 59,
   "id": "00df9ed7-4f13-457b-9687-07df36604834",
   "metadata": {},
   "outputs": [
    {
     "data": {
      "application/vnd.plotly.v1+json": {
       "config": {
        "plotlyServerURL": "https://plot.ly"
       },
       "data": [
        {
         "hovertemplate": "First_Device_Used=%{x}<br>Average_Watch_Hours=%{text}<extra></extra>",
         "legendgroup": "",
         "marker": {
          "color": "#1f77b4",
          "opacity": 0.7,
          "pattern": {
           "shape": ""
          }
         },
         "name": "",
         "orientation": "v",
         "showlegend": false,
         "text": {
          "_inputArray": {
           "0": 271.84,
           "1": 261.76,
           "2": 257.72,
           "3": 243.98,
           "4": 235.45,
           "bdata": "PQrXo3D9cEBcj8L1KFxwQOxRuB6FG3BAj8L1KFx/bkBmZmZmZm5tQA==",
           "dtype": "f8",
           "shape": "5"
          },
          "bdata": "PQrXo3D9cEBcj8L1KFxwQOxRuB6FG3BAj8L1KFx/bkBmZmZmZm5tQA==",
          "dtype": "f8"
         },
         "textfont": {
          "color": "white"
         },
         "textposition": "inside",
         "texttemplate": "%{text:.2f}",
         "type": "bar",
         "x": [
          "Smartphone",
          "Desktop",
          "Smart TV",
          "Tablet",
          "Laptop"
         ],
         "xaxis": "x",
         "y": {
          "_inputArray": {
           "0": 271.84,
           "1": 261.76,
           "2": 257.72,
           "3": 243.98,
           "4": 235.45,
           "bdata": "PQrXo3D9cEBcj8L1KFxwQOxRuB6FG3BAj8L1KFx/bkBmZmZmZm5tQA==",
           "dtype": "f8",
           "shape": "5"
          },
          "bdata": "PQrXo3D9cEBcj8L1KFxwQOxRuB6FG3BAj8L1KFx/bkBmZmZmZm5tQA==",
          "dtype": "f8"
         },
         "yaxis": "y"
        }
       ],
       "layout": {
        "barmode": "relative",
        "height": 600,
        "legend": {
         "tracegroupgap": 0
        },
        "margin": {
         "b": 80,
         "l": 60,
         "r": 40,
         "t": 80
        },
        "paper_bgcolor": "rgba(0, 0, 0, 0)",
        "plot_bgcolor": "rgba(0, 0, 0, 0)",
        "showlegend": false,
        "template": {
         "data": {
          "pie": [
           {
            "automargin": true,
            "type": "pie"
           }
          ],
          "scatter": [
           {
            "line": {
             "width": 3
            },
            "marker": {
             "size": 9
            },
            "type": "scatter"
           }
          ],
          "scatter3d": [
           {
            "line": {
             "width": 3
            },
            "marker": {
             "size": 9
            },
            "type": "scatter3d"
           }
          ],
          "scattergeo": [
           {
            "line": {
             "width": 3
            },
            "marker": {
             "size": 9
            },
            "type": "scattergeo"
           }
          ],
          "scattergl": [
           {
            "line": {
             "width": 3
            },
            "marker": {
             "size": 9
            },
            "type": "scattergl"
           }
          ],
          "scatterpolar": [
           {
            "line": {
             "width": 3
            },
            "marker": {
             "size": 9
            },
            "type": "scatterpolar"
           }
          ],
          "scatterpolargl": [
           {
            "line": {
             "width": 3
            },
            "marker": {
             "size": 9
            },
            "type": "scatterpolargl"
           }
          ],
          "scatterternary": [
           {
            "line": {
             "width": 3
            },
            "marker": {
             "size": 9
            },
            "type": "scatterternary"
           }
          ],
          "table": [
           {
            "cells": {
             "height": 30
            },
            "header": {
             "height": 36
            },
            "type": "table"
           }
          ]
         },
         "layout": {
          "font": {
           "size": 18
          },
          "xaxis": {
           "title": {
            "standoff": 15
           }
          },
          "yaxis": {
           "title": {
            "standoff": 15
           }
          }
         }
        },
        "title": {
         "text": "Device Watching Hours"
        },
        "width": 1100,
        "xaxis": {
         "anchor": "y",
         "automargin": true,
         "autorange": true,
         "domain": [
          0,
          1
         ],
         "range": [
          -0.5,
          4.5
         ],
         "tickangle": 0,
         "title": {
          "text": "Device Used"
         },
         "type": "category"
        },
        "yaxis": {
         "anchor": "x",
         "autorange": true,
         "domain": [
          0,
          1
         ],
         "range": [
          0,
          286.1473684210526
         ],
         "title": {
          "text": "Average Watch Hours"
         },
         "type": "linear"
        }
       }
      }
     },
     "metadata": {},
     "output_type": "display_data"
    }
   ],
   "source": [
    "fig = px.bar(\n",
    "    device_watch,\n",
    "    x='First_Device_Used',\n",
    "    y='Average_Watch_Hours',\n",
    "    title='Device Watching Hours',\n",
    "    text='Average_Watch_Hours',\n",
    "    color_discrete_sequence=['#1f77b4'],\n",
    "    height=600,\n",
    "    width=1100\n",
    ")\n",
    "\n",
    "fig.update_layout(\n",
    "    xaxis_title='Device Used',\n",
    "    yaxis_title='Average Watch Hours',\n",
    "    template='presentation',\n",
    "    showlegend=False,\n",
    "    margin=dict(l=60, r=40, t=80, b=80),\n",
    "    paper_bgcolor=\"rgba(0, 0, 0, 0)\",\n",
    "    plot_bgcolor=\"rgba(0, 0, 0, 0)\"\n",
    ")\n",
    "\n",
    "fig.update_traces(\n",
    "    texttemplate='%{text:.2f}',\n",
    "    textposition='inside',\n",
    "    textfont_color='white',\n",
    "    marker_opacity=0.7\n",
    ")\n",
    "\n",
    "fig.update_xaxes(tickangle=0, automargin=True)\n",
    "\n",
    "fig.show()\n",
    "\n",
    "fig.write_image(os.path.join(result_dir, 'Device_watching_Hours_Bar_chart.jpg'))\n",
    "fig.write_image(os.path.join(result_dir, 'Device_watching_Hours_Bar_chart.png'))\n",
    "fig.write_html(os.path.join(result_dir, 'Device_watching_Hours_Bar_chart.html'))\n"
   ]
  },
  {
   "cell_type": "markdown",
   "id": "60323f8f-7195-49a7-b82d-75de32c52668",
   "metadata": {},
   "source": [
    "\n",
    "\n",
    "This table shows the average watch hours based on the first device used by viewers:\n",
    "\n",
    "- **First_Device_Used:** The device users first accessed the streaming service on, including Smartphone, Desktop, Smart TV, Tablet, and Laptop.\n",
    "- **Average_Watch_Hours:** The average number of hours watched by users who started on each device.\n",
    "\n",
    "Key insights:\n",
    "- Users who first accessed via **Smartphone** have the highest average watch hours (271.84 hours).\n",
    "- Desktop and Smart TV users follow closely with averages of 261.76 and 257.72 hours, respectively.\n",
    "- Tablet and Laptop users have comparatively lower average watch hours, at 243.98 and 235.45 hours.\n"
   ]
  },
  {
   "cell_type": "markdown",
   "id": "dbf2afa4-b2ff-4310-bf36-339a4523c497",
   "metadata": {},
   "source": [
    "## Device usage disribution"
   ]
  },
  {
   "cell_type": "code",
   "execution_count": 62,
   "id": "2a0effcf-e8a1-4abb-b089-df5c8e83ad8f",
   "metadata": {},
   "outputs": [
    {
     "data": {
      "application/vnd.plotly.v1+json": {
       "config": {
        "plotlyServerURL": "https://plot.ly"
       },
       "data": [
        {
         "hovertemplate": "Device=%{x}<br>Count=%{text}<extra></extra>",
         "legendgroup": "",
         "marker": {
          "color": "#1f77b4",
          "pattern": {
           "shape": ""
          }
         },
         "name": "",
         "orientation": "v",
         "showlegend": false,
         "text": {
          "_inputArray": {
           "0": 215,
           "1": 209,
           "2": 209,
           "3": 189,
           "4": 178,
           "bdata": "AAAAAADgakAAAAAAACBqQAAAAAAAIGpAAAAAAACgZ0AAAAAAAEBmQA==",
           "dtype": "f8",
           "shape": "5"
          },
          "bdata": "AAAAAADgakAAAAAAACBqQAAAAAAAIGpAAAAAAACgZ0AAAAAAAEBmQA==",
          "dtype": "f8"
         },
         "textposition": "outside",
         "texttemplate": "%{text}",
         "type": "bar",
         "x": [
          "Tablet",
          "Smartphone",
          "Smart TV",
          "Desktop",
          "Laptop"
         ],
         "xaxis": "x",
         "y": {
          "_inputArray": {
           "0": 215,
           "1": 209,
           "2": 209,
           "3": 189,
           "4": 178,
           "bdata": "1wDRANEAvQCyAA==",
           "dtype": "i2",
           "shape": "5"
          },
          "bdata": "1wDRANEAvQCyAA==",
          "dtype": "i2"
         },
         "yaxis": "y"
        }
       ],
       "layout": {
        "barmode": "relative",
        "height": 600,
        "legend": {
         "tracegroupgap": 0
        },
        "paper_bgcolor": "rgba(0, 0, 0, 0)",
        "plot_bgcolor": "rgba(0, 0, 0, 0)",
        "showlegend": false,
        "template": {
         "data": {
          "pie": [
           {
            "automargin": true,
            "type": "pie"
           }
          ],
          "scatter": [
           {
            "line": {
             "width": 3
            },
            "marker": {
             "size": 9
            },
            "type": "scatter"
           }
          ],
          "scatter3d": [
           {
            "line": {
             "width": 3
            },
            "marker": {
             "size": 9
            },
            "type": "scatter3d"
           }
          ],
          "scattergeo": [
           {
            "line": {
             "width": 3
            },
            "marker": {
             "size": 9
            },
            "type": "scattergeo"
           }
          ],
          "scattergl": [
           {
            "line": {
             "width": 3
            },
            "marker": {
             "size": 9
            },
            "type": "scattergl"
           }
          ],
          "scatterpolar": [
           {
            "line": {
             "width": 3
            },
            "marker": {
             "size": 9
            },
            "type": "scatterpolar"
           }
          ],
          "scatterpolargl": [
           {
            "line": {
             "width": 3
            },
            "marker": {
             "size": 9
            },
            "type": "scatterpolargl"
           }
          ],
          "scatterternary": [
           {
            "line": {
             "width": 3
            },
            "marker": {
             "size": 9
            },
            "type": "scatterternary"
           }
          ],
          "table": [
           {
            "cells": {
             "height": 30
            },
            "header": {
             "height": 36
            },
            "type": "table"
           }
          ]
         },
         "layout": {
          "font": {
           "size": 18
          },
          "xaxis": {
           "title": {
            "standoff": 15
           }
          },
          "yaxis": {
           "title": {
            "standoff": 15
           }
          }
         }
        },
        "title": {
         "text": "Device Usage Distribution"
        },
        "width": 1100,
        "xaxis": {
         "anchor": "y",
         "autorange": true,
         "domain": [
          0,
          1
         ],
         "range": [
          -0.5,
          4.5
         ],
         "title": {
          "standoff": 50,
          "text": "Device Used"
         },
         "type": "category"
        },
        "yaxis": {
         "anchor": "x",
         "autorange": true,
         "domain": [
          0,
          1
         ],
         "range": [
          0,
          226.31578947368422
         ],
         "title": {
          "text": "User Count"
         },
         "type": "linear"
        }
       }
      }
     },
     "metadata": {},
     "output_type": "display_data"
    }
   ],
   "source": [
    "device_counts = stream_df[\"First_Device_Used\"].value_counts().reset_index()\n",
    "device_counts.columns = [\"Device\", \"Count\"]\n",
    "\n",
    "fig = px.bar(\n",
    "    device_counts,\n",
    "    x=\"Device\",\n",
    "    y=\"Count\",\n",
    "    title=\"Device Usage Distribution\",\n",
    "    text=\"Count\",\n",
    "    color_discrete_sequence=['#1f77b4'],\n",
    "    height=600,\n",
    "    width=1100\n",
    ")\n",
    "\n",
    "fig.update_traces(texttemplate=\"%{text}\", textposition=\"outside\")\n",
    "\n",
    "fig.update_layout(\n",
    "    template=\"presentation\",\n",
    "    xaxis_title=\"Device Used\",\n",
    "    yaxis_title=\"User Count\",\n",
    "    xaxis_title_standoff=50,\n",
    "    legend_title_text=None,\n",
    "    showlegend=False,\n",
    "    paper_bgcolor=\"rgba(0, 0, 0, 0)\",\n",
    "    plot_bgcolor=\"rgba(0, 0, 0, 0)\"\n",
    ")\n",
    "\n",
    "fig.show()\n",
    "\n",
    "fig.write_image(os.path.join(result_dir, 'Device_Usage_Distribution_Bar_chart.jpg'))\n",
    "fig.write_image(os.path.join(result_dir, 'Device_Usage_Distribution_Bar_chart.png'))\n",
    "fig.write_html(os.path.join(result_dir, 'Device_Usage_Distribution_Bar_chart.html'))\n"
   ]
  },
  {
   "cell_type": "markdown",
   "id": "3cfecd5f-5b6d-4d72-95c1-435ea60ca095",
   "metadata": {},
   "source": [
    "Most of the users or viewers like to use **Tablets** followed by **Smartphone**"
   ]
  },
  {
   "cell_type": "markdown",
   "id": "44e90f12-4695-4ec1-a91b-d67bd6c296fc",
   "metadata": {},
   "source": [
    "### Watching hours per day"
   ]
  },
  {
   "cell_type": "code",
   "execution_count": 67,
   "id": "ce5b43b3-9edc-4366-9d8e-d74e123638eb",
   "metadata": {},
   "outputs": [
    {
     "data": {
      "text/html": [
       "<div>\n",
       "<style scoped>\n",
       "    .dataframe tbody tr th:only-of-type {\n",
       "        vertical-align: middle;\n",
       "    }\n",
       "\n",
       "    .dataframe tbody tr th {\n",
       "        vertical-align: top;\n",
       "    }\n",
       "\n",
       "    .dataframe thead th {\n",
       "        text-align: right;\n",
       "    }\n",
       "</style>\n",
       "<table border=\"1\" class=\"dataframe\">\n",
       "  <thead>\n",
       "    <tr style=\"text-align: right;\">\n",
       "      <th></th>\n",
       "      <th>Primary_Watch_Time</th>\n",
       "      <th>Average_Watch_Hours</th>\n",
       "    </tr>\n",
       "  </thead>\n",
       "  <tbody>\n",
       "    <tr>\n",
       "      <th></th>\n",
       "      <td>Morning</td>\n",
       "      <td>272.33</td>\n",
       "    </tr>\n",
       "    <tr>\n",
       "      <th></th>\n",
       "      <td>Evening</td>\n",
       "      <td>255.39</td>\n",
       "    </tr>\n",
       "    <tr>\n",
       "      <th></th>\n",
       "      <td>Afternoon</td>\n",
       "      <td>247.08</td>\n",
       "    </tr>\n",
       "    <tr>\n",
       "      <th></th>\n",
       "      <td>Late Night</td>\n",
       "      <td>245.98</td>\n",
       "    </tr>\n",
       "  </tbody>\n",
       "</table>\n",
       "</div>"
      ],
      "text/plain": [
       " Primary_Watch_Time  Average_Watch_Hours\n",
       "            Morning               272.33\n",
       "            Evening               255.39\n",
       "          Afternoon               247.08\n",
       "         Late Night               245.98"
      ]
     },
     "execution_count": 67,
     "metadata": {},
     "output_type": "execute_result"
    }
   ],
   "source": [
    "time_watch = (\n",
    "    stream_df.groupby('Primary_Watch_Time')['Watch_Hours']\n",
    "    .mean()\n",
    "    .round(2)\n",
    "    .reset_index(name='Average_Watch_Hours')\n",
    "    .sort_values(by='Average_Watch_Hours', ascending=False)\n",
    ")\n",
    "time_watch.index=['']*len(time_watch)\n",
    "time_watch"
   ]
  },
  {
   "cell_type": "code",
   "execution_count": 68,
   "id": "b85c290b-8272-4ca7-b4fb-e96610df6b33",
   "metadata": {},
   "outputs": [
    {
     "data": {
      "application/vnd.plotly.v1+json": {
       "config": {
        "plotlyServerURL": "https://plot.ly"
       },
       "data": [
        {
         "hovertemplate": "Primary_Watch_Time=%{x}<br>Average_Watch_Hours=%{text}<extra></extra>",
         "legendgroup": "",
         "marker": {
          "color": "#1f77b4",
          "pattern": {
           "shape": ""
          }
         },
         "name": "",
         "orientation": "v",
         "showlegend": false,
         "text": {
          "_inputArray": {
           "0": 272.33,
           "1": 255.39,
           "2": 247.08,
           "3": 245.98,
           "bdata": "4XoUrkcFcUAUrkfheuxvQMP1KFyP4m5Aj8L1KFy/bkA=",
           "dtype": "f8",
           "shape": "4"
          },
          "bdata": "4XoUrkcFcUAUrkfheuxvQMP1KFyP4m5Aj8L1KFy/bkA=",
          "dtype": "f8"
         },
         "textposition": "outside",
         "texttemplate": "%{text}",
         "type": "bar",
         "x": [
          "Morning",
          "Evening",
          "Afternoon",
          "Late Night"
         ],
         "xaxis": "x",
         "y": {
          "_inputArray": {
           "0": 272.33,
           "1": 255.39,
           "2": 247.08,
           "3": 245.98,
           "bdata": "4XoUrkcFcUAUrkfheuxvQMP1KFyP4m5Aj8L1KFy/bkA=",
           "dtype": "f8",
           "shape": "4"
          },
          "bdata": "4XoUrkcFcUAUrkfheuxvQMP1KFyP4m5Aj8L1KFy/bkA=",
          "dtype": "f8"
         },
         "yaxis": "y"
        }
       ],
       "layout": {
        "barmode": "relative",
        "height": 600,
        "legend": {
         "tracegroupgap": 0
        },
        "paper_bgcolor": "rgba(0, 0, 0, 0)",
        "plot_bgcolor": "rgba(0, 0, 0, 0)",
        "showlegend": false,
        "template": {
         "data": {
          "pie": [
           {
            "automargin": true,
            "type": "pie"
           }
          ],
          "scatter": [
           {
            "line": {
             "width": 3
            },
            "marker": {
             "size": 9
            },
            "type": "scatter"
           }
          ],
          "scatter3d": [
           {
            "line": {
             "width": 3
            },
            "marker": {
             "size": 9
            },
            "type": "scatter3d"
           }
          ],
          "scattergeo": [
           {
            "line": {
             "width": 3
            },
            "marker": {
             "size": 9
            },
            "type": "scattergeo"
           }
          ],
          "scattergl": [
           {
            "line": {
             "width": 3
            },
            "marker": {
             "size": 9
            },
            "type": "scattergl"
           }
          ],
          "scatterpolar": [
           {
            "line": {
             "width": 3
            },
            "marker": {
             "size": 9
            },
            "type": "scatterpolar"
           }
          ],
          "scatterpolargl": [
           {
            "line": {
             "width": 3
            },
            "marker": {
             "size": 9
            },
            "type": "scatterpolargl"
           }
          ],
          "scatterternary": [
           {
            "line": {
             "width": 3
            },
            "marker": {
             "size": 9
            },
            "type": "scatterternary"
           }
          ],
          "table": [
           {
            "cells": {
             "height": 30
            },
            "header": {
             "height": 36
            },
            "type": "table"
           }
          ]
         },
         "layout": {
          "font": {
           "size": 18
          },
          "xaxis": {
           "title": {
            "standoff": 15
           }
          },
          "yaxis": {
           "title": {
            "standoff": 15
           }
          }
         }
        },
        "title": {
         "text": "Watch Hours per Day"
        },
        "width": 1100,
        "xaxis": {
         "anchor": "y",
         "autorange": true,
         "domain": [
          0,
          1
         ],
         "range": [
          -0.5,
          3.5
         ],
         "title": {
          "standoff": 50,
          "text": "Time of Day"
         },
         "type": "category"
        },
        "yaxis": {
         "anchor": "x",
         "autorange": true,
         "domain": [
          0,
          1
         ],
         "range": [
          0,
          286.6631578947368
         ],
         "title": {
          "text": "Average Watch Hours"
         },
         "type": "linear"
        }
       }
      }
     },
     "metadata": {},
     "output_type": "display_data"
    }
   ],
   "source": [
    "time_watch = (\n",
    "    stream_df.groupby('Primary_Watch_Time')['Watch_Hours']\n",
    "    .mean()\n",
    "    .round(2)\n",
    "    .reset_index(name='Average_Watch_Hours')\n",
    "    .sort_values(by='Average_Watch_Hours', ascending=False)\n",
    ")\n",
    "\n",
    "\n",
    "fig = px.bar(\n",
    "    time_watch,\n",
    "    x='Primary_Watch_Time',\n",
    "    y='Average_Watch_Hours',\n",
    "    title='Watch Hours per Day',\n",
    "    text='Average_Watch_Hours',\n",
    "    color_discrete_sequence=['#1f77b4'],\n",
    "    height=600,\n",
    "    width=1100\n",
    ")\n",
    "\n",
    "fig.update_traces(\n",
    "    texttemplate='%{text}',\n",
    "    textposition='outside'\n",
    ")\n",
    "\n",
    "fig.update_layout(\n",
    "    template=\"presentation\",\n",
    "    xaxis_title=\"Time of Day\",\n",
    "    yaxis_title=\"Average Watch Hours\",\n",
    "    xaxis_title_standoff=50,\n",
    "    legend_title_text=None,\n",
    "    showlegend=False,\n",
    "    paper_bgcolor=\"rgba(0, 0, 0, 0)\",\n",
    "    plot_bgcolor=\"rgba(0, 0, 0, 0)\"\n",
    ")\n",
    "\n",
    "\n",
    "fig.show()\n",
    "\n",
    "\n",
    "fig.write_image(os.path.join(result_dir, 'Watch_Hours_per_Day_Bar_chart.jpg'))\n",
    "fig.write_image(os.path.join(result_dir, 'Watch_Hours_per_Day_Bar_chart.png'))\n",
    "fig.write_html(os.path.join(result_dir, 'Watch_Hours_per_Day_Bar_chart.html'))\n"
   ]
  },
  {
   "cell_type": "markdown",
   "id": "b2cc8203-93f8-4530-a1d0-52d130f537ba",
   "metadata": {},
   "source": [
    "\n",
    "This table presents the average watch hours based on the primary time of day users watch content:\n",
    "\n",
    "- **Primary_Watch_Time:** The main time period when users watch content (Morning, Afternoon, Evening, Late Night).\n",
    "- **Average_Watch_Hours:** The average number of hours watched by users during each time period.\n",
    "\n",
    "Key insights:\n",
    "- Users watching primarily in the **Morning** have the highest average watch hours (272.33 hours).\n",
    "- Watching during the **Evening** follows with an average of 255.39 hours.\n",
    "- The **Afternoon** and **Late Night** watch periods have slightly lower averages of 247.08 and 245.98 hours, respectively.\n"
   ]
  },
  {
   "cell_type": "markdown",
   "id": "b5336370-5ee5-4e3c-a7ba-9e9e82a9a6c4",
   "metadata": {},
   "source": [
    "## Preffered watching time"
   ]
  },
  {
   "cell_type": "code",
   "execution_count": 71,
   "id": "96151876-c564-4ffa-9b6d-4ccf2622f916",
   "metadata": {},
   "outputs": [
    {
     "data": {
      "application/vnd.plotly.v1+json": {
       "config": {
        "plotlyServerURL": "https://plot.ly"
       },
       "data": [
        {
         "hovertemplate": "Primary_Watch_Time=%{x}<br>User_Count=%{text}<extra></extra>",
         "legendgroup": "",
         "marker": {
          "color": "#1f77b4",
          "pattern": {
           "shape": ""
          }
         },
         "name": "",
         "orientation": "v",
         "showlegend": false,
         "text": {
          "_inputArray": {
           "0": 271,
           "1": 256,
           "2": 251,
           "3": 222,
           "bdata": "AAAAAADwcEAAAAAAAABwQAAAAAAAYG9AAAAAAADAa0A=",
           "dtype": "f8",
           "shape": "4"
          },
          "bdata": "AAAAAADwcEAAAAAAAABwQAAAAAAAYG9AAAAAAADAa0A=",
          "dtype": "f8"
         },
         "textposition": "outside",
         "texttemplate": "%{text}",
         "type": "bar",
         "x": [
          "Late Night",
          "Evening",
          "Afternoon",
          "Morning"
         ],
         "xaxis": "x",
         "y": {
          "_inputArray": {
           "0": 271,
           "1": 256,
           "2": 251,
           "3": 222,
           "bdata": "DwEAAfsA3gA=",
           "dtype": "i2",
           "shape": "4"
          },
          "bdata": "DwEAAfsA3gA=",
          "dtype": "i2"
         },
         "yaxis": "y"
        }
       ],
       "layout": {
        "barmode": "relative",
        "height": 600,
        "legend": {
         "tracegroupgap": 0
        },
        "paper_bgcolor": "rgba(0, 0, 0, 0)",
        "plot_bgcolor": "rgba(0, 0, 0, 0)",
        "showlegend": false,
        "template": {
         "data": {
          "pie": [
           {
            "automargin": true,
            "type": "pie"
           }
          ],
          "scatter": [
           {
            "line": {
             "width": 3
            },
            "marker": {
             "size": 9
            },
            "type": "scatter"
           }
          ],
          "scatter3d": [
           {
            "line": {
             "width": 3
            },
            "marker": {
             "size": 9
            },
            "type": "scatter3d"
           }
          ],
          "scattergeo": [
           {
            "line": {
             "width": 3
            },
            "marker": {
             "size": 9
            },
            "type": "scattergeo"
           }
          ],
          "scattergl": [
           {
            "line": {
             "width": 3
            },
            "marker": {
             "size": 9
            },
            "type": "scattergl"
           }
          ],
          "scatterpolar": [
           {
            "line": {
             "width": 3
            },
            "marker": {
             "size": 9
            },
            "type": "scatterpolar"
           }
          ],
          "scatterpolargl": [
           {
            "line": {
             "width": 3
            },
            "marker": {
             "size": 9
            },
            "type": "scatterpolargl"
           }
          ],
          "scatterternary": [
           {
            "line": {
             "width": 3
            },
            "marker": {
             "size": 9
            },
            "type": "scatterternary"
           }
          ],
          "table": [
           {
            "cells": {
             "height": 30
            },
            "header": {
             "height": 36
            },
            "type": "table"
           }
          ]
         },
         "layout": {
          "font": {
           "size": 18
          },
          "xaxis": {
           "title": {
            "standoff": 15
           }
          },
          "yaxis": {
           "title": {
            "standoff": 15
           }
          }
         }
        },
        "title": {
         "text": "Preferred Watching Time"
        },
        "width": 1100,
        "xaxis": {
         "anchor": "y",
         "autorange": true,
         "domain": [
          0,
          1
         ],
         "range": [
          -0.5,
          3.5
         ],
         "title": {
          "standoff": 50,
          "text": "Watching Time"
         },
         "type": "category"
        },
        "yaxis": {
         "anchor": "x",
         "autorange": true,
         "domain": [
          0,
          1
         ],
         "range": [
          0,
          285.2631578947368
         ],
         "title": {
          "text": "Number of Users"
         },
         "type": "linear"
        }
       }
      }
     },
     "metadata": {},
     "output_type": "display_data"
    }
   ],
   "source": [
    "watch_time = stream_df[\"Primary_Watch_Time\"].value_counts().reset_index()\n",
    "watch_time.columns = [\"Primary_Watch_Time\", \"User_Count\"]\n",
    "\n",
    "fig = px.bar(\n",
    "    watch_time,\n",
    "    x=\"Primary_Watch_Time\",\n",
    "    y=\"User_Count\",\n",
    "    title=\"Preferred Watching Time\",\n",
    "    text=\"User_Count\",\n",
    "    color_discrete_sequence=['#1f77b4'], \n",
    "    height=600,\n",
    "    width=1100\n",
    ")\n",
    "\n",
    "fig.update_traces(texttemplate=\"%{text}\", textposition=\"outside\")\n",
    "\n",
    "fig.update_layout(\n",
    "    template=\"presentation\",\n",
    "    xaxis_title=\"Watching Time\",\n",
    "    yaxis_title=\"Number of Users\",\n",
    "    xaxis_title_standoff=50,\n",
    "    legend_title_text=None,\n",
    "    showlegend=False,\n",
    "    paper_bgcolor=\"rgba(0, 0, 0, 0)\",\n",
    "    plot_bgcolor=\"rgba(0, 0, 0, 0)\"\n",
    ")\n",
    "\n",
    "fig.show()\n",
    "\n",
    "\n",
    "fig.write_image(os.path.join(result_dir, 'Preferred_Watching_Time_Bar_chart.jpg'))\n",
    "fig.write_image(os.path.join(result_dir, 'Preferred_Watching_Time_Bar_chart.png'))\n",
    "fig.write_html(os.path.join(result_dir, 'Preferred_Watching_Time_Bar_chart.html'))\n"
   ]
  },
  {
   "cell_type": "markdown",
   "id": "16097c05-bd9b-4629-8e72-be69d9082cbf",
   "metadata": {},
   "source": [
    "This table presents the data based on the primary time of day users watch content:\n",
    "\n",
    "- **Primary_Watch_Time:** The main time period when users watch content (Morning, Afternoon, Evening, Late Night).\n",
    "Key insights:\n",
    "- Many Users watch primarily in the **late night** with 271 viewers\n",
    "- Watching during the **Evening** follows with 256\n",
    "- The **Afternoon** and **morning** watch periods have slightly low number of viewers respectively."
   ]
  },
  {
   "cell_type": "markdown",
   "id": "7375586b-d9bc-4045-9522-dbbc07e0b0f5",
   "metadata": {},
   "source": [
    "## Genre ratings"
   ]
  },
  {
   "cell_type": "code",
   "execution_count": 74,
   "id": "273f2c8f-e068-4027-9667-7ddbe22fd8ad",
   "metadata": {},
   "outputs": [
    {
     "data": {
      "application/vnd.plotly.v1+json": {
       "config": {
        "plotlyServerURL": "https://plot.ly"
       },
       "data": [
        {
         "hovertemplate": "Average_Rating=%{marker.color}<br>Genre=%{y}<br>Rating_Count=%{marker.size}<extra></extra>",
         "legendgroup": "",
         "marker": {
          "color": {
           "_inputArray": {
            "0": 3.999333333333333,
            "1": 4.017123287671233,
            "2": 4.018461538461538,
            "3": 4.028169014084507,
            "4": 3.977707006369427,
            "5": 4.0034246575342465,
            "6": 4.034883720930233,
            "bdata": "McGDeaL+D0AZMWLEiBEQQGG035TnEhBAmwOJVtgcEED9aQsNWNIPQDhw4MCBAxBAiTvijrgjEEA=",
            "dtype": "f8",
            "shape": "7"
           },
           "bdata": "McGDeaL+D0AZMWLEiBEQQGG035TnEhBAmwOJVtgcEED9aQsNWNIPQDhw4MCBAxBAiTvijrgjEEA=",
           "dtype": "f8"
          },
          "coloraxis": "coloraxis",
          "opacity": 0.7,
          "size": {
           "_inputArray": {
            "0": 150,
            "1": 146,
            "2": 130,
            "3": 142,
            "4": 157,
            "5": 146,
            "6": 129,
            "bdata": "lgCSAIIAjgCdAJIAgQA=",
            "dtype": "i2",
            "shape": "7"
           },
           "bdata": "lgCSAIIAjgCdAJIAgQA=",
           "dtype": "i2"
          },
          "sizemode": "area",
          "sizeref": 0.3925,
          "symbol": "circle"
         },
         "mode": "markers",
         "name": "",
         "orientation": "h",
         "showlegend": false,
         "type": "scatter",
         "x": {
          "_inputArray": {
           "0": 3.999333333333333,
           "1": 4.017123287671233,
           "2": 4.018461538461538,
           "3": 4.028169014084507,
           "4": 3.977707006369427,
           "5": 4.0034246575342465,
           "6": 4.034883720930233,
           "bdata": "McGDeaL+D0AZMWLEiBEQQGG035TnEhBAmwOJVtgcEED9aQsNWNIPQDhw4MCBAxBAiTvijrgjEEA=",
           "dtype": "f8",
           "shape": "7"
          },
          "bdata": "McGDeaL+D0AZMWLEiBEQQGG035TnEhBAmwOJVtgcEED9aQsNWNIPQDhw4MCBAxBAiTvijrgjEEA=",
          "dtype": "f8"
         },
         "xaxis": "x",
         "y": [
          "Action",
          "Comedy",
          "Documentary",
          "Drama",
          "Horror",
          "Romance",
          "Sci-Fi"
         ],
         "yaxis": "y"
        }
       ],
       "layout": {
        "coloraxis": {
         "colorbar": {
          "title": {
           "text": "Average_Rating"
          }
         },
         "colorscale": [
          [
           0,
           "rgb(247,251,255)"
          ],
          [
           0.125,
           "rgb(222,235,247)"
          ],
          [
           0.25,
           "rgb(198,219,239)"
          ],
          [
           0.375,
           "rgb(158,202,225)"
          ],
          [
           0.5,
           "rgb(107,174,214)"
          ],
          [
           0.625,
           "rgb(66,146,198)"
          ],
          [
           0.75,
           "rgb(33,113,181)"
          ],
          [
           0.875,
           "rgb(8,81,156)"
          ],
          [
           1,
           "rgb(8,48,107)"
          ]
         ]
        },
        "height": 600,
        "legend": {
         "itemsizing": "constant",
         "tracegroupgap": 0
        },
        "margin": {
         "b": 50,
         "l": 150,
         "r": 50,
         "t": 100
        },
        "paper_bgcolor": "rgba(0, 0, 0, 0)",
        "plot_bgcolor": "rgba(0, 0, 0, 0)",
        "template": {
         "data": {
          "pie": [
           {
            "automargin": true,
            "type": "pie"
           }
          ],
          "scatter": [
           {
            "line": {
             "width": 3
            },
            "marker": {
             "size": 9
            },
            "type": "scatter"
           }
          ],
          "scatter3d": [
           {
            "line": {
             "width": 3
            },
            "marker": {
             "size": 9
            },
            "type": "scatter3d"
           }
          ],
          "scattergeo": [
           {
            "line": {
             "width": 3
            },
            "marker": {
             "size": 9
            },
            "type": "scattergeo"
           }
          ],
          "scattergl": [
           {
            "line": {
             "width": 3
            },
            "marker": {
             "size": 9
            },
            "type": "scattergl"
           }
          ],
          "scatterpolar": [
           {
            "line": {
             "width": 3
            },
            "marker": {
             "size": 9
            },
            "type": "scatterpolar"
           }
          ],
          "scatterpolargl": [
           {
            "line": {
             "width": 3
            },
            "marker": {
             "size": 9
            },
            "type": "scatterpolargl"
           }
          ],
          "scatterternary": [
           {
            "line": {
             "width": 3
            },
            "marker": {
             "size": 9
            },
            "type": "scatterternary"
           }
          ],
          "table": [
           {
            "cells": {
             "height": 30
            },
            "header": {
             "height": 36
            },
            "type": "table"
           }
          ]
         },
         "layout": {
          "font": {
           "size": 18
          },
          "xaxis": {
           "title": {
            "standoff": 15
           }
          },
          "yaxis": {
           "title": {
            "standoff": 15
           }
          }
         }
        },
        "title": {
         "text": "Average Rating by Genre with Rating Volume"
        },
        "width": 1000,
        "xaxis": {
         "anchor": "y",
         "autorange": true,
         "domain": [
          0,
          1
         ],
         "range": [
          3.972623451167632,
          4.039805959959135
         ],
         "title": {
          "text": "Average Rating"
         },
         "type": "linear"
        },
        "yaxis": {
         "anchor": "x",
         "automargin": true,
         "autorange": true,
         "domain": [
          0,
          1
         ],
         "range": [
          -0.6069336940243705,
          6.588982053579547
         ],
         "tickangle": 0,
         "title": {
          "text": "Genre"
         },
         "type": "category"
        }
       }
      }
     },
     "metadata": {},
     "output_type": "display_data"
    }
   ],
   "source": [
    "rating_counts = stream_df.groupby(\"Favorite_Genre\")[\"Average_Rating_Given\"].count().reset_index()\n",
    "rating_counts.columns = [\"Genre\", \"Rating_Count\"]\n",
    "\n",
    "avg_rating_genre = stream_df.groupby(\"Favorite_Genre\")[\"Average_Rating_Given\"].mean().reset_index()\n",
    "avg_rating_genre.columns = [\"Genre\", \"Average_Rating\"]\n",
    "\n",
    "combined = avg_rating_genre.merge(rating_counts, on=\"Genre\")\n",
    "\n",
    "fig = px.scatter(\n",
    "    combined,\n",
    "    x=\"Average_Rating\",\n",
    "    y=\"Genre\",\n",
    "    size=\"Rating_Count\",\n",
    "    color=\"Average_Rating\",\n",
    "    color_continuous_scale=\"Blues\", \n",
    "    title=\"Average Rating by Genre with Rating Volume\",\n",
    "    height=600,\n",
    "    width=1000,\n",
    "    opacity=0.7  \n",
    ")\n",
    "\n",
    "fig.update_layout(\n",
    "    xaxis_title=\"Average Rating\",\n",
    "    yaxis_title=\"Genre\",\n",
    "    template=\"presentation\",\n",
    "    margin=dict(l=150, r=50, t=100, b=50),  \n",
    "    paper_bgcolor=\"rgba(0,0,0,0)\",\n",
    "    plot_bgcolor=\"rgba(0,0,0,0)\"\n",
    ")\n",
    "\n",
    "fig.update_yaxes(tickangle=0, automargin=True)\n",
    "\n",
    "fig.show()\n",
    "\n",
    "\n",
    "fig.write_image(os.path.join(result_dir, 'Average_Rating_by_Genre_Bubble_Chart.jpg'))\n",
    "fig.write_image(os.path.join(result_dir, 'Average_Rating_by_Genre_Bubble_Chart.png'))\n",
    "fig.write_html(os.path.join(result_dir, 'Average_Rating_by_Genre_Bubble_Chart.html'))\n"
   ]
  },
  {
   "cell_type": "markdown",
   "id": "e7fc0d4e-c7ee-4e1f-8106-59f2233f2569",
   "metadata": {},
   "source": [
    "**Summary:**  \n",
    "- **Sci-Fi** leads with the highest rating of 4.03, indicating strong viewer engagement.  \n",
    "- **Romance**, **Horror**, and **Drama** also have high ratings, showing their popularity.  \n",
    "- **Documentary**, **Comedy**, and **Action** follow with relatively lower ratings."
   ]
  },
  {
   "cell_type": "markdown",
   "id": "95679a19-6bbe-4477-8c1a-ab600a69dc9c",
   "metadata": {},
   "source": [
    "## Favorite genres"
   ]
  },
  {
   "cell_type": "code",
   "execution_count": 81,
   "id": "b7b29f84-890c-4932-b381-1f3124eb73e5",
   "metadata": {},
   "outputs": [
    {
     "data": {
      "application/vnd.plotly.v1+json": {
       "config": {
        "plotlyServerURL": "https://plot.ly"
       },
       "data": [
        {
         "hovertemplate": "Count=%{text}<br>Genre=%{y}<extra></extra>",
         "legendgroup": "",
         "marker": {
          "color": "#1f77b4",
          "pattern": {
           "shape": ""
          }
         },
         "name": "",
         "orientation": "h",
         "showlegend": false,
         "text": {
          "_inputArray": {
           "0": 129,
           "1": 130,
           "2": 142,
           "3": 146,
           "4": 146,
           "5": 150,
           "6": 157,
           "bdata": "AAAAAAAgYEAAAAAAAEBgQAAAAAAAwGFAAAAAAABAYkAAAAAAAEBiQAAAAAAAwGJAAAAAAACgY0A=",
           "dtype": "f8",
           "shape": "7"
          },
          "bdata": "AAAAAAAgYEAAAAAAAEBgQAAAAAAAwGFAAAAAAABAYkAAAAAAAEBiQAAAAAAAwGJAAAAAAACgY0A=",
          "dtype": "f8"
         },
         "textposition": "outside",
         "texttemplate": "%{text}",
         "type": "bar",
         "x": {
          "_inputArray": {
           "0": 129,
           "1": 130,
           "2": 142,
           "3": 146,
           "4": 146,
           "5": 150,
           "6": 157,
           "bdata": "gQCCAI4AkgCSAJYAnQA=",
           "dtype": "i2",
           "shape": "7"
          },
          "bdata": "gQCCAI4AkgCSAJYAnQA=",
          "dtype": "i2"
         },
         "xaxis": "x",
         "y": [
          "Sci-Fi",
          "Documentary",
          "Drama",
          "Comedy",
          "Romance",
          "Action",
          "Horror"
         ],
         "yaxis": "y"
        }
       ],
       "layout": {
        "barmode": "relative",
        "height": 600,
        "legend": {
         "tracegroupgap": 0
        },
        "margin": {
         "b": 50,
         "l": 200,
         "r": 50,
         "t": 100
        },
        "paper_bgcolor": "rgba(0, 0, 0, 0)",
        "plot_bgcolor": "rgba(0, 0, 0, 0)",
        "showlegend": false,
        "template": {
         "data": {
          "pie": [
           {
            "automargin": true,
            "type": "pie"
           }
          ],
          "scatter": [
           {
            "line": {
             "width": 3
            },
            "marker": {
             "size": 9
            },
            "type": "scatter"
           }
          ],
          "scatter3d": [
           {
            "line": {
             "width": 3
            },
            "marker": {
             "size": 9
            },
            "type": "scatter3d"
           }
          ],
          "scattergeo": [
           {
            "line": {
             "width": 3
            },
            "marker": {
             "size": 9
            },
            "type": "scattergeo"
           }
          ],
          "scattergl": [
           {
            "line": {
             "width": 3
            },
            "marker": {
             "size": 9
            },
            "type": "scattergl"
           }
          ],
          "scatterpolar": [
           {
            "line": {
             "width": 3
            },
            "marker": {
             "size": 9
            },
            "type": "scatterpolar"
           }
          ],
          "scatterpolargl": [
           {
            "line": {
             "width": 3
            },
            "marker": {
             "size": 9
            },
            "type": "scatterpolargl"
           }
          ],
          "scatterternary": [
           {
            "line": {
             "width": 3
            },
            "marker": {
             "size": 9
            },
            "type": "scatterternary"
           }
          ],
          "table": [
           {
            "cells": {
             "height": 30
            },
            "header": {
             "height": 36
            },
            "type": "table"
           }
          ]
         },
         "layout": {
          "font": {
           "size": 18
          },
          "xaxis": {
           "title": {
            "standoff": 15
           }
          },
          "yaxis": {
           "title": {
            "standoff": 15
           }
          }
         }
        },
        "title": {
         "text": "Favorite Genre Distribution"
        },
        "width": 1100,
        "xaxis": {
         "anchor": "y",
         "autorange": true,
         "domain": [
          0,
          1
         ],
         "range": [
          0,
          165.26315789473685
         ],
         "title": {
          "standoff": 50,
          "text": "Number of Users"
         },
         "type": "linear"
        },
        "yaxis": {
         "anchor": "x",
         "autorange": true,
         "domain": [
          0,
          1
         ],
         "range": [
          -0.5,
          6.5
         ],
         "tickmode": "linear",
         "title": {
          "text": "Genre"
         },
         "type": "category"
        }
       }
      }
     },
     "metadata": {},
     "output_type": "display_data"
    }
   ],
   "source": [
    "fav_genre = stream_df[\"Favorite_Genre\"].value_counts().reset_index()\n",
    "fav_genre.columns = [\"Genre\", \"Count\"]\n",
    "fav_genre = fav_genre.sort_values(by=\"Count\", ascending=True)  \n",
    "\n",
    "fig = px.bar(\n",
    "    fav_genre,\n",
    "    y=\"Genre\",\n",
    "    x=\"Count\",\n",
    "    orientation=\"h\",\n",
    "    title=\"Favorite Genre Distribution\",\n",
    "    text=\"Count\",\n",
    "    color_discrete_sequence=['#1f77b4'], \n",
    "    height=600,\n",
    "    width=1100\n",
    ")\n",
    "\n",
    "fig.update_traces(texttemplate=\"%{text}\", textposition=\"outside\")\n",
    "\n",
    "fig.update_layout(\n",
    "    template=\"presentation\",\n",
    "    xaxis_title=\"Number of Users\",\n",
    "    yaxis_title=\"Genre\",\n",
    "    xaxis_title_standoff=50,\n",
    "    legend_title_text=None,\n",
    "    showlegend=False,\n",
    "    margin=dict(l=200, r=50, t=100, b=50),\n",
    "    yaxis=dict(tickmode='linear'),\n",
    "    paper_bgcolor=\"rgba(0, 0, 0, 0)\",\n",
    "    plot_bgcolor=\"rgba(0, 0, 0, 0)\"\n",
    ")\n",
    "\n",
    "fig.show()\n",
    "\n",
    "fig.write_image(os.path.join(result_dir, 'Total_Rating_by_Favorite_Genre_Bar_chart_horizontal.jpg'))\n",
    "fig.write_image(os.path.join(result_dir, 'Total_Rating_by_Favorite_Genre_Bar_chart_horizontal.png'))\n",
    "fig.write_html(os.path.join(result_dir, 'Total_Rating_by_Favorite_Genre_Bar_chart_horizontal.html'))\n"
   ]
  },
  {
   "cell_type": "markdown",
   "id": "e02c8a32-d68e-43d5-ac26-c257cddbc37c",
   "metadata": {},
   "source": [
    "\n",
    "**Summary:**  \n",
    "- **Horror** leads with about 157 counts, indicating strong viewer engagement.  \n",
    "- **Action**, **Comedy**, and **Romance** also have high number of viewers, showing their popularity.  \n",
    "- **Drama**, **Documentary**, and **Sci-Fi** follow with relatively low number of viewers.\n"
   ]
  },
  {
   "cell_type": "markdown",
   "id": "b0653a98-2c70-455a-94b0-303234f98086",
   "metadata": {},
   "source": [
    "### Language preference by country"
   ]
  },
  {
   "cell_type": "code",
   "execution_count": 82,
   "id": "c6f913a8-da69-49e8-a7f8-f937d80e8972",
   "metadata": {},
   "outputs": [
    {
     "data": {
      "text/html": [
       "<div>\n",
       "<style scoped>\n",
       "    .dataframe tbody tr th:only-of-type {\n",
       "        vertical-align: middle;\n",
       "    }\n",
       "\n",
       "    .dataframe tbody tr th {\n",
       "        vertical-align: top;\n",
       "    }\n",
       "\n",
       "    .dataframe thead th {\n",
       "        text-align: right;\n",
       "    }\n",
       "</style>\n",
       "<table border=\"1\" class=\"dataframe\">\n",
       "  <thead>\n",
       "    <tr style=\"text-align: right;\">\n",
       "      <th></th>\n",
       "      <th>Country</th>\n",
       "      <th>Language_Preference</th>\n",
       "      <th>Count</th>\n",
       "    </tr>\n",
       "  </thead>\n",
       "  <tbody>\n",
       "    <tr>\n",
       "      <th>0</th>\n",
       "      <td>Australia</td>\n",
       "      <td>English</td>\n",
       "      <td>28</td>\n",
       "    </tr>\n",
       "    <tr>\n",
       "      <th>1</th>\n",
       "      <td>Australia</td>\n",
       "      <td>French</td>\n",
       "      <td>27</td>\n",
       "    </tr>\n",
       "    <tr>\n",
       "      <th>2</th>\n",
       "      <td>Australia</td>\n",
       "      <td>German</td>\n",
       "      <td>18</td>\n",
       "    </tr>\n",
       "    <tr>\n",
       "      <th>3</th>\n",
       "      <td>Australia</td>\n",
       "      <td>Hindi</td>\n",
       "      <td>15</td>\n",
       "    </tr>\n",
       "    <tr>\n",
       "      <th>4</th>\n",
       "      <td>Australia</td>\n",
       "      <td>Mandarin</td>\n",
       "      <td>30</td>\n",
       "    </tr>\n",
       "    <tr>\n",
       "      <th>5</th>\n",
       "      <td>Australia</td>\n",
       "      <td>Spanish</td>\n",
       "      <td>22</td>\n",
       "    </tr>\n",
       "    <tr>\n",
       "      <th>6</th>\n",
       "      <td>Canada</td>\n",
       "      <td>English</td>\n",
       "      <td>22</td>\n",
       "    </tr>\n",
       "    <tr>\n",
       "      <th>7</th>\n",
       "      <td>Canada</td>\n",
       "      <td>French</td>\n",
       "      <td>24</td>\n",
       "    </tr>\n",
       "    <tr>\n",
       "      <th>8</th>\n",
       "      <td>Canada</td>\n",
       "      <td>German</td>\n",
       "      <td>25</td>\n",
       "    </tr>\n",
       "    <tr>\n",
       "      <th>9</th>\n",
       "      <td>Canada</td>\n",
       "      <td>Hindi</td>\n",
       "      <td>26</td>\n",
       "    </tr>\n",
       "    <tr>\n",
       "      <th>10</th>\n",
       "      <td>Canada</td>\n",
       "      <td>Mandarin</td>\n",
       "      <td>28</td>\n",
       "    </tr>\n",
       "    <tr>\n",
       "      <th>11</th>\n",
       "      <td>Canada</td>\n",
       "      <td>Spanish</td>\n",
       "      <td>14</td>\n",
       "    </tr>\n",
       "    <tr>\n",
       "      <th>12</th>\n",
       "      <td>France</td>\n",
       "      <td>English</td>\n",
       "      <td>30</td>\n",
       "    </tr>\n",
       "    <tr>\n",
       "      <th>13</th>\n",
       "      <td>France</td>\n",
       "      <td>French</td>\n",
       "      <td>29</td>\n",
       "    </tr>\n",
       "    <tr>\n",
       "      <th>14</th>\n",
       "      <td>France</td>\n",
       "      <td>German</td>\n",
       "      <td>25</td>\n",
       "    </tr>\n",
       "    <tr>\n",
       "      <th>15</th>\n",
       "      <td>France</td>\n",
       "      <td>Hindi</td>\n",
       "      <td>24</td>\n",
       "    </tr>\n",
       "    <tr>\n",
       "      <th>16</th>\n",
       "      <td>France</td>\n",
       "      <td>Mandarin</td>\n",
       "      <td>21</td>\n",
       "    </tr>\n",
       "    <tr>\n",
       "      <th>17</th>\n",
       "      <td>France</td>\n",
       "      <td>Spanish</td>\n",
       "      <td>22</td>\n",
       "    </tr>\n",
       "    <tr>\n",
       "      <th>18</th>\n",
       "      <td>Germany</td>\n",
       "      <td>English</td>\n",
       "      <td>21</td>\n",
       "    </tr>\n",
       "    <tr>\n",
       "      <th>19</th>\n",
       "      <td>Germany</td>\n",
       "      <td>French</td>\n",
       "      <td>23</td>\n",
       "    </tr>\n",
       "    <tr>\n",
       "      <th>20</th>\n",
       "      <td>Germany</td>\n",
       "      <td>German</td>\n",
       "      <td>24</td>\n",
       "    </tr>\n",
       "    <tr>\n",
       "      <th>21</th>\n",
       "      <td>Germany</td>\n",
       "      <td>Hindi</td>\n",
       "      <td>25</td>\n",
       "    </tr>\n",
       "    <tr>\n",
       "      <th>22</th>\n",
       "      <td>Germany</td>\n",
       "      <td>Mandarin</td>\n",
       "      <td>24</td>\n",
       "    </tr>\n",
       "    <tr>\n",
       "      <th>23</th>\n",
       "      <td>Germany</td>\n",
       "      <td>Spanish</td>\n",
       "      <td>29</td>\n",
       "    </tr>\n",
       "    <tr>\n",
       "      <th>24</th>\n",
       "      <td>India</td>\n",
       "      <td>English</td>\n",
       "      <td>21</td>\n",
       "    </tr>\n",
       "    <tr>\n",
       "      <th>25</th>\n",
       "      <td>India</td>\n",
       "      <td>French</td>\n",
       "      <td>16</td>\n",
       "    </tr>\n",
       "    <tr>\n",
       "      <th>26</th>\n",
       "      <td>India</td>\n",
       "      <td>German</td>\n",
       "      <td>20</td>\n",
       "    </tr>\n",
       "    <tr>\n",
       "      <th>27</th>\n",
       "      <td>India</td>\n",
       "      <td>Hindi</td>\n",
       "      <td>18</td>\n",
       "    </tr>\n",
       "    <tr>\n",
       "      <th>28</th>\n",
       "      <td>India</td>\n",
       "      <td>Mandarin</td>\n",
       "      <td>21</td>\n",
       "    </tr>\n",
       "    <tr>\n",
       "      <th>29</th>\n",
       "      <td>India</td>\n",
       "      <td>Spanish</td>\n",
       "      <td>20</td>\n",
       "    </tr>\n",
       "    <tr>\n",
       "      <th>30</th>\n",
       "      <td>UK</td>\n",
       "      <td>English</td>\n",
       "      <td>22</td>\n",
       "    </tr>\n",
       "    <tr>\n",
       "      <th>31</th>\n",
       "      <td>UK</td>\n",
       "      <td>French</td>\n",
       "      <td>22</td>\n",
       "    </tr>\n",
       "    <tr>\n",
       "      <th>32</th>\n",
       "      <td>UK</td>\n",
       "      <td>German</td>\n",
       "      <td>26</td>\n",
       "    </tr>\n",
       "    <tr>\n",
       "      <th>33</th>\n",
       "      <td>UK</td>\n",
       "      <td>Hindi</td>\n",
       "      <td>27</td>\n",
       "    </tr>\n",
       "    <tr>\n",
       "      <th>34</th>\n",
       "      <td>UK</td>\n",
       "      <td>Mandarin</td>\n",
       "      <td>25</td>\n",
       "    </tr>\n",
       "    <tr>\n",
       "      <th>35</th>\n",
       "      <td>UK</td>\n",
       "      <td>Spanish</td>\n",
       "      <td>28</td>\n",
       "    </tr>\n",
       "    <tr>\n",
       "      <th>36</th>\n",
       "      <td>USA</td>\n",
       "      <td>English</td>\n",
       "      <td>24</td>\n",
       "    </tr>\n",
       "    <tr>\n",
       "      <th>37</th>\n",
       "      <td>USA</td>\n",
       "      <td>French</td>\n",
       "      <td>30</td>\n",
       "    </tr>\n",
       "    <tr>\n",
       "      <th>38</th>\n",
       "      <td>USA</td>\n",
       "      <td>German</td>\n",
       "      <td>29</td>\n",
       "    </tr>\n",
       "    <tr>\n",
       "      <th>39</th>\n",
       "      <td>USA</td>\n",
       "      <td>Hindi</td>\n",
       "      <td>27</td>\n",
       "    </tr>\n",
       "    <tr>\n",
       "      <th>40</th>\n",
       "      <td>USA</td>\n",
       "      <td>Mandarin</td>\n",
       "      <td>30</td>\n",
       "    </tr>\n",
       "    <tr>\n",
       "      <th>41</th>\n",
       "      <td>USA</td>\n",
       "      <td>Spanish</td>\n",
       "      <td>18</td>\n",
       "    </tr>\n",
       "  </tbody>\n",
       "</table>\n",
       "</div>"
      ],
      "text/plain": [
       "      Country Language_Preference  Count\n",
       "0   Australia             English     28\n",
       "1   Australia              French     27\n",
       "2   Australia              German     18\n",
       "3   Australia               Hindi     15\n",
       "4   Australia            Mandarin     30\n",
       "5   Australia             Spanish     22\n",
       "6      Canada             English     22\n",
       "7      Canada              French     24\n",
       "8      Canada              German     25\n",
       "9      Canada               Hindi     26\n",
       "10     Canada            Mandarin     28\n",
       "11     Canada             Spanish     14\n",
       "12     France             English     30\n",
       "13     France              French     29\n",
       "14     France              German     25\n",
       "15     France               Hindi     24\n",
       "16     France            Mandarin     21\n",
       "17     France             Spanish     22\n",
       "18    Germany             English     21\n",
       "19    Germany              French     23\n",
       "20    Germany              German     24\n",
       "21    Germany               Hindi     25\n",
       "22    Germany            Mandarin     24\n",
       "23    Germany             Spanish     29\n",
       "24      India             English     21\n",
       "25      India              French     16\n",
       "26      India              German     20\n",
       "27      India               Hindi     18\n",
       "28      India            Mandarin     21\n",
       "29      India             Spanish     20\n",
       "30         UK             English     22\n",
       "31         UK              French     22\n",
       "32         UK              German     26\n",
       "33         UK               Hindi     27\n",
       "34         UK            Mandarin     25\n",
       "35         UK             Spanish     28\n",
       "36        USA             English     24\n",
       "37        USA              French     30\n",
       "38        USA              German     29\n",
       "39        USA               Hindi     27\n",
       "40        USA            Mandarin     30\n",
       "41        USA             Spanish     18"
      ]
     },
     "execution_count": 82,
     "metadata": {},
     "output_type": "execute_result"
    }
   ],
   "source": [
    "lang_country = stream_df.groupby(['Country', 'Language_Preference']).size().reset_index(name='Count')\n",
    "\n",
    "lang_country\n"
   ]
  },
  {
   "cell_type": "code",
   "execution_count": 83,
   "id": "b26e314b-a43e-4b26-9eb2-18be66f34ce1",
   "metadata": {},
   "outputs": [
    {
     "data": {
      "text/html": [
       "<div>\n",
       "<style scoped>\n",
       "    .dataframe tbody tr th:only-of-type {\n",
       "        vertical-align: middle;\n",
       "    }\n",
       "\n",
       "    .dataframe tbody tr th {\n",
       "        vertical-align: top;\n",
       "    }\n",
       "\n",
       "    .dataframe thead th {\n",
       "        text-align: right;\n",
       "    }\n",
       "</style>\n",
       "<table border=\"1\" class=\"dataframe\">\n",
       "  <thead>\n",
       "    <tr style=\"text-align: right;\">\n",
       "      <th></th>\n",
       "      <th>Count</th>\n",
       "    </tr>\n",
       "  </thead>\n",
       "  <tbody>\n",
       "    <tr>\n",
       "      <th>count</th>\n",
       "      <td>42.000000</td>\n",
       "    </tr>\n",
       "    <tr>\n",
       "      <th>mean</th>\n",
       "      <td>23.809524</td>\n",
       "    </tr>\n",
       "    <tr>\n",
       "      <th>std</th>\n",
       "      <td>4.266935</td>\n",
       "    </tr>\n",
       "    <tr>\n",
       "      <th>min</th>\n",
       "      <td>14.000000</td>\n",
       "    </tr>\n",
       "    <tr>\n",
       "      <th>25%</th>\n",
       "      <td>21.000000</td>\n",
       "    </tr>\n",
       "    <tr>\n",
       "      <th>50%</th>\n",
       "      <td>24.000000</td>\n",
       "    </tr>\n",
       "    <tr>\n",
       "      <th>75%</th>\n",
       "      <td>27.000000</td>\n",
       "    </tr>\n",
       "    <tr>\n",
       "      <th>max</th>\n",
       "      <td>30.000000</td>\n",
       "    </tr>\n",
       "  </tbody>\n",
       "</table>\n",
       "</div>"
      ],
      "text/plain": [
       "           Count\n",
       "count  42.000000\n",
       "mean   23.809524\n",
       "std     4.266935\n",
       "min    14.000000\n",
       "25%    21.000000\n",
       "50%    24.000000\n",
       "75%    27.000000\n",
       "max    30.000000"
      ]
     },
     "execution_count": 83,
     "metadata": {},
     "output_type": "execute_result"
    }
   ],
   "source": [
    "lang_country.describe()"
   ]
  },
  {
   "cell_type": "code",
   "execution_count": 84,
   "id": "a4e167f4-4d96-4304-a2e5-30db942dea41",
   "metadata": {},
   "outputs": [
    {
     "data": {
      "application/vnd.plotly.v1+json": {
       "config": {
        "plotlyServerURL": "https://plot.ly"
       },
       "data": [
        {
         "branchvalues": "total",
         "customdata": {
          "_inputArray": [
           {
            "0": 28
           },
           {
            "0": 27
           },
           {
            "0": 18
           },
           {
            "0": 15
           },
           {
            "0": 30
           },
           {
            "0": 22
           },
           {
            "0": 22
           },
           {
            "0": 24
           },
           {
            "0": 25
           },
           {
            "0": 26
           },
           {
            "0": 28
           },
           {
            "0": 14
           },
           {
            "0": 30
           },
           {
            "0": 29
           },
           {
            "0": 25
           },
           {
            "0": 24
           },
           {
            "0": 21
           },
           {
            "0": 22
           },
           {
            "0": 21
           },
           {
            "0": 23
           },
           {
            "0": 24
           },
           {
            "0": 25
           },
           {
            "0": 24
           },
           {
            "0": 29
           },
           {
            "0": 21
           },
           {
            "0": 16
           },
           {
            "0": 20
           },
           {
            "0": 18
           },
           {
            "0": 21
           },
           {
            "0": 20
           },
           {
            "0": 22
           },
           {
            "0": 22
           },
           {
            "0": 26
           },
           {
            "0": 27
           },
           {
            "0": 25
           },
           {
            "0": 28
           },
           {
            "0": 24
           },
           {
            "0": 30
           },
           {
            "0": 29
           },
           {
            "0": 27
           },
           {
            "0": 30
           },
           {
            "0": 18
           },
           {
            "0": 24.614285714285714
           },
           {
            "0": 24.035971223021583
           },
           {
            "0": 25.60927152317881
           },
           {
            "0": 24.575342465753426
           },
           {
            "0": 19.5
           },
           {
            "0": 25.213333333333335
           },
           {
            "0": 27.025316455696203
           }
          ],
          "bdata": "AAAAAAAAPEAAAAAAAAA7QAAAAAAAADJAAAAAAAAALkAAAAAAAAA+QAAAAAAAADZAAAAAAAAANkAAAAAAAAA4QAAAAAAAADlAAAAAAAAAOkAAAAAAAAA8QAAAAAAAACxAAAAAAAAAPkAAAAAAAAA9QAAAAAAAADlAAAAAAAAAOEAAAAAAAAA1QAAAAAAAADZAAAAAAAAANUAAAAAAAAA3QAAAAAAAADhAAAAAAAAAOUAAAAAAAAA4QAAAAAAAAD1AAAAAAAAANUAAAAAAAAAwQAAAAAAAADRAAAAAAAAAMkAAAAAAAAA1QAAAAAAAADRAAAAAAAAANkAAAAAAAAA2QAAAAAAAADpAAAAAAAAAO0AAAAAAAAA5QAAAAAAAADxAAAAAAAAAOEAAAAAAAAA+QAAAAAAAAD1AAAAAAAAAO0AAAAAAAAA+QAAAAAAAADJA1EEd1EGdOECOefpoNQk4QOVv8jf5mzlANWnSpEmTOEAAAAAAAIAzQDfQaQOdNjlADUSlI3sGO0A=",
          "dtype": "f8",
          "shape": "49, 1"
         },
         "domain": {
          "x": [
           0,
           1
          ],
          "y": [
           0,
           1
          ]
         },
         "hovertemplate": "labels=%{label}<br>Count_sum=%{value}<br>parent=%{parent}<br>id=%{id}<br>Count=%{color}<extra></extra>",
         "ids": [
          "Australia/English",
          "Australia/French",
          "Australia/German",
          "Australia/Hindi",
          "Australia/Mandarin",
          "Australia/Spanish",
          "Canada/English",
          "Canada/French",
          "Canada/German",
          "Canada/Hindi",
          "Canada/Mandarin",
          "Canada/Spanish",
          "France/English",
          "France/French",
          "France/German",
          "France/Hindi",
          "France/Mandarin",
          "France/Spanish",
          "Germany/English",
          "Germany/French",
          "Germany/German",
          "Germany/Hindi",
          "Germany/Mandarin",
          "Germany/Spanish",
          "India/English",
          "India/French",
          "India/German",
          "India/Hindi",
          "India/Mandarin",
          "India/Spanish",
          "UK/English",
          "UK/French",
          "UK/German",
          "UK/Hindi",
          "UK/Mandarin",
          "UK/Spanish",
          "USA/English",
          "USA/French",
          "USA/German",
          "USA/Hindi",
          "USA/Mandarin",
          "USA/Spanish",
          "Australia",
          "Canada",
          "France",
          "Germany",
          "India",
          "UK",
          "USA"
         ],
         "labels": [
          "English",
          "French",
          "German",
          "Hindi",
          "Mandarin",
          "Spanish",
          "English",
          "French",
          "German",
          "Hindi",
          "Mandarin",
          "Spanish",
          "English",
          "French",
          "German",
          "Hindi",
          "Mandarin",
          "Spanish",
          "English",
          "French",
          "German",
          "Hindi",
          "Mandarin",
          "Spanish",
          "English",
          "French",
          "German",
          "Hindi",
          "Mandarin",
          "Spanish",
          "English",
          "French",
          "German",
          "Hindi",
          "Mandarin",
          "Spanish",
          "English",
          "French",
          "German",
          "Hindi",
          "Mandarin",
          "Spanish",
          "Australia",
          "Canada",
          "France",
          "Germany",
          "India",
          "UK",
          "USA"
         ],
         "marker": {
          "coloraxis": "coloraxis",
          "colors": {
           "_inputArray": {
            "0": 28,
            "1": 27,
            "10": 28,
            "11": 14,
            "12": 30,
            "13": 29,
            "14": 25,
            "15": 24,
            "16": 21,
            "17": 22,
            "18": 21,
            "19": 23,
            "2": 18,
            "20": 24,
            "21": 25,
            "22": 24,
            "23": 29,
            "24": 21,
            "25": 16,
            "26": 20,
            "27": 18,
            "28": 21,
            "29": 20,
            "3": 15,
            "30": 22,
            "31": 22,
            "32": 26,
            "33": 27,
            "34": 25,
            "35": 28,
            "36": 24,
            "37": 30,
            "38": 29,
            "39": 27,
            "4": 30,
            "40": 30,
            "41": 18,
            "42": 24.614285714285714,
            "43": 24.035971223021583,
            "44": 25.60927152317881,
            "45": 24.575342465753426,
            "46": 19.5,
            "47": 25.213333333333335,
            "48": 27.025316455696203,
            "5": 22,
            "6": 22,
            "7": 24,
            "8": 25,
            "9": 26,
            "bdata": "AAAAAAAAPEAAAAAAAAA7QAAAAAAAADJAAAAAAAAALkAAAAAAAAA+QAAAAAAAADZAAAAAAAAANkAAAAAAAAA4QAAAAAAAADlAAAAAAAAAOkAAAAAAAAA8QAAAAAAAACxAAAAAAAAAPkAAAAAAAAA9QAAAAAAAADlAAAAAAAAAOEAAAAAAAAA1QAAAAAAAADZAAAAAAAAANUAAAAAAAAA3QAAAAAAAADhAAAAAAAAAOUAAAAAAAAA4QAAAAAAAAD1AAAAAAAAANUAAAAAAAAAwQAAAAAAAADRAAAAAAAAAMkAAAAAAAAA1QAAAAAAAADRAAAAAAAAANkAAAAAAAAA2QAAAAAAAADpAAAAAAAAAO0AAAAAAAAA5QAAAAAAAADxAAAAAAAAAOEAAAAAAAAA+QAAAAAAAAD1AAAAAAAAAO0AAAAAAAAA+QAAAAAAAADJA1EEd1EGdOECOefpoNQk4QOVv8jf5mzlANWnSpEmTOEAAAAAAAIAzQDfQaQOdNjlADUSlI3sGO0A=",
            "dtype": "f8",
            "shape": "49"
           },
           "bdata": "AAAAAAAAPEAAAAAAAAA7QAAAAAAAADJAAAAAAAAALkAAAAAAAAA+QAAAAAAAADZAAAAAAAAANkAAAAAAAAA4QAAAAAAAADlAAAAAAAAAOkAAAAAAAAA8QAAAAAAAACxAAAAAAAAAPkAAAAAAAAA9QAAAAAAAADlAAAAAAAAAOEAAAAAAAAA1QAAAAAAAADZAAAAAAAAANUAAAAAAAAA3QAAAAAAAADhAAAAAAAAAOUAAAAAAAAA4QAAAAAAAAD1AAAAAAAAANUAAAAAAAAAwQAAAAAAAADRAAAAAAAAAMkAAAAAAAAA1QAAAAAAAADRAAAAAAAAANkAAAAAAAAA2QAAAAAAAADpAAAAAAAAAO0AAAAAAAAA5QAAAAAAAADxAAAAAAAAAOEAAAAAAAAA+QAAAAAAAAD1AAAAAAAAAO0AAAAAAAAA+QAAAAAAAADJA1EEd1EGdOECOefpoNQk4QOVv8jf5mzlANWnSpEmTOEAAAAAAAIAzQDfQaQOdNjlADUSlI3sGO0A=",
           "dtype": "f8"
          }
         },
         "name": "",
         "parents": [
          "Australia",
          "Australia",
          "Australia",
          "Australia",
          "Australia",
          "Australia",
          "Canada",
          "Canada",
          "Canada",
          "Canada",
          "Canada",
          "Canada",
          "France",
          "France",
          "France",
          "France",
          "France",
          "France",
          "Germany",
          "Germany",
          "Germany",
          "Germany",
          "Germany",
          "Germany",
          "India",
          "India",
          "India",
          "India",
          "India",
          "India",
          "UK",
          "UK",
          "UK",
          "UK",
          "UK",
          "UK",
          "USA",
          "USA",
          "USA",
          "USA",
          "USA",
          "USA",
          "",
          "",
          "",
          "",
          "",
          "",
          ""
         ],
         "type": "treemap",
         "values": {
          "_inputArray": {
           "0": 28,
           "1": 27,
           "10": 28,
           "11": 14,
           "12": 30,
           "13": 29,
           "14": 25,
           "15": 24,
           "16": 21,
           "17": 22,
           "18": 21,
           "19": 23,
           "2": 18,
           "20": 24,
           "21": 25,
           "22": 24,
           "23": 29,
           "24": 21,
           "25": 16,
           "26": 20,
           "27": 18,
           "28": 21,
           "29": 20,
           "3": 15,
           "30": 22,
           "31": 22,
           "32": 26,
           "33": 27,
           "34": 25,
           "35": 28,
           "36": 24,
           "37": 30,
           "38": 29,
           "39": 27,
           "4": 30,
           "40": 30,
           "41": 18,
           "42": 140,
           "43": 139,
           "44": 151,
           "45": 146,
           "46": 116,
           "47": 150,
           "48": 158,
           "5": 22,
           "6": 22,
           "7": 24,
           "8": 25,
           "9": 26,
           "bdata": "AAAAAAAAPEAAAAAAAAA7QAAAAAAAADJAAAAAAAAALkAAAAAAAAA+QAAAAAAAADZAAAAAAAAANkAAAAAAAAA4QAAAAAAAADlAAAAAAAAAOkAAAAAAAAA8QAAAAAAAACxAAAAAAAAAPkAAAAAAAAA9QAAAAAAAADlAAAAAAAAAOEAAAAAAAAA1QAAAAAAAADZAAAAAAAAANUAAAAAAAAA3QAAAAAAAADhAAAAAAAAAOUAAAAAAAAA4QAAAAAAAAD1AAAAAAAAANUAAAAAAAAAwQAAAAAAAADRAAAAAAAAAMkAAAAAAAAA1QAAAAAAAADRAAAAAAAAANkAAAAAAAAA2QAAAAAAAADpAAAAAAAAAO0AAAAAAAAA5QAAAAAAAADxAAAAAAAAAOEAAAAAAAAA+QAAAAAAAAD1AAAAAAAAAO0AAAAAAAAA+QAAAAAAAADJAAAAAAACAYUAAAAAAAGBhQAAAAAAA4GJAAAAAAABAYkAAAAAAAABdQAAAAAAAwGJAAAAAAADAY0A=",
           "dtype": "f8",
           "shape": "49"
          },
          "bdata": "AAAAAAAAPEAAAAAAAAA7QAAAAAAAADJAAAAAAAAALkAAAAAAAAA+QAAAAAAAADZAAAAAAAAANkAAAAAAAAA4QAAAAAAAADlAAAAAAAAAOkAAAAAAAAA8QAAAAAAAACxAAAAAAAAAPkAAAAAAAAA9QAAAAAAAADlAAAAAAAAAOEAAAAAAAAA1QAAAAAAAADZAAAAAAAAANUAAAAAAAAA3QAAAAAAAADhAAAAAAAAAOUAAAAAAAAA4QAAAAAAAAD1AAAAAAAAANUAAAAAAAAAwQAAAAAAAADRAAAAAAAAAMkAAAAAAAAA1QAAAAAAAADRAAAAAAAAANkAAAAAAAAA2QAAAAAAAADpAAAAAAAAAO0AAAAAAAAA5QAAAAAAAADxAAAAAAAAAOEAAAAAAAAA+QAAAAAAAAD1AAAAAAAAAO0AAAAAAAAA+QAAAAAAAADJAAAAAAACAYUAAAAAAAGBhQAAAAAAA4GJAAAAAAABAYkAAAAAAAABdQAAAAAAAwGJAAAAAAADAY0A=",
          "dtype": "f8"
         }
        }
       ],
       "layout": {
        "autosize": true,
        "coloraxis": {
         "colorbar": {
          "len": 0.5,
          "thickness": 15,
          "title": {
           "text": "Count"
          },
          "x": 1.02,
          "y": 0.5,
          "yanchor": "middle"
         },
         "colorscale": [
          [
           0,
           "#440154"
          ],
          [
           0.1111111111111111,
           "#482878"
          ],
          [
           0.2222222222222222,
           "#3e4989"
          ],
          [
           0.3333333333333333,
           "#31688e"
          ],
          [
           0.4444444444444444,
           "#26828e"
          ],
          [
           0.5555555555555556,
           "#1f9e89"
          ],
          [
           0.6666666666666666,
           "#35b779"
          ],
          [
           0.7777777777777778,
           "#6ece58"
          ],
          [
           0.8888888888888888,
           "#b5de2b"
          ],
          [
           1,
           "#fde725"
          ]
         ]
        },
        "legend": {
         "tracegroupgap": 0
        },
        "margin": {
         "b": 50,
         "l": 50,
         "r": 50,
         "t": 100
        },
        "paper_bgcolor": "rgba(0, 0, 0, 0)",
        "plot_bgcolor": "rgba(0, 0, 0, 0)",
        "template": {
         "data": {
          "bar": [
           {
            "error_x": {
             "color": "#2a3f5f"
            },
            "error_y": {
             "color": "#2a3f5f"
            },
            "marker": {
             "line": {
              "color": "#E5ECF6",
              "width": 0.5
             },
             "pattern": {
              "fillmode": "overlay",
              "size": 10,
              "solidity": 0.2
             }
            },
            "type": "bar"
           }
          ],
          "barpolar": [
           {
            "marker": {
             "line": {
              "color": "#E5ECF6",
              "width": 0.5
             },
             "pattern": {
              "fillmode": "overlay",
              "size": 10,
              "solidity": 0.2
             }
            },
            "type": "barpolar"
           }
          ],
          "carpet": [
           {
            "aaxis": {
             "endlinecolor": "#2a3f5f",
             "gridcolor": "white",
             "linecolor": "white",
             "minorgridcolor": "white",
             "startlinecolor": "#2a3f5f"
            },
            "baxis": {
             "endlinecolor": "#2a3f5f",
             "gridcolor": "white",
             "linecolor": "white",
             "minorgridcolor": "white",
             "startlinecolor": "#2a3f5f"
            },
            "type": "carpet"
           }
          ],
          "choropleth": [
           {
            "colorbar": {
             "outlinewidth": 0,
             "ticks": ""
            },
            "type": "choropleth"
           }
          ],
          "contour": [
           {
            "colorbar": {
             "outlinewidth": 0,
             "ticks": ""
            },
            "colorscale": [
             [
              0,
              "#0d0887"
             ],
             [
              0.1111111111111111,
              "#46039f"
             ],
             [
              0.2222222222222222,
              "#7201a8"
             ],
             [
              0.3333333333333333,
              "#9c179e"
             ],
             [
              0.4444444444444444,
              "#bd3786"
             ],
             [
              0.5555555555555556,
              "#d8576b"
             ],
             [
              0.6666666666666666,
              "#ed7953"
             ],
             [
              0.7777777777777778,
              "#fb9f3a"
             ],
             [
              0.8888888888888888,
              "#fdca26"
             ],
             [
              1,
              "#f0f921"
             ]
            ],
            "type": "contour"
           }
          ],
          "contourcarpet": [
           {
            "colorbar": {
             "outlinewidth": 0,
             "ticks": ""
            },
            "type": "contourcarpet"
           }
          ],
          "heatmap": [
           {
            "colorbar": {
             "outlinewidth": 0,
             "ticks": ""
            },
            "colorscale": [
             [
              0,
              "#0d0887"
             ],
             [
              0.1111111111111111,
              "#46039f"
             ],
             [
              0.2222222222222222,
              "#7201a8"
             ],
             [
              0.3333333333333333,
              "#9c179e"
             ],
             [
              0.4444444444444444,
              "#bd3786"
             ],
             [
              0.5555555555555556,
              "#d8576b"
             ],
             [
              0.6666666666666666,
              "#ed7953"
             ],
             [
              0.7777777777777778,
              "#fb9f3a"
             ],
             [
              0.8888888888888888,
              "#fdca26"
             ],
             [
              1,
              "#f0f921"
             ]
            ],
            "type": "heatmap"
           }
          ],
          "histogram": [
           {
            "marker": {
             "pattern": {
              "fillmode": "overlay",
              "size": 10,
              "solidity": 0.2
             }
            },
            "type": "histogram"
           }
          ],
          "histogram2d": [
           {
            "colorbar": {
             "outlinewidth": 0,
             "ticks": ""
            },
            "colorscale": [
             [
              0,
              "#0d0887"
             ],
             [
              0.1111111111111111,
              "#46039f"
             ],
             [
              0.2222222222222222,
              "#7201a8"
             ],
             [
              0.3333333333333333,
              "#9c179e"
             ],
             [
              0.4444444444444444,
              "#bd3786"
             ],
             [
              0.5555555555555556,
              "#d8576b"
             ],
             [
              0.6666666666666666,
              "#ed7953"
             ],
             [
              0.7777777777777778,
              "#fb9f3a"
             ],
             [
              0.8888888888888888,
              "#fdca26"
             ],
             [
              1,
              "#f0f921"
             ]
            ],
            "type": "histogram2d"
           }
          ],
          "histogram2dcontour": [
           {
            "colorbar": {
             "outlinewidth": 0,
             "ticks": ""
            },
            "colorscale": [
             [
              0,
              "#0d0887"
             ],
             [
              0.1111111111111111,
              "#46039f"
             ],
             [
              0.2222222222222222,
              "#7201a8"
             ],
             [
              0.3333333333333333,
              "#9c179e"
             ],
             [
              0.4444444444444444,
              "#bd3786"
             ],
             [
              0.5555555555555556,
              "#d8576b"
             ],
             [
              0.6666666666666666,
              "#ed7953"
             ],
             [
              0.7777777777777778,
              "#fb9f3a"
             ],
             [
              0.8888888888888888,
              "#fdca26"
             ],
             [
              1,
              "#f0f921"
             ]
            ],
            "type": "histogram2dcontour"
           }
          ],
          "mesh3d": [
           {
            "colorbar": {
             "outlinewidth": 0,
             "ticks": ""
            },
            "type": "mesh3d"
           }
          ],
          "parcoords": [
           {
            "line": {
             "colorbar": {
              "outlinewidth": 0,
              "ticks": ""
             }
            },
            "type": "parcoords"
           }
          ],
          "pie": [
           {
            "automargin": true,
            "type": "pie"
           }
          ],
          "scatter": [
           {
            "fillpattern": {
             "fillmode": "overlay",
             "size": 10,
             "solidity": 0.2
            },
            "type": "scatter"
           }
          ],
          "scatter3d": [
           {
            "line": {
             "colorbar": {
              "outlinewidth": 0,
              "ticks": ""
             }
            },
            "marker": {
             "colorbar": {
              "outlinewidth": 0,
              "ticks": ""
             }
            },
            "type": "scatter3d"
           }
          ],
          "scattercarpet": [
           {
            "marker": {
             "colorbar": {
              "outlinewidth": 0,
              "ticks": ""
             }
            },
            "type": "scattercarpet"
           }
          ],
          "scattergeo": [
           {
            "marker": {
             "colorbar": {
              "outlinewidth": 0,
              "ticks": ""
             }
            },
            "type": "scattergeo"
           }
          ],
          "scattergl": [
           {
            "marker": {
             "colorbar": {
              "outlinewidth": 0,
              "ticks": ""
             }
            },
            "type": "scattergl"
           }
          ],
          "scattermap": [
           {
            "marker": {
             "colorbar": {
              "outlinewidth": 0,
              "ticks": ""
             }
            },
            "type": "scattermap"
           }
          ],
          "scattermapbox": [
           {
            "marker": {
             "colorbar": {
              "outlinewidth": 0,
              "ticks": ""
             }
            },
            "type": "scattermapbox"
           }
          ],
          "scatterpolar": [
           {
            "marker": {
             "colorbar": {
              "outlinewidth": 0,
              "ticks": ""
             }
            },
            "type": "scatterpolar"
           }
          ],
          "scatterpolargl": [
           {
            "marker": {
             "colorbar": {
              "outlinewidth": 0,
              "ticks": ""
             }
            },
            "type": "scatterpolargl"
           }
          ],
          "scatterternary": [
           {
            "marker": {
             "colorbar": {
              "outlinewidth": 0,
              "ticks": ""
             }
            },
            "type": "scatterternary"
           }
          ],
          "surface": [
           {
            "colorbar": {
             "outlinewidth": 0,
             "ticks": ""
            },
            "colorscale": [
             [
              0,
              "#0d0887"
             ],
             [
              0.1111111111111111,
              "#46039f"
             ],
             [
              0.2222222222222222,
              "#7201a8"
             ],
             [
              0.3333333333333333,
              "#9c179e"
             ],
             [
              0.4444444444444444,
              "#bd3786"
             ],
             [
              0.5555555555555556,
              "#d8576b"
             ],
             [
              0.6666666666666666,
              "#ed7953"
             ],
             [
              0.7777777777777778,
              "#fb9f3a"
             ],
             [
              0.8888888888888888,
              "#fdca26"
             ],
             [
              1,
              "#f0f921"
             ]
            ],
            "type": "surface"
           }
          ],
          "table": [
           {
            "cells": {
             "fill": {
              "color": "#EBF0F8"
             },
             "line": {
              "color": "white"
             }
            },
            "header": {
             "fill": {
              "color": "#C8D4E3"
             },
             "line": {
              "color": "white"
             }
            },
            "type": "table"
           }
          ]
         },
         "layout": {
          "annotationdefaults": {
           "arrowcolor": "#2a3f5f",
           "arrowhead": 0,
           "arrowwidth": 1
          },
          "autotypenumbers": "strict",
          "coloraxis": {
           "colorbar": {
            "outlinewidth": 0,
            "ticks": ""
           }
          },
          "colorscale": {
           "diverging": [
            [
             0,
             "#8e0152"
            ],
            [
             0.1,
             "#c51b7d"
            ],
            [
             0.2,
             "#de77ae"
            ],
            [
             0.3,
             "#f1b6da"
            ],
            [
             0.4,
             "#fde0ef"
            ],
            [
             0.5,
             "#f7f7f7"
            ],
            [
             0.6,
             "#e6f5d0"
            ],
            [
             0.7,
             "#b8e186"
            ],
            [
             0.8,
             "#7fbc41"
            ],
            [
             0.9,
             "#4d9221"
            ],
            [
             1,
             "#276419"
            ]
           ],
           "sequential": [
            [
             0,
             "#0d0887"
            ],
            [
             0.1111111111111111,
             "#46039f"
            ],
            [
             0.2222222222222222,
             "#7201a8"
            ],
            [
             0.3333333333333333,
             "#9c179e"
            ],
            [
             0.4444444444444444,
             "#bd3786"
            ],
            [
             0.5555555555555556,
             "#d8576b"
            ],
            [
             0.6666666666666666,
             "#ed7953"
            ],
            [
             0.7777777777777778,
             "#fb9f3a"
            ],
            [
             0.8888888888888888,
             "#fdca26"
            ],
            [
             1,
             "#f0f921"
            ]
           ],
           "sequentialminus": [
            [
             0,
             "#0d0887"
            ],
            [
             0.1111111111111111,
             "#46039f"
            ],
            [
             0.2222222222222222,
             "#7201a8"
            ],
            [
             0.3333333333333333,
             "#9c179e"
            ],
            [
             0.4444444444444444,
             "#bd3786"
            ],
            [
             0.5555555555555556,
             "#d8576b"
            ],
            [
             0.6666666666666666,
             "#ed7953"
            ],
            [
             0.7777777777777778,
             "#fb9f3a"
            ],
            [
             0.8888888888888888,
             "#fdca26"
            ],
            [
             1,
             "#f0f921"
            ]
           ]
          },
          "colorway": [
           "#636efa",
           "#EF553B",
           "#00cc96",
           "#ab63fa",
           "#FFA15A",
           "#19d3f3",
           "#FF6692",
           "#B6E880",
           "#FF97FF",
           "#FECB52"
          ],
          "font": {
           "color": "#2a3f5f"
          },
          "geo": {
           "bgcolor": "white",
           "lakecolor": "white",
           "landcolor": "#E5ECF6",
           "showlakes": true,
           "showland": true,
           "subunitcolor": "white"
          },
          "hoverlabel": {
           "align": "left"
          },
          "hovermode": "closest",
          "mapbox": {
           "style": "light"
          },
          "paper_bgcolor": "white",
          "plot_bgcolor": "#E5ECF6",
          "polar": {
           "angularaxis": {
            "gridcolor": "white",
            "linecolor": "white",
            "ticks": ""
           },
           "bgcolor": "#E5ECF6",
           "radialaxis": {
            "gridcolor": "white",
            "linecolor": "white",
            "ticks": ""
           }
          },
          "scene": {
           "xaxis": {
            "backgroundcolor": "#E5ECF6",
            "gridcolor": "white",
            "gridwidth": 2,
            "linecolor": "white",
            "showbackground": true,
            "ticks": "",
            "zerolinecolor": "white"
           },
           "yaxis": {
            "backgroundcolor": "#E5ECF6",
            "gridcolor": "white",
            "gridwidth": 2,
            "linecolor": "white",
            "showbackground": true,
            "ticks": "",
            "zerolinecolor": "white"
           },
           "zaxis": {
            "backgroundcolor": "#E5ECF6",
            "gridcolor": "white",
            "gridwidth": 2,
            "linecolor": "white",
            "showbackground": true,
            "ticks": "",
            "zerolinecolor": "white"
           }
          },
          "shapedefaults": {
           "line": {
            "color": "#2a3f5f"
           }
          },
          "ternary": {
           "aaxis": {
            "gridcolor": "white",
            "linecolor": "white",
            "ticks": ""
           },
           "baxis": {
            "gridcolor": "white",
            "linecolor": "white",
            "ticks": ""
           },
           "bgcolor": "#E5ECF6",
           "caxis": {
            "gridcolor": "white",
            "linecolor": "white",
            "ticks": ""
           }
          },
          "title": {
           "x": 0.05
          },
          "xaxis": {
           "automargin": true,
           "gridcolor": "white",
           "linecolor": "white",
           "ticks": "",
           "title": {
            "standoff": 15
           },
           "zerolinecolor": "white",
           "zerolinewidth": 2
          },
          "yaxis": {
           "automargin": true,
           "gridcolor": "white",
           "linecolor": "white",
           "ticks": "",
           "title": {
            "standoff": 15
           },
           "zerolinecolor": "white",
           "zerolinewidth": 2
          }
         }
        },
        "title": {
         "text": "Language Preference by Country"
        }
       }
      }
     },
     "metadata": {},
     "output_type": "display_data"
    }
   ],
   "source": [
    "fig = px.treemap(\n",
    "    lang_country,\n",
    "    path=['Country', 'Language_Preference'],\n",
    "    values='Count',\n",
    "    title='Language Preference by Country',\n",
    "    color='Count',\n",
    "    color_continuous_scale='Viridis',\n",
    "    height=700,\n",
    ")\n",
    "\n",
    "\n",
    "fig.update_layout(\n",
    "    margin=dict(l=50, r=50, t=100, b=50),\n",
    "    coloraxis_colorbar=dict(\n",
    "        title='Count',\n",
    "        thickness=15,\n",
    "        len=0.5,\n",
    "        yanchor='middle',\n",
    "        y=0.5\n",
    "    ),\n",
    "    paper_bgcolor=\"rgba(0, 0, 0, 0)\",\n",
    "    plot_bgcolor=\"rgba(0, 0, 0, 0)\"\n",
    ")\n",
    "\n",
    "fig.show()\n",
    "\n",
    "\n",
    "fig.write_image(os.path.join(result_dir, 'Language_Preference_by_Country.jpg'))\n",
    "fig.write_image(os.path.join(result_dir, 'Language_Preference_by_Country.png'))\n",
    "fig.write_html(os.path.join(result_dir, 'Language_Preference_by_Country.html'))\n"
   ]
  },
  {
   "cell_type": "markdown",
   "id": "954ada35-ba94-420e-ba97-aeaa664a272b",
   "metadata": {},
   "source": [
    "- **English** and **Mandarin** are among the most popular language preferences across most countries.\n",
    "- The **USA** and **Australia** have the highest counts for Mandarin speakers (30 users each).\n",
    "- Language preference distributions are quite diverse within countries, with multiple languages represented.\n",
    "- French, German, Hindi, and Spanish also show significant representation across all countries."
   ]
  },
  {
   "cell_type": "markdown",
   "id": "171aa3ec-4da6-4efc-aac2-ca6b1411a106",
   "metadata": {},
   "source": [
    "### Scatter Plot: Watch Hours vs. Loyalty Points\n",
    "\n",
    "This plot shows the relationship between users' watch hours and loyalty points. A linear trendline is added to assess whether users who watch more content tend to earn more loyalty points. The data points are displayed with a clean and modern style.\n"
   ]
  },
  {
   "cell_type": "code",
   "execution_count": 89,
   "id": "7f1b3af7-2c78-495e-bd16-cec9744ae5da",
   "metadata": {},
   "outputs": [
    {
     "data": {
      "application/vnd.plotly.v1+json": {
       "config": {
        "plotlyServerURL": "https://plot.ly"
       },
       "data": [
        {
         "hovertemplate": "Watch Hours=%{x}<br>Loyalty Points=%{y}<extra></extra>",
         "legendgroup": "",
         "marker": {
          "color": "#3eb489",
          "symbol": "circle"
         },
         "mode": "markers",
         "name": "",
         "orientation": "v",
         "showlegend": false,
         "type": "scatter",
         "x": {
          "_inputArray": {
           "0": 49,
           "1": 161,
           "10": 411,
           "100": 10,
           "101": 181,
           "102": 238,
           "103": 380,
           "104": 444,
           "105": 83,
           "106": 452,
           "107": 53,
           "108": 89,
           "109": 359,
           "11": 160,
           "110": 487,
           "111": 337,
           "112": 427,
           "113": 397,
           "114": 200,
           "115": 464,
           "116": 495,
           "117": 286,
           "118": 446,
           "119": 342,
           "12": 348,
           "120": 396,
           "121": 491,
           "122": 239,
           "123": 106,
           "124": 388,
           "125": 452,
           "126": 368,
           "127": 325,
           "128": 42,
           "129": 344,
           "13": 451,
           "130": 77,
           "131": 237,
           "132": 480,
           "133": 152,
           "134": 308,
           "135": 14,
           "136": 233,
           "137": 169,
           "138": 358,
           "139": 404,
           "14": 69,
           "140": 131,
           "141": 32,
           "142": 478,
           "143": 88,
           "144": 395,
           "145": 385,
           "146": 280,
           "147": 164,
           "148": 433,
           "149": 460,
           "15": 166,
           "150": 374,
           "151": 147,
           "152": 129,
           "153": 217,
           "154": 426,
           "155": 81,
           "156": 296,
           "157": 466,
           "158": 424,
           "159": 233,
           "16": 449,
           "160": 413,
           "161": 278,
           "162": 351,
           "163": 354,
           "164": 192,
           "165": 176,
           "166": 482,
           "167": 87,
           "168": 163,
           "169": 419,
           "17": 441,
           "170": 203,
           "171": 405,
           "172": 496,
           "173": 328,
           "174": 85,
           "175": 386,
           "176": 245,
           "177": 97,
           "178": 216,
           "179": 331,
           "18": 224,
           "180": 451,
           "181": 326,
           "182": 358,
           "183": 91,
           "184": 478,
           "185": 16,
           "186": 44,
           "187": 100,
           "188": 44,
           "189": 37,
           "19": 44,
           "190": 48,
           "191": 371,
           "192": 176,
           "193": 312,
           "194": 375,
           "195": 134,
           "196": 91,
           "197": 359,
           "198": 172,
           "199": 490,
           "2": 87,
           "20": 202,
           "200": 16,
           "201": 291,
           "202": 119,
           "203": 35,
           "204": 88,
           "205": 312,
           "206": 238,
           "207": 132,
           "208": 456,
           "209": 281,
           "21": 39,
           "210": 281,
           "211": 73,
           "212": 365,
           "213": 61,
           "214": 399,
           "215": 102,
           "216": 88,
           "217": 92,
           "218": 295,
           "219": 139,
           "22": 319,
           "220": 416,
           "221": 173,
           "222": 75,
           "223": 173,
           "224": 421,
           "225": 29,
           "226": 180,
           "227": 469,
           "228": 381,
           "229": 263,
           "23": 150,
           "230": 48,
           "231": 447,
           "232": 415,
           "233": 429,
           "234": 26,
           "235": 101,
           "236": 461,
           "237": 246,
           "238": 91,
           "239": 152,
           "24": 496,
           "240": 283,
           "241": 61,
           "242": 410,
           "243": 88,
           "244": 322,
           "245": 217,
           "246": 180,
           "247": 11,
           "248": 455,
           "249": 487,
           "25": 347,
           "250": 459,
           "251": 74,
           "252": 54,
           "253": 292,
           "254": 23,
           "255": 147,
           "256": 221,
           "257": 40,
           "258": 365,
           "259": 360,
           "26": 201,
           "260": 127,
           "261": 30,
           "262": 222,
           "263": 168,
           "264": 317,
           "265": 285,
           "266": 420,
           "267": 100,
           "268": 426,
           "269": 263,
           "27": 415,
           "270": 162,
           "271": 19,
           "272": 358,
           "273": 183,
           "274": 63,
           "275": 446,
           "276": 352,
           "277": 209,
           "278": 311,
           "279": 293,
           "28": 32,
           "280": 119,
           "281": 329,
           "282": 141,
           "283": 15,
           "284": 30,
           "285": 145,
           "286": 250,
           "287": 243,
           "288": 392,
           "289": 389,
           "29": 338,
           "290": 414,
           "291": 415,
           "292": 494,
           "293": 109,
           "294": 200,
           "295": 134,
           "296": 250,
           "297": 305,
           "298": 256,
           "299": 214,
           "3": 321,
           "30": 52,
           "300": 272,
           "301": 144,
           "302": 381,
           "303": 292,
           "304": 358,
           "305": 426,
           "306": 474,
           "307": 286,
           "308": 498,
           "309": 32,
           "31": 447,
           "310": 84,
           "311": 210,
           "312": 231,
           "313": 246,
           "314": 174,
           "315": 298,
           "316": 344,
           "317": 264,
           "318": 380,
           "319": 160,
           "32": 312,
           "320": 55,
           "321": 70,
           "322": 256,
           "323": 436,
           "324": 394,
           "325": 131,
           "326": 98,
           "327": 276,
           "328": 251,
           "329": 233,
           "33": 406,
           "330": 136,
           "331": 248,
           "332": 180,
           "333": 254,
           "334": 108,
           "335": 183,
           "336": 53,
           "337": 120,
           "338": 118,
           "339": 113,
           "34": 350,
           "340": 138,
           "341": 178,
           "342": 105,
           "343": 283,
           "344": 154,
           "345": 240,
           "346": 29,
           "347": 202,
           "348": 348,
           "349": 380,
           "35": 99,
           "350": 254,
           "351": 477,
           "352": 385,
           "353": 336,
           "354": 171,
           "355": 33,
           "356": 193,
           "357": 153,
           "358": 140,
           "359": 196,
           "36": 53,
           "360": 298,
           "361": 477,
           "362": 308,
           "363": 193,
           "364": 420,
           "365": 128,
           "366": 133,
           "367": 413,
           "368": 28,
           "369": 453,
           "37": 484,
           "370": 186,
           "371": 287,
           "372": 45,
           "373": 463,
           "374": 241,
           "375": 11,
           "376": 123,
           "377": 411,
           "378": 469,
           "379": 120,
           "38": 211,
           "380": 348,
           "381": 103,
           "382": 470,
           "383": 241,
           "384": 277,
           "385": 158,
           "386": 23,
           "387": 200,
           "388": 264,
           "389": 309,
           "39": 248,
           "390": 30,
           "391": 289,
           "392": 432,
           "393": 393,
           "394": 203,
           "395": 43,
           "396": 311,
           "397": 23,
           "398": 370,
           "399": 343,
           "4": 386,
           "40": 197,
           "400": 391,
           "401": 405,
           "402": 14,
           "403": 11,
           "404": 335,
           "405": 408,
           "406": 302,
           "407": 329,
           "408": 328,
           "409": 353,
           "41": 253,
           "410": 386,
           "411": 401,
           "412": 286,
           "413": 20,
           "414": 167,
           "415": 427,
           "416": 13,
           "417": 53,
           "418": 197,
           "419": 429,
           "42": 352,
           "420": 282,
           "421": 248,
           "422": 406,
           "423": 249,
           "424": 12,
           "425": 57,
           "426": 247,
           "427": 25,
           "428": 425,
           "429": 315,
           "43": 97,
           "430": 466,
           "431": 207,
           "432": 248,
           "433": 278,
           "434": 315,
           "435": 190,
           "436": 190,
           "437": 408,
           "438": 227,
           "439": 479,
           "44": 283,
           "440": 415,
           "441": 204,
           "442": 205,
           "443": 64,
           "444": 281,
           "445": 78,
           "446": 343,
           "447": 318,
           "448": 444,
           "449": 171,
           "45": 307,
           "450": 309,
           "451": 447,
           "452": 120,
           "453": 168,
           "454": 203,
           "455": 436,
           "456": 195,
           "457": 454,
           "458": 187,
           "459": 277,
           "46": 203,
           "460": 257,
           "461": 12,
           "462": 362,
           "463": 89,
           "464": 123,
           "465": 427,
           "466": 439,
           "467": 396,
           "468": 453,
           "469": 356,
           "47": 22,
           "470": 192,
           "471": 483,
           "472": 17,
           "473": 272,
           "474": 195,
           "475": 416,
           "476": 459,
           "477": 168,
           "478": 307,
           "479": 270,
           "48": 382,
           "480": 358,
           "481": 301,
           "482": 277,
           "483": 423,
           "484": 197,
           "485": 100,
           "486": 338,
           "487": 130,
           "488": 383,
           "489": 411,
           "49": 302,
           "490": 347,
           "491": 302,
           "492": 361,
           "493": 148,
           "494": 162,
           "495": 379,
           "496": 373,
           "497": 354,
           "498": 76,
           "499": 316,
           "5": 408,
           "50": 76,
           "500": 331,
           "501": 418,
           "502": 309,
           "503": 252,
           "504": 146,
           "505": 352,
           "506": 43,
           "507": 440,
           "508": 376,
           "509": 137,
           "51": 125,
           "510": 301,
           "511": 410,
           "512": 298,
           "513": 54,
           "514": 486,
           "515": 38,
           "516": 442,
           "517": 474,
           "518": 96,
           "519": 160,
           "52": 113,
           "520": 451,
           "521": 184,
           "522": 50,
           "523": 299,
           "524": 495,
           "525": 132,
           "526": 395,
           "527": 34,
           "528": 348,
           "529": 247,
           "53": 183,
           "530": 216,
           "531": 299,
           "532": 315,
           "533": 35,
           "534": 359,
           "535": 361,
           "536": 273,
           "537": 47,
           "538": 477,
           "539": 418,
           "54": 272,
           "540": 274,
           "541": 102,
           "542": 164,
           "543": 478,
           "544": 100,
           "545": 264,
           "546": 208,
           "547": 56,
           "548": 207,
           "549": 187,
           "55": 19,
           "550": 62,
           "551": 182,
           "552": 468,
           "553": 389,
           "554": 155,
           "555": 331,
           "556": 131,
           "557": 376,
           "558": 106,
           "559": 445,
           "56": 204,
           "560": 345,
           "561": 432,
           "562": 362,
           "563": 174,
           "564": 490,
           "565": 32,
           "566": 48,
           "567": 141,
           "568": 368,
           "569": 227,
           "57": 345,
           "570": 484,
           "571": 14,
           "572": 328,
           "573": 279,
           "574": 158,
           "575": 422,
           "576": 235,
           "577": 331,
           "578": 148,
           "579": 198,
           "58": 294,
           "580": 81,
           "581": 131,
           "582": 210,
           "583": 301,
           "584": 466,
           "585": 336,
           "586": 280,
           "587": 495,
           "588": 144,
           "589": 165,
           "59": 318,
           "590": 479,
           "591": 285,
           "592": 93,
           "593": 299,
           "594": 10,
           "595": 82,
           "596": 27,
           "597": 105,
           "598": 330,
           "599": 462,
           "6": 475,
           "60": 396,
           "600": 250,
           "601": 30,
           "602": 364,
           "603": 404,
           "604": 499,
           "605": 480,
           "606": 417,
           "607": 215,
           "608": 234,
           "609": 103,
           "61": 455,
           "610": 191,
           "611": 82,
           "612": 468,
           "613": 366,
           "614": 53,
           "615": 102,
           "616": 259,
           "617": 81,
           "618": 135,
           "619": 465,
           "62": 175,
           "620": 163,
           "621": 321,
           "622": 212,
           "623": 453,
           "624": 34,
           "625": 197,
           "626": 361,
           "627": 166,
           "628": 168,
           "629": 336,
           "63": 36,
           "630": 212,
           "631": 185,
           "632": 124,
           "633": 256,
           "634": 58,
           "635": 135,
           "636": 163,
           "637": 120,
           "638": 439,
           "639": 223,
           "64": 349,
           "640": 485,
           "641": 474,
           "642": 259,
           "643": 53,
           "644": 221,
           "645": 46,
           "646": 253,
           "647": 478,
           "648": 145,
           "649": 366,
           "65": 262,
           "650": 301,
           "651": 26,
           "652": 208,
           "653": 109,
           "654": 451,
           "655": 33,
           "656": 467,
           "657": 123,
           "658": 139,
           "659": 103,
           "66": 378,
           "660": 207,
           "661": 267,
           "662": 266,
           "663": 240,
           "664": 315,
           "665": 276,
           "666": 308,
           "667": 297,
           "668": 326,
           "669": 352,
           "67": 469,
           "670": 180,
           "671": 362,
           "672": 154,
           "673": 287,
           "674": 303,
           "675": 447,
           "676": 480,
           "677": 438,
           "678": 295,
           "679": 479,
           "68": 87,
           "680": 214,
           "681": 69,
           "682": 344,
           "683": 163,
           "684": 217,
           "685": 177,
           "686": 304,
           "687": 90,
           "688": 108,
           "689": 96,
           "69": 471,
           "690": 247,
           "691": 245,
           "692": 366,
           "693": 170,
           "694": 447,
           "695": 369,
           "696": 62,
           "697": 294,
           "698": 10,
           "699": 389,
           "7": 258,
           "70": 469,
           "700": 55,
           "701": 208,
           "702": 198,
           "703": 280,
           "704": 161,
           "705": 439,
           "706": 339,
           "707": 52,
           "708": 297,
           "709": 40,
           "71": 298,
           "710": 379,
           "711": 82,
           "712": 192,
           "713": 286,
           "714": 452,
           "715": 417,
           "716": 371,
           "717": 110,
           "718": 274,
           "719": 412,
           "72": 331,
           "720": 341,
           "721": 388,
           "722": 446,
           "723": 223,
           "724": 417,
           "725": 390,
           "726": 33,
           "727": 302,
           "728": 121,
           "729": 112,
           "73": 238,
           "730": 375,
           "731": 97,
           "732": 306,
           "733": 136,
           "734": 12,
           "735": 379,
           "736": 205,
           "737": 335,
           "738": 449,
           "739": 453,
           "74": 231,
           "740": 252,
           "741": 379,
           "742": 280,
           "743": 187,
           "744": 373,
           "745": 482,
           "746": 360,
           "747": 463,
           "748": 13,
           "749": 129,
           "75": 457,
           "750": 290,
           "751": 50,
           "752": 241,
           "753": 383,
           "754": 384,
           "755": 302,
           "756": 24,
           "757": 416,
           "758": 272,
           "759": 294,
           "76": 373,
           "760": 18,
           "761": 409,
           "762": 290,
           "763": 102,
           "764": 119,
           "765": 87,
           "766": 273,
           "767": 281,
           "768": 115,
           "769": 483,
           "77": 11,
           "770": 129,
           "771": 292,
           "772": 307,
           "773": 306,
           "774": 71,
           "775": 253,
           "776": 68,
           "777": 366,
           "778": 166,
           "779": 136,
           "78": 425,
           "780": 358,
           "781": 399,
           "782": 285,
           "783": 424,
           "784": 467,
           "785": 443,
           "786": 214,
           "787": 437,
           "788": 419,
           "789": 129,
           "79": 231,
           "790": 75,
           "791": 346,
           "792": 480,
           "793": 188,
           "794": 420,
           "795": 204,
           "796": 355,
           "797": 200,
           "798": 178,
           "799": 337,
           "8": 183,
           "80": 483,
           "800": 24,
           "801": 167,
           "802": 289,
           "803": 450,
           "804": 165,
           "805": 391,
           "806": 318,
           "807": 157,
           "808": 25,
           "809": 112,
           "81": 55,
           "810": 479,
           "811": 233,
           "812": 44,
           "813": 456,
           "814": 486,
           "815": 308,
           "816": 161,
           "817": 316,
           "818": 133,
           "819": 270,
           "82": 375,
           "820": 85,
           "821": 65,
           "822": 393,
           "823": 181,
           "824": 416,
           "825": 243,
           "826": 381,
           "827": 71,
           "828": 219,
           "829": 335,
           "83": 336,
           "830": 435,
           "831": 423,
           "832": 304,
           "833": 455,
           "834": 449,
           "835": 39,
           "836": 139,
           "837": 345,
           "838": 500,
           "839": 365,
           "84": 196,
           "840": 479,
           "841": 63,
           "842": 104,
           "843": 380,
           "844": 500,
           "845": 247,
           "846": 486,
           "847": 220,
           "848": 21,
           "849": 417,
           "85": 285,
           "850": 191,
           "851": 460,
           "852": 413,
           "853": 484,
           "854": 227,
           "855": 313,
           "856": 491,
           "857": 50,
           "858": 73,
           "859": 139,
           "86": 155,
           "860": 327,
           "861": 206,
           "862": 23,
           "863": 158,
           "864": 459,
           "865": 30,
           "866": 42,
           "867": 242,
           "868": 25,
           "869": 140,
           "87": 275,
           "870": 192,
           "871": 267,
           "872": 410,
           "873": 281,
           "874": 478,
           "875": 44,
           "876": 250,
           "877": 225,
           "878": 473,
           "879": 236,
           "88": 341,
           "880": 349,
           "881": 139,
           "882": 278,
           "883": 242,
           "884": 251,
           "885": 268,
           "886": 322,
           "887": 356,
           "888": 28,
           "889": 43,
           "89": 321,
           "890": 391,
           "891": 300,
           "892": 75,
           "893": 154,
           "894": 179,
           "895": 147,
           "896": 235,
           "897": 390,
           "898": 116,
           "899": 492,
           "9": 164,
           "90": 456,
           "900": 159,
           "901": 279,
           "902": 386,
           "903": 332,
           "904": 176,
           "905": 221,
           "906": 263,
           "907": 222,
           "908": 39,
           "909": 445,
           "91": 15,
           "910": 164,
           "911": 101,
           "912": 424,
           "913": 182,
           "914": 115,
           "915": 33,
           "916": 259,
           "917": 309,
           "918": 367,
           "919": 472,
           "92": 410,
           "920": 449,
           "921": 302,
           "922": 70,
           "923": 157,
           "924": 17,
           "925": 173,
           "926": 301,
           "927": 357,
           "928": 48,
           "929": 351,
           "93": 29,
           "930": 491,
           "931": 164,
           "932": 304,
           "933": 166,
           "934": 225,
           "935": 163,
           "936": 419,
           "937": 293,
           "938": 171,
           "939": 438,
           "94": 427,
           "940": 247,
           "941": 85,
           "942": 203,
           "943": 219,
           "944": 285,
           "945": 115,
           "946": 322,
           "947": 348,
           "948": 482,
           "949": 384,
           "95": 166,
           "950": 178,
           "951": 91,
           "952": 175,
           "953": 187,
           "954": 352,
           "955": 448,
           "956": 81,
           "957": 321,
           "958": 114,
           "959": 493,
           "96": 192,
           "960": 475,
           "961": 287,
           "962": 138,
           "963": 198,
           "964": 164,
           "965": 65,
           "966": 388,
           "967": 412,
           "968": 267,
           "969": 29,
           "97": 88,
           "970": 454,
           "971": 119,
           "972": 311,
           "973": 122,
           "974": 300,
           "975": 59,
           "976": 34,
           "977": 23,
           "978": 168,
           "979": 306,
           "98": 127,
           "980": 433,
           "981": 221,
           "982": 236,
           "983": 75,
           "984": 325,
           "985": 217,
           "986": 178,
           "987": 74,
           "988": 373,
           "989": 64,
           "99": 327,
           "990": 129,
           "991": 297,
           "992": 235,
           "993": 390,
           "994": 362,
           "995": 136,
           "996": 159,
           "997": 99,
           "998": 157,
           "999": 123,
           "bdata": "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",
           "dtype": "i2",
           "shape": "1000"
          },
          "bdata": "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",
          "dtype": "i2"
         },
         "xaxis": "x",
         "y": {
          "_inputArray": {
           "0": 2878,
           "1": 2291,
           "10": 650,
           "100": 2927,
           "101": 3314,
           "102": 1782,
           "103": 1938,
           "104": 3935,
           "105": 3206,
           "106": 2523,
           "107": 2727,
           "108": 2864,
           "109": 3698,
           "11": 185,
           "110": 1531,
           "111": 4884,
           "112": 3633,
           "113": 4719,
           "114": 3161,
           "115": 3607,
           "116": 944,
           "117": 2757,
           "118": 727,
           "119": 3496,
           "12": 1547,
           "120": 4293,
           "121": 1357,
           "122": 3596,
           "123": 613,
           "124": 2381,
           "125": 2159,
           "126": 119,
           "127": 2798,
           "128": 496,
           "129": 3599,
           "13": 3788,
           "130": 1752,
           "131": 3633,
           "132": 3568,
           "133": 4361,
           "134": 1176,
           "135": 1849,
           "136": 3953,
           "137": 3277,
           "138": 1572,
           "139": 2676,
           "14": 1051,
           "140": 3053,
           "141": 2620,
           "142": 4068,
           "143": 172,
           "144": 1040,
           "145": 3574,
           "146": 3659,
           "147": 1991,
           "148": 2043,
           "149": 882,
           "15": 633,
           "150": 4243,
           "151": 2218,
           "152": 97,
           "153": 4928,
           "154": 1982,
           "155": 510,
           "156": 2508,
           "157": 4004,
           "158": 494,
           "159": 460,
           "16": 4133,
           "160": 1416,
           "161": 4798,
           "162": 732,
           "163": 4008,
           "164": 4868,
           "165": 2600,
           "166": 3247,
           "167": 941,
           "168": 1934,
           "169": 4650,
           "17": 1159,
           "170": 4450,
           "171": 2395,
           "172": 4504,
           "173": 3015,
           "174": 4971,
           "175": 2377,
           "176": 212,
           "177": 188,
           "178": 4435,
           "179": 1454,
           "18": 4673,
           "180": 2841,
           "181": 1626,
           "182": 111,
           "183": 450,
           "184": 3325,
           "185": 3059,
           "186": 1065,
           "187": 2575,
           "188": 1690,
           "189": 1382,
           "19": 4200,
           "190": 1050,
           "191": 2328,
           "192": 4414,
           "193": 3980,
           "194": 3596,
           "195": 1150,
           "196": 1858,
           "197": 1926,
           "198": 2933,
           "199": 2397,
           "2": 1692,
           "20": 3607,
           "200": 1946,
           "201": 2576,
           "202": 2259,
           "203": 1068,
           "204": 2928,
           "205": 3674,
           "206": 130,
           "207": 4873,
           "208": 96,
           "209": 110,
           "21": 4602,
           "210": 225,
           "211": 4083,
           "212": 2714,
           "213": 674,
           "214": 948,
           "215": 933,
           "216": 2914,
           "217": 3928,
           "218": 2559,
           "219": 2571,
           "22": 256,
           "220": 3834,
           "221": 4714,
           "222": 4800,
           "223": 1610,
           "224": 2780,
           "225": 639,
           "226": 1960,
           "227": 1764,
           "228": 967,
           "229": 2086,
           "23": 2406,
           "230": 3288,
           "231": 1486,
           "232": 223,
           "233": 2394,
           "234": 4329,
           "235": 2193,
           "236": 3730,
           "237": 2234,
           "238": 718,
           "239": 1594,
           "24": 1394,
           "240": 681,
           "241": 428,
           "242": 2542,
           "243": 4763,
           "244": 486,
           "245": 4327,
           "246": 2938,
           "247": 1429,
           "248": 2897,
           "249": 274,
           "25": 1856,
           "250": 3910,
           "251": 130,
           "252": 2557,
           "253": 3823,
           "254": 4048,
           "255": 3173,
           "256": 3289,
           "257": 4377,
           "258": 995,
           "259": 2299,
           "26": 1665,
           "260": 4644,
           "261": 746,
           "262": 2835,
           "263": 3626,
           "264": 1000,
           "265": 368,
           "266": 2229,
           "267": 2643,
           "268": 2647,
           "269": 4497,
           "27": 2759,
           "270": 1121,
           "271": 1525,
           "272": 3488,
           "273": 3009,
           "274": 15,
           "275": 3007,
           "276": 4588,
           "277": 73,
           "278": 4635,
           "279": 1882,
           "28": 3433,
           "280": 1690,
           "281": 2572,
           "282": 3865,
           "283": 380,
           "284": 3566,
           "285": 1835,
           "286": 1882,
           "287": 525,
           "288": 1025,
           "289": 2508,
           "29": 3966,
           "290": 1546,
           "291": 1955,
           "292": 4889,
           "293": 1185,
           "294": 3040,
           "295": 4729,
           "296": 4193,
           "297": 4626,
           "298": 60,
           "299": 2597,
           "3": 952,
           "30": 4185,
           "300": 260,
           "301": 1544,
           "302": 4528,
           "303": 1127,
           "304": 4542,
           "305": 1436,
           "306": 4438,
           "307": 3130,
           "308": 3379,
           "309": 3696,
           "31": 784,
           "310": 2416,
           "311": 2856,
           "312": 4177,
           "313": 1912,
           "314": 2388,
           "315": 4216,
           "316": 599,
           "317": 804,
           "318": 4565,
           "319": 1095,
           "32": 3428,
           "320": 1512,
           "321": 1422,
           "322": 147,
           "323": 4317,
           "324": 3197,
           "325": 1413,
           "326": 747,
           "327": 1099,
           "328": 585,
           "329": 615,
           "33": 4245,
           "330": 2634,
           "331": 136,
           "332": 4566,
           "333": 3281,
           "334": 1559,
           "335": 3113,
           "336": 3836,
           "337": 1522,
           "338": 1756,
           "339": 1542,
           "34": 2580,
           "340": 77,
           "341": 4356,
           "342": 1989,
           "343": 906,
           "344": 4108,
           "345": 333,
           "346": 3847,
           "347": 1423,
           "348": 595,
           "349": 4445,
           "35": 2779,
           "350": 144,
           "351": 3428,
           "352": 4919,
           "353": 4905,
           "354": 428,
           "355": 1634,
           "356": 4085,
           "357": 2790,
           "358": 2440,
           "359": 2741,
           "36": 2318,
           "360": 4338,
           "361": 2039,
           "362": 2097,
           "363": 2384,
           "364": 4159,
           "365": 2002,
           "366": 782,
           "367": 4056,
           "368": 1341,
           "369": 3028,
           "37": 827,
           "370": 4799,
           "371": 4556,
           "372": 2965,
           "373": 3556,
           "374": 2901,
           "375": 3520,
           "376": 3983,
           "377": 4632,
           "378": 314,
           "379": 4012,
           "38": 2670,
           "380": 2356,
           "381": 1824,
           "382": 4236,
           "383": 2102,
           "384": 1876,
           "385": 242,
           "386": 4531,
           "387": 959,
           "388": 2156,
           "389": 1442,
           "39": 2409,
           "390": 4586,
           "391": 4170,
           "392": 1294,
           "393": 2460,
           "394": 3276,
           "395": 941,
           "396": 4062,
           "397": 4322,
           "398": 1456,
           "399": 1281,
           "4": 1823,
           "40": 1577,
           "400": 1926,
           "401": 1368,
           "402": 571,
           "403": 3807,
           "404": 3424,
           "405": 1428,
           "406": 2387,
           "407": 218,
           "408": 68,
           "409": 2749,
           "41": 4072,
           "410": 4942,
           "411": 1813,
           "412": 318,
           "413": 4216,
           "414": 3003,
           "415": 342,
           "416": 2124,
           "417": 1016,
           "418": 1925,
           "419": 3773,
           "42": 3432,
           "420": 1231,
           "421": 62,
           "422": 1580,
           "423": 74,
           "424": 3452,
           "425": 4792,
           "426": 4378,
           "427": 1713,
           "428": 1201,
           "429": 416,
           "43": 4511,
           "430": 17,
           "431": 4820,
           "432": 1758,
           "433": 2568,
           "434": 4235,
           "435": 3775,
           "436": 92,
           "437": 72,
           "438": 2488,
           "439": 2666,
           "44": 583,
           "440": 4221,
           "441": 4569,
           "442": 2695,
           "443": 48,
           "444": 1526,
           "445": 4934,
           "446": 628,
           "447": 167,
           "448": 1309,
           "449": 710,
           "45": 3626,
           "450": 106,
           "451": 2652,
           "452": 4879,
           "453": 1426,
           "454": 1504,
           "455": 1518,
           "456": 708,
           "457": 4651,
           "458": 4397,
           "459": 1360,
           "46": 476,
           "460": 4155,
           "461": 1289,
           "462": 2922,
           "463": 28,
           "464": 3083,
           "465": 547,
           "466": 239,
           "467": 3516,
           "468": 4031,
           "469": 3408,
           "47": 4114,
           "470": 3849,
           "471": 1813,
           "472": 2084,
           "473": 749,
           "474": 3157,
           "475": 173,
           "476": 2925,
           "477": 3182,
           "478": 2432,
           "479": 414,
           "48": 1581,
           "480": 888,
           "481": 1058,
           "482": 2067,
           "483": 3763,
           "484": 957,
           "485": 3003,
           "486": 354,
           "487": 4922,
           "488": 2083,
           "489": 2098,
           "49": 1293,
           "490": 2022,
           "491": 3791,
           "492": 728,
           "493": 3448,
           "494": 3930,
           "495": 3702,
           "496": 2400,
           "497": 548,
           "498": 4702,
           "499": 2821,
           "5": 33,
           "50": 1744,
           "500": 484,
           "501": 2871,
           "502": 4783,
           "503": 2725,
           "504": 4400,
           "505": 2218,
           "506": 4552,
           "507": 4125,
           "508": 424,
           "509": 2418,
           "51": 448,
           "510": 756,
           "511": 754,
           "512": 3476,
           "513": 290,
           "514": 987,
           "515": 4972,
           "516": 1628,
           "517": 1285,
           "518": 1960,
           "519": 771,
           "52": 3398,
           "520": 1785,
           "521": 2760,
           "522": 388,
           "523": 2385,
           "524": 3714,
           "525": 2015,
           "526": 3201,
           "527": 3426,
           "528": 3366,
           "529": 125,
           "53": 4691,
           "530": 4037,
           "531": 4348,
           "532": 546,
           "533": 2785,
           "534": 3308,
           "535": 527,
           "536": 837,
           "537": 371,
           "538": 877,
           "539": 4873,
           "54": 4674,
           "540": 4194,
           "541": 3118,
           "542": 2088,
           "543": 3468,
           "544": 3183,
           "545": 4070,
           "546": 4147,
           "547": 255,
           "548": 3278,
           "549": 213,
           "55": 3641,
           "550": 2886,
           "551": 1901,
           "552": 4456,
           "553": 237,
           "554": 4659,
           "555": 4906,
           "556": 1155,
           "557": 4378,
           "558": 1674,
           "559": 2407,
           "56": 1765,
           "560": 2636,
           "561": 4020,
           "562": 4127,
           "563": 4503,
           "564": 1080,
           "565": 1610,
           "566": 1535,
           "567": 3840,
           "568": 1108,
           "569": 4510,
           "57": 3462,
           "570": 1042,
           "571": 2175,
           "572": 1311,
           "573": 4201,
           "574": 513,
           "575": 1330,
           "576": 3689,
           "577": 670,
           "578": 544,
           "579": 1392,
           "58": 790,
           "580": 3199,
           "581": 4204,
           "582": 1461,
           "583": 658,
           "584": 423,
           "585": 2824,
           "586": 2657,
           "587": 2213,
           "588": 3455,
           "589": 3334,
           "59": 4732,
           "590": 105,
           "591": 1404,
           "592": 1017,
           "593": 2812,
           "594": 959,
           "595": 1870,
           "596": 2984,
           "597": 3379,
           "598": 4990,
           "599": 2554,
           "6": 755,
           "60": 4599,
           "600": 4307,
           "601": 3124,
           "602": 1261,
           "603": 1290,
           "604": 874,
           "605": 1734,
           "606": 2444,
           "607": 1529,
           "608": 1976,
           "609": 3452,
           "61": 965,
           "610": 2610,
           "611": 3152,
           "612": 4963,
           "613": 3290,
           "614": 2596,
           "615": 745,
           "616": 668,
           "617": 3282,
           "618": 1510,
           "619": 1206,
           "62": 1155,
           "620": 168,
           "621": 1303,
           "622": 1365,
           "623": 1563,
           "624": 1172,
           "625": 1704,
           "626": 4421,
           "627": 2964,
           "628": 1094,
           "629": 3674,
           "63": 1110,
           "630": 296,
           "631": 4164,
           "632": 3349,
           "633": 2830,
           "634": 2409,
           "635": 2872,
           "636": 1364,
           "637": 473,
           "638": 4883,
           "639": 99,
           "64": 1911,
           "640": 2284,
           "641": 3505,
           "642": 412,
           "643": 4867,
           "644": 2560,
           "645": 4269,
           "646": 1317,
           "647": 2936,
           "648": 905,
           "649": 4513,
           "65": 1721,
           "650": 1153,
           "651": 1506,
           "652": 3817,
           "653": 4662,
           "654": 3708,
           "655": 1256,
           "656": 1792,
           "657": 402,
           "658": 1271,
           "659": 4537,
           "66": 353,
           "660": 4815,
           "661": 3510,
           "662": 4789,
           "663": 863,
           "664": 1584,
           "665": 3178,
           "666": 4108,
           "667": 2562,
           "668": 3499,
           "669": 3645,
           "67": 423,
           "670": 2989,
           "671": 55,
           "672": 1850,
           "673": 4672,
           "674": 2615,
           "675": 4927,
           "676": 3069,
           "677": 1906,
           "678": 105,
           "679": 4,
           "68": 344,
           "680": 1651,
           "681": 1828,
           "682": 396,
           "683": 809,
           "684": 1431,
           "685": 2394,
           "686": 4685,
           "687": 4332,
           "688": 851,
           "689": 2261,
           "69": 4117,
           "690": 1500,
           "691": 2130,
           "692": 4308,
           "693": 421,
           "694": 2163,
           "695": 3354,
           "696": 3702,
           "697": 3758,
           "698": 3942,
           "699": 2242,
           "7": 2866,
           "70": 3983,
           "700": 2561,
           "701": 2465,
           "702": 4435,
           "703": 4116,
           "704": 944,
           "705": 4219,
           "706": 4311,
           "707": 1972,
           "708": 2132,
           "709": 2370,
           "71": 3941,
           "710": 1312,
           "711": 4920,
           "712": 2897,
           "713": 1275,
           "714": 340,
           "715": 444,
           "716": 292,
           "717": 53,
           "718": 1638,
           "719": 3542,
           "72": 3085,
           "720": 4935,
           "721": 1216,
           "722": 4409,
           "723": 2853,
           "724": 1252,
           "725": 3027,
           "726": 1228,
           "727": 3616,
           "728": 3913,
           "729": 775,
           "73": 48,
           "730": 2536,
           "731": 2331,
           "732": 2953,
           "733": 868,
           "734": 4808,
           "735": 4177,
           "736": 564,
           "737": 1702,
           "738": 249,
           "739": 30,
           "74": 1520,
           "740": 3842,
           "741": 1299,
           "742": 2346,
           "743": 215,
           "744": 3062,
           "745": 2978,
           "746": 1984,
           "747": 945,
           "748": 4134,
           "749": 3741,
           "75": 935,
           "750": 1408,
           "751": 1917,
           "752": 1986,
           "753": 3254,
           "754": 3648,
           "755": 3552,
           "756": 150,
           "757": 786,
           "758": 1808,
           "759": 3091,
           "76": 4641,
           "760": 3697,
           "761": 4835,
           "762": 2023,
           "763": 1005,
           "764": 876,
           "765": 2089,
           "766": 772,
           "767": 373,
           "768": 3425,
           "769": 4422,
           "77": 2941,
           "770": 4980,
           "771": 1367,
           "772": 2728,
           "773": 1556,
           "774": 4566,
           "775": 2969,
           "776": 3421,
           "777": 2535,
           "778": 290,
           "779": 756,
           "78": 1325,
           "780": 947,
           "781": 2138,
           "782": 3151,
           "783": 670,
           "784": 3037,
           "785": 3712,
           "786": 2029,
           "787": 2406,
           "788": 3264,
           "789": 1135,
           "79": 4465,
           "790": 3761,
           "791": 3633,
           "792": 3308,
           "793": 1311,
           "794": 4333,
           "795": 4575,
           "796": 2448,
           "797": 1072,
           "798": 1784,
           "799": 3787,
           "8": 336,
           "80": 3517,
           "800": 4477,
           "801": 711,
           "802": 3711,
           "803": 2534,
           "804": 2624,
           "805": 3617,
           "806": 3078,
           "807": 164,
           "808": 2805,
           "809": 3848,
           "81": 1672,
           "810": 836,
           "811": 2761,
           "812": 4633,
           "813": 4260,
           "814": 447,
           "815": 1298,
           "816": 3445,
           "817": 3039,
           "818": 3815,
           "819": 1135,
           "82": 2164,
           "820": 2706,
           "821": 3828,
           "822": 4409,
           "823": 433,
           "824": 2554,
           "825": 1348,
           "826": 1375,
           "827": 3630,
           "828": 1457,
           "829": 3332,
           "83": 3663,
           "830": 3815,
           "831": 3859,
           "832": 3923,
           "833": 4486,
           "834": 993,
           "835": 631,
           "836": 214,
           "837": 2327,
           "838": 3679,
           "839": 2238,
           "84": 2845,
           "840": 3655,
           "841": 1587,
           "842": 4501,
           "843": 1910,
           "844": 2731,
           "845": 4517,
           "846": 1238,
           "847": 1786,
           "848": 1683,
           "849": 996,
           "85": 2390,
           "850": 608,
           "851": 4650,
           "852": 1340,
           "853": 1821,
           "854": 3020,
           "855": 1243,
           "856": 540,
           "857": 2583,
           "858": 3463,
           "859": 4130,
           "86": 234,
           "860": 3918,
           "861": 4264,
           "862": 1485,
           "863": 3508,
           "864": 3433,
           "865": 3610,
           "866": 3307,
           "867": 868,
           "868": 4358,
           "869": 4552,
           "87": 3975,
           "870": 3003,
           "871": 783,
           "872": 3578,
           "873": 1952,
           "874": 860,
           "875": 3,
           "876": 1836,
           "877": 808,
           "878": 2141,
           "879": 1254,
           "88": 561,
           "880": 2864,
           "881": 4589,
           "882": 2932,
           "883": 1697,
           "884": 1411,
           "885": 3437,
           "886": 4509,
           "887": 3165,
           "888": 2538,
           "889": 245,
           "89": 4647,
           "890": 1364,
           "891": 732,
           "892": 4976,
           "893": 4176,
           "894": 2919,
           "895": 3081,
           "896": 3138,
           "897": 1180,
           "898": 4518,
           "899": 3843,
           "9": 3898,
           "90": 581,
           "900": 3604,
           "901": 4445,
           "902": 1587,
           "903": 4400,
           "904": 2891,
           "905": 1363,
           "906": 2323,
           "907": 4291,
           "908": 4938,
           "909": 913,
           "91": 1250,
           "910": 3925,
           "911": 2517,
           "912": 2070,
           "913": 4726,
           "914": 1536,
           "915": 2113,
           "916": 428,
           "917": 2336,
           "918": 2344,
           "919": 1351,
           "92": 3441,
           "920": 165,
           "921": 3411,
           "922": 615,
           "923": 1538,
           "924": 1835,
           "925": 3515,
           "926": 1657,
           "927": 2209,
           "928": 1327,
           "929": 4337,
           "93": 3211,
           "930": 398,
           "931": 1508,
           "932": 249,
           "933": 954,
           "934": 3313,
           "935": 1790,
           "936": 2864,
           "937": 1872,
           "938": 2521,
           "939": 4426,
           "94": 647,
           "940": 3100,
           "941": 4273,
           "942": 1254,
           "943": 4817,
           "944": 2330,
           "945": 244,
           "946": 1539,
           "947": 2657,
           "948": 4851,
           "949": 2341,
           "95": 3751,
           "950": 3356,
           "951": 228,
           "952": 2821,
           "953": 4380,
           "954": 2131,
           "955": 3589,
           "956": 4162,
           "957": 1013,
           "958": 2731,
           "959": 833,
           "96": 2925,
           "960": 2428,
           "961": 4555,
           "962": 4777,
           "963": 459,
           "964": 2644,
           "965": 2678,
           "966": 1129,
           "967": 1258,
           "968": 3213,
           "969": 4127,
           "97": 4646,
           "970": 1961,
           "971": 1708,
           "972": 2288,
           "973": 4570,
           "974": 2547,
           "975": 4655,
           "976": 1656,
           "977": 2761,
           "978": 773,
           "979": 1652,
           "98": 2867,
           "980": 1037,
           "981": 4505,
           "982": 3648,
           "983": 4015,
           "984": 2050,
           "985": 2390,
           "986": 3079,
           "987": 4111,
           "988": 3221,
           "989": 2461,
           "99": 4131,
           "990": 2858,
           "991": 4076,
           "992": 2163,
           "993": 3726,
           "994": 47,
           "995": 4742,
           "996": 2910,
           "997": 1180,
           "998": 1965,
           "999": 3179,
           "bdata": "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",
           "dtype": "i2",
           "shape": "1000"
          },
          "bdata": "PgvzCJwGuAMfByEA8wIyC1ABOg+KArkACwbMDhsEeQIlEIcEQRJoEBcO+hEAAWYJcgVAB4EGxwppDX4PWRAQA2QNlRAUCtsKDgk7A24KaQkpBugPaA2fEUcCKg7cARIQLQYNBdAGwAFGDVMSQhI5DuUGhg0WA3wS9xHFA4MEVgR3B7kGYQGnAVgBFRCPD2UPDQwwAPAFpwMhEn0LLQVxEb0NiAZ0CE8OHQtWCeoAhw8xAicSRQLiBHENiwyHAqcObQsmEjMLIxBvC/IM9gaSB18PhgzbCacKMAtyDvsFFBMxDm8SWQwXDrADxQrXAqgNxRBNBQwOZQJNCW8IdwDuCvABDw7YBjEO8A0JEZgEOQdxD80MJAZ0Cu0LPArkD6wAEAT2DUsOxwf7B3IDkxCqCGEAQBO+B/4BzAmkD+4BzAGIBb4S3AKoDwQTKAqvDK0DjgcqEmIRWwmYEccLaxNJCdQAvABTEa4FGQtaBm8AwgH9DPMLKQQPCpoGZgUaBBgJPhGMDwwOfgRCB4YHdQtdCZoHEArTCCwEcAtaDoIACRNgAG4A4QDzD5oKogK0A6UDYgtYD/8JCwr6DmoSwBJKBtwKfwKoB+QGxwMmCNgMzgXfAFoJ6RCRCJIOugjOAjoGqQKsAe4JmxLmAecQeguVBVELEgFGD4IA/QnvDtAPZQzZDBkR4wP7CCQS6gITCyoO6ANwAbUIUwpXCpERYQT1BaANwQsPAL8L7BFJABsSWgeaBgwKGQ98Ae4NKwdaBw0CAQTMCQoGowcZE6EE4At5EmEQEhI8ACUKBAEIBrARZwS+EZwFVhE6DDMNcA5wCSgLURB4B1QJeBBXAiQD1RFHBOgFjgWTAN0QfQyFBesCSwRJAmcCSgqIANYR0QwXBikM/A7yBdwGBgZNAAQRxQeKAwwQTQEHD48FUwJdEZAAZA03EykTrAFiBvUP5gqICbUK8hD3BzEIUAk/ENIHDgPYDz0F1Au/EswRlQvkDVULwA2PDxgSOgGsDzQJIAeMEDYIVAfyALMRvwNsCKIF6hFKEA4FnAnMDK0D3g/iELAFAQWGB1gFOwLfDmANlAVTCdoARAC9Ck4TFQc+AXgQuwtWAUwI+AOFB70OzwQ+ACwGSgB8DbgSGhGxBrEEoAERANQS3gYICosQvw5cAEgAuAlqCn0Q2RGHCjAA9gVGE3QCpwAdBcYCagBcCg8TkgXgBe4FxAIrEi0RUAU7EAkFagscAAsMIwLvALwNvw9QDQkPFQckCO0CVQytAG0LbgyACZ4BeAMiBBMIsw69A7sLYgE6EyMIMgjmB88O2AJ4DVoPdg5gCSQCXhIFC+QBNwuvEqUKMBGqCMgRHRCoAXIJ9ALyApQNIgHbA2wTXAYFBagHAwP5BsgKhAFRCYIO3weBDGINJg19AMUP/BAiAuEK7AwPAkUDcwFtAwkTYhAuDCgIjA1vDOYPMxD/AM4M1QBGC20HaBHtADMSKhODBBoRigZnCUwKtA8fEJcROARKBv8FAA9UBJ4REgR/CB8FaRABAjIFaQ6eAiACcAV/DGwQtQWSAqcBCAthCqUIfw0GDWkAfAX5A/wKvwNOB6gLMw1+E/oJ0xA0DO0ECgVqA8YGjAn5BbgHfA0yClAMYxPaDCQK6QKcAtIM5gW2BKgAFwVVBRsGlASoBkURlAtGBFoOKAFEEBUNDgtpCTgLVAXZARMTYwDsCLENnAEDEwAKrRAlBXgLiQOhEYEE4gXpDjYSfA7oBAAHkgH3BLkRzxK2DbUSXwMwBmoMDBACCqsNPQ6tCzcAOgdAEjcKPxP9C3IHaQAEAHMGJAeMASkDlwVaCU0S7BBTA9UI3AVSCNQQpQFzCBoNdg6uDmYPwggBCqEJUxEUELADexDXELQHVAhCCSAFOBNRC/sEVAG8ASQBNQBmBtYNRxPABDkRJQvkBNMLzAQgDkkPBwPoCRsJiQtkA8gSURA0AqYG+QAeAAIPEwUqCdcA9guiC8AHsQMmEJ0OgAV9B8IHtgxADuANlgASAxAHEwxxDuMS5wftA2wDKQgEA3UBYQ1GEXQTVwWoChQG1hGZC10N5wkiAfQCswNaCE8MngLdC4AO7QdmCcAMbwSxDjEO7AwfBe0Q3xGQCTAE+AbLDn0RxwJ/DuYJQAohDgYMpAD1CggPRAPJChkSpBC/ARIFdQ3fC+cObwSSCvQOORGxAfoJRAVfBS4OsQUEDecOEw9TD4YR4QN3AtYAFwlfDr4IRw4zBpURdgerCqUR1gT6BpMG5ANgAioSPAUdB8wL2wQcAhcKhw0iEE4PqBDNBbQNaQ0aDusMZAMGEcgRuwsPA/oNoAdcAwMALAcoA10I5gQwC+0RdAuhBoMFbQ2dEV0M6gn1AFQF3AJwE1AQZwsJDEIMnASmEQMPFA5dETMGMBFLC1MFEwnDEEoTkQNVD9UJFgh2EgAGQQisASAJKAlHBaUAUw1nAgIGKwe7DXkGoQgvBfEQjgHkBfkAugPxDP4GMAtQB9kJShEcDLEQ5gTREhoJ9AADBmEK8xIlCRwN5AAFCxwRUwgFDkIQ9QOrCkEDfAnLEakSywFUCnYKaQTqBI0MHxCpB6wG8AjaEfMJLxJ4BskKBQN0Bg0EmRFADq8PAghWCQcMDxCVDJ0JKgvsD3MIjg4vAIYSXgucBK0Haww=",
          "dtype": "i2"
         },
         "yaxis": "y"
        },
        {
         "hovertemplate": "<b>OLS trendline</b><br>Loyalty_Points = -0.300976 * Watch_Hours + 2520.82<br>R<sup>2</sup>=0.000871<br><br>Watch Hours=%{x}<br>Loyalty Points=%{y} <b>(trend)</b><extra></extra>",
         "legendgroup": "",
         "marker": {
          "color": "#3eb489",
          "symbol": "circle"
         },
         "mode": "lines",
         "name": "",
         "showlegend": false,
         "type": "scatter",
         "x": {
          "_inputArray": {
           "0": 10,
           "1": 10,
           "10": 13,
           "100": 53,
           "101": 54,
           "102": 54,
           "103": 55,
           "104": 55,
           "105": 55,
           "106": 56,
           "107": 57,
           "108": 58,
           "109": 59,
           "11": 13,
           "110": 61,
           "111": 61,
           "112": 62,
           "113": 62,
           "114": 63,
           "115": 63,
           "116": 64,
           "117": 64,
           "118": 65,
           "119": 65,
           "12": 14,
           "120": 68,
           "121": 69,
           "122": 69,
           "123": 70,
           "124": 70,
           "125": 71,
           "126": 71,
           "127": 73,
           "128": 73,
           "129": 74,
           "13": 14,
           "130": 74,
           "131": 75,
           "132": 75,
           "133": 75,
           "134": 75,
           "135": 76,
           "136": 76,
           "137": 77,
           "138": 78,
           "139": 81,
           "14": 14,
           "140": 81,
           "141": 81,
           "142": 81,
           "143": 82,
           "144": 82,
           "145": 82,
           "146": 83,
           "147": 84,
           "148": 85,
           "149": 85,
           "15": 15,
           "150": 85,
           "151": 87,
           "152": 87,
           "153": 87,
           "154": 87,
           "155": 88,
           "156": 88,
           "157": 88,
           "158": 88,
           "159": 88,
           "16": 15,
           "160": 89,
           "161": 89,
           "162": 90,
           "163": 91,
           "164": 91,
           "165": 91,
           "166": 91,
           "167": 92,
           "168": 93,
           "169": 96,
           "17": 16,
           "170": 96,
           "171": 97,
           "172": 97,
           "173": 97,
           "174": 98,
           "175": 99,
           "176": 99,
           "177": 100,
           "178": 100,
           "179": 100,
           "18": 16,
           "180": 100,
           "181": 101,
           "182": 101,
           "183": 102,
           "184": 102,
           "185": 102,
           "186": 102,
           "187": 103,
           "188": 103,
           "189": 103,
           "19": 17,
           "190": 104,
           "191": 105,
           "192": 105,
           "193": 106,
           "194": 106,
           "195": 108,
           "196": 108,
           "197": 109,
           "198": 109,
           "199": 110,
           "2": 10,
           "20": 17,
           "200": 112,
           "201": 112,
           "202": 113,
           "203": 113,
           "204": 114,
           "205": 115,
           "206": 115,
           "207": 115,
           "208": 116,
           "209": 118,
           "21": 18,
           "210": 119,
           "211": 119,
           "212": 119,
           "213": 119,
           "214": 120,
           "215": 120,
           "216": 120,
           "217": 120,
           "218": 121,
           "219": 122,
           "22": 19,
           "220": 123,
           "221": 123,
           "222": 123,
           "223": 123,
           "224": 124,
           "225": 125,
           "226": 127,
           "227": 127,
           "228": 128,
           "229": 129,
           "23": 19,
           "230": 129,
           "231": 129,
           "232": 129,
           "233": 129,
           "234": 130,
           "235": 131,
           "236": 131,
           "237": 131,
           "238": 131,
           "239": 132,
           "24": 20,
           "240": 132,
           "241": 133,
           "242": 133,
           "243": 134,
           "244": 134,
           "245": 135,
           "246": 135,
           "247": 136,
           "248": 136,
           "249": 136,
           "25": 21,
           "250": 136,
           "251": 137,
           "252": 138,
           "253": 138,
           "254": 139,
           "255": 139,
           "256": 139,
           "257": 139,
           "258": 139,
           "259": 140,
           "26": 22,
           "260": 140,
           "261": 141,
           "262": 141,
           "263": 144,
           "264": 144,
           "265": 145,
           "266": 145,
           "267": 146,
           "268": 147,
           "269": 147,
           "27": 23,
           "270": 147,
           "271": 148,
           "272": 148,
           "273": 150,
           "274": 152,
           "275": 152,
           "276": 153,
           "277": 154,
           "278": 154,
           "279": 154,
           "28": 23,
           "280": 155,
           "281": 155,
           "282": 157,
           "283": 157,
           "284": 157,
           "285": 158,
           "286": 158,
           "287": 158,
           "288": 159,
           "289": 159,
           "29": 23,
           "290": 160,
           "291": 160,
           "292": 160,
           "293": 161,
           "294": 161,
           "295": 161,
           "296": 162,
           "297": 162,
           "298": 163,
           "299": 163,
           "3": 11,
           "30": 23,
           "300": 163,
           "301": 163,
           "302": 163,
           "303": 164,
           "304": 164,
           "305": 164,
           "306": 164,
           "307": 164,
           "308": 164,
           "309": 165,
           "31": 23,
           "310": 165,
           "311": 166,
           "312": 166,
           "313": 166,
           "314": 166,
           "315": 166,
           "316": 167,
           "317": 167,
           "318": 168,
           "319": 168,
           "32": 24,
           "320": 168,
           "321": 168,
           "322": 168,
           "323": 169,
           "324": 170,
           "325": 171,
           "326": 171,
           "327": 171,
           "328": 172,
           "329": 173,
           "33": 24,
           "330": 173,
           "331": 173,
           "332": 174,
           "333": 174,
           "334": 175,
           "335": 175,
           "336": 176,
           "337": 176,
           "338": 176,
           "339": 177,
           "34": 25,
           "340": 178,
           "341": 178,
           "342": 178,
           "343": 178,
           "344": 179,
           "345": 180,
           "346": 180,
           "347": 180,
           "348": 180,
           "349": 181,
           "35": 25,
           "350": 181,
           "351": 182,
           "352": 182,
           "353": 183,
           "354": 183,
           "355": 183,
           "356": 183,
           "357": 184,
           "358": 185,
           "359": 186,
           "36": 25,
           "360": 187,
           "361": 187,
           "362": 187,
           "363": 187,
           "364": 188,
           "365": 190,
           "366": 190,
           "367": 191,
           "368": 191,
           "369": 192,
           "37": 26,
           "370": 192,
           "371": 192,
           "372": 192,
           "373": 192,
           "374": 193,
           "375": 193,
           "376": 195,
           "377": 195,
           "378": 196,
           "379": 196,
           "38": 26,
           "380": 197,
           "381": 197,
           "382": 197,
           "383": 197,
           "384": 198,
           "385": 198,
           "386": 198,
           "387": 200,
           "388": 200,
           "389": 200,
           "39": 27,
           "390": 200,
           "391": 201,
           "392": 202,
           "393": 202,
           "394": 203,
           "395": 203,
           "396": 203,
           "397": 203,
           "398": 203,
           "399": 204,
           "4": 11,
           "40": 28,
           "400": 204,
           "401": 204,
           "402": 205,
           "403": 205,
           "404": 206,
           "405": 207,
           "406": 207,
           "407": 207,
           "408": 208,
           "409": 208,
           "41": 28,
           "410": 208,
           "411": 209,
           "412": 210,
           "413": 210,
           "414": 211,
           "415": 212,
           "416": 212,
           "417": 214,
           "418": 214,
           "419": 214,
           "42": 29,
           "420": 215,
           "421": 216,
           "422": 216,
           "423": 217,
           "424": 217,
           "425": 217,
           "426": 217,
           "427": 219,
           "428": 219,
           "429": 220,
           "43": 29,
           "430": 221,
           "431": 221,
           "432": 221,
           "433": 221,
           "434": 222,
           "435": 222,
           "436": 223,
           "437": 223,
           "438": 224,
           "439": 225,
           "44": 29,
           "440": 225,
           "441": 227,
           "442": 227,
           "443": 227,
           "444": 231,
           "445": 231,
           "446": 231,
           "447": 233,
           "448": 233,
           "449": 233,
           "45": 29,
           "450": 233,
           "451": 234,
           "452": 235,
           "453": 235,
           "454": 235,
           "455": 236,
           "456": 236,
           "457": 237,
           "458": 238,
           "459": 238,
           "46": 30,
           "460": 238,
           "461": 239,
           "462": 240,
           "463": 240,
           "464": 241,
           "465": 241,
           "466": 241,
           "467": 242,
           "468": 242,
           "469": 243,
           "47": 30,
           "470": 243,
           "471": 245,
           "472": 245,
           "473": 246,
           "474": 246,
           "475": 247,
           "476": 247,
           "477": 247,
           "478": 247,
           "479": 247,
           "48": 30,
           "480": 248,
           "481": 248,
           "482": 248,
           "483": 248,
           "484": 249,
           "485": 250,
           "486": 250,
           "487": 250,
           "488": 250,
           "489": 251,
           "49": 30,
           "490": 251,
           "491": 252,
           "492": 252,
           "493": 253,
           "494": 253,
           "495": 253,
           "496": 254,
           "497": 254,
           "498": 256,
           "499": 256,
           "5": 11,
           "50": 30,
           "500": 256,
           "501": 257,
           "502": 258,
           "503": 259,
           "504": 259,
           "505": 259,
           "506": 262,
           "507": 263,
           "508": 263,
           "509": 263,
           "51": 32,
           "510": 264,
           "511": 264,
           "512": 264,
           "513": 266,
           "514": 267,
           "515": 267,
           "516": 267,
           "517": 268,
           "518": 270,
           "519": 270,
           "52": 32,
           "520": 272,
           "521": 272,
           "522": 272,
           "523": 272,
           "524": 273,
           "525": 273,
           "526": 274,
           "527": 274,
           "528": 275,
           "529": 276,
           "53": 32,
           "530": 276,
           "531": 277,
           "532": 277,
           "533": 277,
           "534": 278,
           "535": 278,
           "536": 278,
           "537": 279,
           "538": 279,
           "539": 280,
           "54": 32,
           "540": 280,
           "541": 280,
           "542": 280,
           "543": 281,
           "544": 281,
           "545": 281,
           "546": 281,
           "547": 281,
           "548": 282,
           "549": 283,
           "55": 33,
           "550": 283,
           "551": 283,
           "552": 285,
           "553": 285,
           "554": 285,
           "555": 285,
           "556": 285,
           "557": 286,
           "558": 286,
           "559": 286,
           "56": 33,
           "560": 286,
           "561": 287,
           "562": 287,
           "563": 287,
           "564": 289,
           "565": 289,
           "566": 290,
           "567": 290,
           "568": 291,
           "569": 292,
           "57": 33,
           "570": 292,
           "571": 292,
           "572": 293,
           "573": 293,
           "574": 294,
           "575": 294,
           "576": 294,
           "577": 295,
           "578": 295,
           "579": 296,
           "58": 33,
           "580": 297,
           "581": 297,
           "582": 297,
           "583": 298,
           "584": 298,
           "585": 298,
           "586": 298,
           "587": 299,
           "588": 299,
           "589": 299,
           "59": 34,
           "590": 300,
           "591": 300,
           "592": 301,
           "593": 301,
           "594": 301,
           "595": 301,
           "596": 301,
           "597": 302,
           "598": 302,
           "599": 302,
           "6": 11,
           "60": 34,
           "600": 302,
           "601": 302,
           "602": 302,
           "603": 303,
           "604": 304,
           "605": 304,
           "606": 304,
           "607": 305,
           "608": 306,
           "609": 306,
           "61": 34,
           "610": 306,
           "611": 307,
           "612": 307,
           "613": 307,
           "614": 308,
           "615": 308,
           "616": 308,
           "617": 308,
           "618": 309,
           "619": 309,
           "62": 35,
           "620": 309,
           "621": 309,
           "622": 311,
           "623": 311,
           "624": 311,
           "625": 312,
           "626": 312,
           "627": 312,
           "628": 313,
           "629": 315,
           "63": 35,
           "630": 315,
           "631": 315,
           "632": 315,
           "633": 316,
           "634": 316,
           "635": 317,
           "636": 318,
           "637": 318,
           "638": 318,
           "639": 319,
           "64": 36,
           "640": 321,
           "641": 321,
           "642": 321,
           "643": 321,
           "644": 322,
           "645": 322,
           "646": 322,
           "647": 325,
           "648": 325,
           "649": 326,
           "65": 37,
           "650": 326,
           "651": 327,
           "652": 327,
           "653": 328,
           "654": 328,
           "655": 328,
           "656": 329,
           "657": 329,
           "658": 330,
           "659": 331,
           "66": 38,
           "660": 331,
           "661": 331,
           "662": 331,
           "663": 331,
           "664": 332,
           "665": 335,
           "666": 335,
           "667": 335,
           "668": 336,
           "669": 336,
           "67": 39,
           "670": 336,
           "671": 336,
           "672": 337,
           "673": 337,
           "674": 338,
           "675": 338,
           "676": 339,
           "677": 341,
           "678": 341,
           "679": 342,
           "68": 39,
           "680": 343,
           "681": 343,
           "682": 344,
           "683": 344,
           "684": 344,
           "685": 345,
           "686": 345,
           "687": 345,
           "688": 346,
           "689": 347,
           "69": 39,
           "690": 347,
           "691": 348,
           "692": 348,
           "693": 348,
           "694": 348,
           "695": 348,
           "696": 349,
           "697": 349,
           "698": 350,
           "699": 351,
           "7": 12,
           "70": 40,
           "700": 351,
           "701": 352,
           "702": 352,
           "703": 352,
           "704": 352,
           "705": 352,
           "706": 353,
           "707": 354,
           "708": 354,
           "709": 355,
           "71": 40,
           "710": 356,
           "711": 356,
           "712": 357,
           "713": 358,
           "714": 358,
           "715": 358,
           "716": 358,
           "717": 358,
           "718": 358,
           "719": 359,
           "72": 42,
           "720": 359,
           "721": 359,
           "722": 360,
           "723": 360,
           "724": 361,
           "725": 361,
           "726": 361,
           "727": 362,
           "728": 362,
           "729": 362,
           "73": 42,
           "730": 362,
           "731": 364,
           "732": 365,
           "733": 365,
           "734": 365,
           "735": 366,
           "736": 366,
           "737": 366,
           "738": 366,
           "739": 367,
           "74": 43,
           "740": 368,
           "741": 368,
           "742": 369,
           "743": 370,
           "744": 371,
           "745": 371,
           "746": 373,
           "747": 373,
           "748": 373,
           "749": 373,
           "75": 43,
           "750": 374,
           "751": 375,
           "752": 375,
           "753": 375,
           "754": 376,
           "755": 376,
           "756": 378,
           "757": 379,
           "758": 379,
           "759": 379,
           "76": 43,
           "760": 379,
           "761": 380,
           "762": 380,
           "763": 380,
           "764": 380,
           "765": 381,
           "766": 381,
           "767": 381,
           "768": 382,
           "769": 383,
           "77": 44,
           "770": 383,
           "771": 384,
           "772": 384,
           "773": 385,
           "774": 385,
           "775": 386,
           "776": 386,
           "777": 386,
           "778": 386,
           "779": 388,
           "78": 44,
           "780": 388,
           "781": 388,
           "782": 389,
           "783": 389,
           "784": 389,
           "785": 390,
           "786": 390,
           "787": 390,
           "788": 391,
           "789": 391,
           "79": 44,
           "790": 391,
           "791": 392,
           "792": 393,
           "793": 393,
           "794": 394,
           "795": 395,
           "796": 395,
           "797": 396,
           "798": 396,
           "799": 396,
           "8": 12,
           "80": 44,
           "800": 397,
           "801": 399,
           "802": 399,
           "803": 401,
           "804": 404,
           "805": 404,
           "806": 405,
           "807": 405,
           "808": 406,
           "809": 406,
           "81": 44,
           "810": 408,
           "811": 408,
           "812": 408,
           "813": 409,
           "814": 410,
           "815": 410,
           "816": 410,
           "817": 410,
           "818": 411,
           "819": 411,
           "82": 45,
           "820": 411,
           "821": 412,
           "822": 412,
           "823": 413,
           "824": 413,
           "825": 413,
           "826": 414,
           "827": 415,
           "828": 415,
           "829": 415,
           "83": 46,
           "830": 415,
           "831": 416,
           "832": 416,
           "833": 416,
           "834": 416,
           "835": 417,
           "836": 417,
           "837": 417,
           "838": 417,
           "839": 418,
           "84": 47,
           "840": 418,
           "841": 419,
           "842": 419,
           "843": 419,
           "844": 420,
           "845": 420,
           "846": 420,
           "847": 421,
           "848": 422,
           "849": 423,
           "85": 48,
           "850": 423,
           "851": 424,
           "852": 424,
           "853": 424,
           "854": 425,
           "855": 425,
           "856": 426,
           "857": 426,
           "858": 426,
           "859": 427,
           "86": 48,
           "860": 427,
           "861": 427,
           "862": 427,
           "863": 429,
           "864": 429,
           "865": 432,
           "866": 432,
           "867": 433,
           "868": 433,
           "869": 435,
           "87": 48,
           "870": 436,
           "871": 436,
           "872": 437,
           "873": 438,
           "874": 438,
           "875": 439,
           "876": 439,
           "877": 439,
           "878": 440,
           "879": 441,
           "88": 48,
           "880": 442,
           "881": 443,
           "882": 444,
           "883": 444,
           "884": 445,
           "885": 445,
           "886": 446,
           "887": 446,
           "888": 446,
           "889": 447,
           "89": 49,
           "890": 447,
           "891": 447,
           "892": 447,
           "893": 447,
           "894": 448,
           "895": 449,
           "896": 449,
           "897": 449,
           "898": 449,
           "899": 450,
           "9": 12,
           "90": 50,
           "900": 451,
           "901": 451,
           "902": 451,
           "903": 451,
           "904": 452,
           "905": 452,
           "906": 452,
           "907": 453,
           "908": 453,
           "909": 453,
           "91": 50,
           "910": 453,
           "911": 454,
           "912": 454,
           "913": 455,
           "914": 455,
           "915": 455,
           "916": 456,
           "917": 456,
           "918": 456,
           "919": 457,
           "92": 50,
           "920": 459,
           "921": 459,
           "922": 459,
           "923": 460,
           "924": 460,
           "925": 461,
           "926": 462,
           "927": 463,
           "928": 463,
           "929": 464,
           "93": 52,
           "930": 465,
           "931": 466,
           "932": 466,
           "933": 466,
           "934": 467,
           "935": 467,
           "936": 468,
           "937": 468,
           "938": 469,
           "939": 469,
           "94": 52,
           "940": 469,
           "941": 469,
           "942": 470,
           "943": 471,
           "944": 472,
           "945": 473,
           "946": 474,
           "947": 474,
           "948": 474,
           "949": 475,
           "95": 53,
           "950": 475,
           "951": 477,
           "952": 477,
           "953": 477,
           "954": 478,
           "955": 478,
           "956": 478,
           "957": 478,
           "958": 478,
           "959": 479,
           "96": 53,
           "960": 479,
           "961": 479,
           "962": 479,
           "963": 479,
           "964": 480,
           "965": 480,
           "966": 480,
           "967": 480,
           "968": 482,
           "969": 482,
           "97": 53,
           "970": 482,
           "971": 483,
           "972": 483,
           "973": 483,
           "974": 484,
           "975": 484,
           "976": 484,
           "977": 485,
           "978": 486,
           "979": 486,
           "98": 53,
           "980": 486,
           "981": 487,
           "982": 487,
           "983": 490,
           "984": 490,
           "985": 491,
           "986": 491,
           "987": 491,
           "988": 492,
           "989": 493,
           "99": 53,
           "990": 494,
           "991": 495,
           "992": 495,
           "993": 495,
           "994": 496,
           "995": 496,
           "996": 498,
           "997": 499,
           "998": 500,
           "999": 500,
           "bdata": "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",
           "dtype": "i2",
           "shape": "1000"
          },
          "bdata": "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",
          "dtype": "i2"
         },
         "xaxis": "x",
         "y": {
          "_inputArray": {
           "0": 2517.8105017559888,
           "1": 2517.8105017559888,
           "10": 2516.907573091738,
           "100": 2504.86852423506,
           "101": 2504.567548013643,
           "102": 2504.567548013643,
           "103": 2504.266571792226,
           "104": 2504.266571792226,
           "105": 2504.266571792226,
           "106": 2503.965595570809,
           "107": 2503.664619349392,
           "108": 2503.363643127975,
           "109": 2503.062666906558,
           "11": 2516.907573091738,
           "110": 2502.4607144637243,
           "111": 2502.4607144637243,
           "112": 2502.1597382423074,
           "113": 2502.1597382423074,
           "114": 2501.85876202089,
           "115": 2501.85876202089,
           "116": 2501.557785799473,
           "117": 2501.557785799473,
           "118": 2501.256809578056,
           "119": 2501.256809578056,
           "12": 2516.606596870321,
           "120": 2500.3538809138054,
           "121": 2500.0529046923884,
           "122": 2500.0529046923884,
           "123": 2499.7519284709715,
           "124": 2499.7519284709715,
           "125": 2499.4509522495546,
           "126": 2499.4509522495546,
           "127": 2498.8489998067207,
           "128": 2498.8489998067207,
           "129": 2498.548023585304,
           "13": 2516.606596870321,
           "130": 2498.548023585304,
           "131": 2498.247047363887,
           "132": 2498.247047363887,
           "133": 2498.247047363887,
           "134": 2498.247047363887,
           "135": 2497.94607114247,
           "136": 2497.94607114247,
           "137": 2497.645094921053,
           "138": 2497.344118699636,
           "139": 2496.441190035385,
           "14": 2516.606596870321,
           "140": 2496.441190035385,
           "141": 2496.441190035385,
           "142": 2496.441190035385,
           "143": 2496.140213813968,
           "144": 2496.140213813968,
           "145": 2496.140213813968,
           "146": 2495.839237592551,
           "147": 2495.538261371134,
           "148": 2495.237285149717,
           "149": 2495.237285149717,
           "15": 2516.305620648904,
           "150": 2495.237285149717,
           "151": 2494.635332706883,
           "152": 2494.635332706883,
           "153": 2494.635332706883,
           "154": 2494.635332706883,
           "155": 2494.3343564854663,
           "156": 2494.3343564854663,
           "157": 2494.3343564854663,
           "158": 2494.3343564854663,
           "159": 2494.3343564854663,
           "16": 2516.305620648904,
           "160": 2494.0333802640494,
           "161": 2494.0333802640494,
           "162": 2493.7324040426324,
           "163": 2493.4314278212155,
           "164": 2493.4314278212155,
           "165": 2493.4314278212155,
           "166": 2493.4314278212155,
           "167": 2493.1304515997986,
           "168": 2492.8294753783816,
           "169": 2491.926546714131,
           "17": 2516.004644427487,
           "170": 2491.926546714131,
           "171": 2491.625570492714,
           "172": 2491.625570492714,
           "173": 2491.625570492714,
           "174": 2491.324594271297,
           "175": 2491.0236180498796,
           "176": 2491.0236180498796,
           "177": 2490.7226418284627,
           "178": 2490.7226418284627,
           "179": 2490.7226418284627,
           "18": 2516.004644427487,
           "180": 2490.7226418284627,
           "181": 2490.4216656070457,
           "182": 2490.4216656070457,
           "183": 2490.120689385629,
           "184": 2490.120689385629,
           "185": 2490.120689385629,
           "186": 2490.120689385629,
           "187": 2489.819713164212,
           "188": 2489.819713164212,
           "189": 2489.819713164212,
           "19": 2515.7036682060702,
           "190": 2489.518736942795,
           "191": 2489.217760721378,
           "192": 2489.217760721378,
           "193": 2488.916784499961,
           "194": 2488.916784499961,
           "195": 2488.314832057127,
           "196": 2488.314832057127,
           "197": 2488.0138558357103,
           "198": 2488.0138558357103,
           "199": 2487.7128796142933,
           "2": 2517.8105017559888,
           "20": 2515.7036682060702,
           "200": 2487.1109271714595,
           "201": 2487.1109271714595,
           "202": 2486.8099509500425,
           "203": 2486.8099509500425,
           "204": 2486.5089747286256,
           "205": 2486.2079985072087,
           "206": 2486.2079985072087,
           "207": 2486.2079985072087,
           "208": 2485.9070222857918,
           "209": 2485.3050698429574,
           "21": 2515.4026919846533,
           "210": 2485.0040936215405,
           "211": 2485.0040936215405,
           "212": 2485.0040936215405,
           "213": 2485.0040936215405,
           "214": 2484.7031174001236,
           "215": 2484.7031174001236,
           "216": 2484.7031174001236,
           "217": 2484.7031174001236,
           "218": 2484.4021411787066,
           "219": 2484.1011649572897,
           "22": 2515.1017157632364,
           "220": 2483.800188735873,
           "221": 2483.800188735873,
           "222": 2483.800188735873,
           "223": 2483.800188735873,
           "224": 2483.499212514456,
           "225": 2483.198236293039,
           "226": 2482.596283850205,
           "227": 2482.596283850205,
           "228": 2482.295307628788,
           "229": 2481.994331407371,
           "23": 2515.1017157632364,
           "230": 2481.994331407371,
           "231": 2481.994331407371,
           "232": 2481.994331407371,
           "233": 2481.994331407371,
           "234": 2481.6933551859543,
           "235": 2481.3923789645373,
           "236": 2481.3923789645373,
           "237": 2481.3923789645373,
           "238": 2481.3923789645373,
           "239": 2481.0914027431204,
           "24": 2514.8007395418194,
           "240": 2481.0914027431204,
           "241": 2480.7904265217035,
           "242": 2480.7904265217035,
           "243": 2480.4894503002865,
           "244": 2480.4894503002865,
           "245": 2480.188474078869,
           "246": 2480.188474078869,
           "247": 2479.887497857452,
           "248": 2479.887497857452,
           "249": 2479.887497857452,
           "25": 2514.4997633204025,
           "250": 2479.887497857452,
           "251": 2479.5865216360353,
           "252": 2479.2855454146184,
           "253": 2479.2855454146184,
           "254": 2478.9845691932014,
           "255": 2478.9845691932014,
           "256": 2478.9845691932014,
           "257": 2478.9845691932014,
           "258": 2478.9845691932014,
           "259": 2478.6835929717845,
           "26": 2514.1987870989856,
           "260": 2478.6835929717845,
           "261": 2478.3826167503676,
           "262": 2478.3826167503676,
           "263": 2477.4796880861168,
           "264": 2477.4796880861168,
           "265": 2477.1787118647,
           "266": 2477.1787118647,
           "267": 2476.877735643283,
           "268": 2476.576759421866,
           "269": 2476.576759421866,
           "27": 2513.8978108775686,
           "270": 2476.576759421866,
           "271": 2476.275783200449,
           "272": 2476.275783200449,
           "273": 2475.673830757615,
           "274": 2475.0718783147813,
           "275": 2475.0718783147813,
           "276": 2474.770902093364,
           "277": 2474.469925871947,
           "278": 2474.469925871947,
           "279": 2474.469925871947,
           "28": 2513.8978108775686,
           "280": 2474.16894965053,
           "281": 2474.16894965053,
           "282": 2473.566997207696,
           "283": 2473.566997207696,
           "284": 2473.566997207696,
           "285": 2473.2660209862793,
           "286": 2473.2660209862793,
           "287": 2473.2660209862793,
           "288": 2472.9650447648623,
           "289": 2472.9650447648623,
           "29": 2513.8978108775686,
           "290": 2472.6640685434454,
           "291": 2472.6640685434454,
           "292": 2472.6640685434454,
           "293": 2472.3630923220285,
           "294": 2472.3630923220285,
           "295": 2472.3630923220285,
           "296": 2472.0621161006115,
           "297": 2472.0621161006115,
           "298": 2471.7611398791946,
           "299": 2471.7611398791946,
           "3": 2517.509525534572,
           "30": 2513.8978108775686,
           "300": 2471.7611398791946,
           "301": 2471.7611398791946,
           "302": 2471.7611398791946,
           "303": 2471.4601636577777,
           "304": 2471.4601636577777,
           "305": 2471.4601636577777,
           "306": 2471.4601636577777,
           "307": 2471.4601636577777,
           "308": 2471.4601636577777,
           "309": 2471.1591874363608,
           "31": 2513.8978108775686,
           "310": 2471.1591874363608,
           "311": 2470.858211214944,
           "312": 2470.858211214944,
           "313": 2470.858211214944,
           "314": 2470.858211214944,
           "315": 2470.858211214944,
           "316": 2470.557234993527,
           "317": 2470.557234993527,
           "318": 2470.25625877211,
           "319": 2470.25625877211,
           "32": 2513.5968346561517,
           "320": 2470.25625877211,
           "321": 2470.25625877211,
           "322": 2470.25625877211,
           "323": 2469.955282550693,
           "324": 2469.654306329276,
           "325": 2469.3533301078587,
           "326": 2469.3533301078587,
           "327": 2469.3533301078587,
           "328": 2469.052353886442,
           "329": 2468.751377665025,
           "33": 2513.5968346561517,
           "330": 2468.751377665025,
           "331": 2468.751377665025,
           "332": 2468.450401443608,
           "333": 2468.450401443608,
           "334": 2468.149425222191,
           "335": 2468.149425222191,
           "336": 2467.848449000774,
           "337": 2467.848449000774,
           "338": 2467.848449000774,
           "339": 2467.547472779357,
           "34": 2513.295858434735,
           "340": 2467.24649655794,
           "341": 2467.24649655794,
           "342": 2467.24649655794,
           "343": 2467.24649655794,
           "344": 2466.9455203365233,
           "345": 2466.6445441151063,
           "346": 2466.6445441151063,
           "347": 2466.6445441151063,
           "348": 2466.6445441151063,
           "349": 2466.3435678936894,
           "35": 2513.295858434735,
           "350": 2466.3435678936894,
           "351": 2466.0425916722725,
           "352": 2466.0425916722725,
           "353": 2465.7416154508555,
           "354": 2465.7416154508555,
           "355": 2465.7416154508555,
           "356": 2465.7416154508555,
           "357": 2465.4406392294386,
           "358": 2465.1396630080217,
           "359": 2464.8386867866047,
           "36": 2513.295858434735,
           "360": 2464.537710565188,
           "361": 2464.537710565188,
           "362": 2464.537710565188,
           "363": 2464.537710565188,
           "364": 2464.236734343771,
           "365": 2463.6347819009366,
           "366": 2463.6347819009366,
           "367": 2463.3338056795196,
           "368": 2463.3338056795196,
           "369": 2463.0328294581027,
           "37": 2512.994882213318,
           "370": 2463.0328294581027,
           "371": 2463.0328294581027,
           "372": 2463.0328294581027,
           "373": 2463.0328294581027,
           "374": 2462.7318532366858,
           "375": 2462.7318532366858,
           "376": 2462.129900793852,
           "377": 2462.129900793852,
           "378": 2461.828924572435,
           "379": 2461.828924572435,
           "38": 2512.994882213318,
           "380": 2461.527948351018,
           "381": 2461.527948351018,
           "382": 2461.527948351018,
           "383": 2461.527948351018,
           "384": 2461.226972129601,
           "385": 2461.226972129601,
           "386": 2461.226972129601,
           "387": 2460.6250196867672,
           "388": 2460.6250196867672,
           "389": 2460.6250196867672,
           "39": 2512.6939059919005,
           "390": 2460.6250196867672,
           "391": 2460.3240434653503,
           "392": 2460.0230672439334,
           "393": 2460.0230672439334,
           "394": 2459.7220910225165,
           "395": 2459.7220910225165,
           "396": 2459.7220910225165,
           "397": 2459.7220910225165,
           "398": 2459.7220910225165,
           "399": 2459.4211148010995,
           "4": 2517.509525534572,
           "40": 2512.3929297704835,
           "400": 2459.4211148010995,
           "401": 2459.4211148010995,
           "402": 2459.1201385796826,
           "403": 2459.1201385796826,
           "404": 2458.8191623582657,
           "405": 2458.5181861368483,
           "406": 2458.5181861368483,
           "407": 2458.5181861368483,
           "408": 2458.2172099154313,
           "409": 2458.2172099154313,
           "41": 2512.3929297704835,
           "410": 2458.2172099154313,
           "411": 2457.9162336940144,
           "412": 2457.6152574725975,
           "413": 2457.6152574725975,
           "414": 2457.3142812511805,
           "415": 2457.0133050297636,
           "416": 2457.0133050297636,
           "417": 2456.4113525869298,
           "418": 2456.4113525869298,
           "419": 2456.4113525869298,
           "42": 2512.0919535490666,
           "420": 2456.110376365513,
           "421": 2455.809400144096,
           "422": 2455.809400144096,
           "423": 2455.508423922679,
           "424": 2455.508423922679,
           "425": 2455.508423922679,
           "426": 2455.508423922679,
           "427": 2454.906471479845,
           "428": 2454.906471479845,
           "429": 2454.605495258428,
           "43": 2512.0919535490666,
           "430": 2454.3045190370112,
           "431": 2454.3045190370112,
           "432": 2454.3045190370112,
           "433": 2454.3045190370112,
           "434": 2454.0035428155943,
           "435": 2454.0035428155943,
           "436": 2453.7025665941774,
           "437": 2453.7025665941774,
           "438": 2453.4015903727604,
           "439": 2453.100614151343,
           "44": 2512.0919535490666,
           "440": 2453.100614151343,
           "441": 2452.498661708509,
           "442": 2452.498661708509,
           "443": 2452.498661708509,
           "444": 2451.2947568228415,
           "445": 2451.2947568228415,
           "446": 2451.2947568228415,
           "447": 2450.6928043800076,
           "448": 2450.6928043800076,
           "449": 2450.6928043800076,
           "45": 2512.0919535490666,
           "450": 2450.6928043800076,
           "451": 2450.3918281585907,
           "452": 2450.0908519371737,
           "453": 2450.0908519371737,
           "454": 2450.0908519371737,
           "455": 2449.789875715757,
           "456": 2449.789875715757,
           "457": 2449.48889949434,
           "458": 2449.187923272923,
           "459": 2449.187923272923,
           "46": 2511.7909773276497,
           "460": 2449.187923272923,
           "461": 2448.886947051506,
           "462": 2448.585970830089,
           "463": 2448.585970830089,
           "464": 2448.284994608672,
           "465": 2448.284994608672,
           "466": 2448.284994608672,
           "467": 2447.984018387255,
           "468": 2447.984018387255,
           "469": 2447.683042165838,
           "47": 2511.7909773276497,
           "470": 2447.683042165838,
           "471": 2447.081089723004,
           "472": 2447.081089723004,
           "473": 2446.780113501587,
           "474": 2446.780113501587,
           "475": 2446.47913728017,
           "476": 2446.47913728017,
           "477": 2446.47913728017,
           "478": 2446.47913728017,
           "479": 2446.47913728017,
           "48": 2511.7909773276497,
           "480": 2446.178161058753,
           "481": 2446.178161058753,
           "482": 2446.178161058753,
           "483": 2446.178161058753,
           "484": 2445.8771848373362,
           "485": 2445.5762086159193,
           "486": 2445.5762086159193,
           "487": 2445.5762086159193,
           "488": 2445.5762086159193,
           "489": 2445.2752323945024,
           "49": 2511.7909773276497,
           "490": 2445.2752323945024,
           "491": 2444.9742561730855,
           "492": 2444.9742561730855,
           "493": 2444.6732799516685,
           "494": 2444.6732799516685,
           "495": 2444.6732799516685,
           "496": 2444.3723037302516,
           "497": 2444.3723037302516,
           "498": 2443.7703512874177,
           "499": 2443.7703512874177,
           "5": 2517.509525534572,
           "50": 2511.7909773276497,
           "500": 2443.7703512874177,
           "501": 2443.469375066001,
           "502": 2443.168398844584,
           "503": 2442.867422623167,
           "504": 2442.867422623167,
           "505": 2442.867422623167,
           "506": 2441.9644939589157,
           "507": 2441.6635177374988,
           "508": 2441.6635177374988,
           "509": 2441.6635177374988,
           "51": 2511.189024884816,
           "510": 2441.362541516082,
           "511": 2441.362541516082,
           "512": 2441.362541516082,
           "513": 2440.760589073248,
           "514": 2440.459612851831,
           "515": 2440.459612851831,
           "516": 2440.459612851831,
           "517": 2440.158636630414,
           "518": 2439.5566841875802,
           "519": 2439.5566841875802,
           "52": 2511.189024884816,
           "520": 2438.9547317447464,
           "521": 2438.9547317447464,
           "522": 2438.9547317447464,
           "523": 2438.9547317447464,
           "524": 2438.6537555233294,
           "525": 2438.6537555233294,
           "526": 2438.3527793019125,
           "527": 2438.3527793019125,
           "528": 2438.0518030804956,
           "529": 2437.7508268590786,
           "53": 2511.189024884816,
           "530": 2437.7508268590786,
           "531": 2437.4498506376617,
           "532": 2437.4498506376617,
           "533": 2437.4498506376617,
           "534": 2437.148874416245,
           "535": 2437.148874416245,
           "536": 2437.148874416245,
           "537": 2436.8478981948274,
           "538": 2436.8478981948274,
           "539": 2436.5469219734105,
           "54": 2511.189024884816,
           "540": 2436.5469219734105,
           "541": 2436.5469219734105,
           "542": 2436.5469219734105,
           "543": 2436.2459457519935,
           "544": 2436.2459457519935,
           "545": 2436.2459457519935,
           "546": 2436.2459457519935,
           "547": 2436.2459457519935,
           "548": 2435.9449695305766,
           "549": 2435.6439933091597,
           "55": 2510.888048663399,
           "550": 2435.6439933091597,
           "551": 2435.6439933091597,
           "552": 2435.042040866326,
           "553": 2435.042040866326,
           "554": 2435.042040866326,
           "555": 2435.042040866326,
           "556": 2435.042040866326,
           "557": 2434.741064644909,
           "558": 2434.741064644909,
           "559": 2434.741064644909,
           "56": 2510.888048663399,
           "560": 2434.741064644909,
           "561": 2434.440088423492,
           "562": 2434.440088423492,
           "563": 2434.440088423492,
           "564": 2433.838135980658,
           "565": 2433.838135980658,
           "566": 2433.537159759241,
           "567": 2433.537159759241,
           "568": 2433.236183537824,
           "569": 2432.9352073164073,
           "57": 2510.888048663399,
           "570": 2432.9352073164073,
           "571": 2432.9352073164073,
           "572": 2432.6342310949904,
           "573": 2432.6342310949904,
           "574": 2432.3332548735734,
           "575": 2432.3332548735734,
           "576": 2432.3332548735734,
           "577": 2432.0322786521565,
           "578": 2432.0322786521565,
           "579": 2431.7313024307396,
           "58": 2510.888048663399,
           "580": 2431.430326209322,
           "581": 2431.430326209322,
           "582": 2431.430326209322,
           "583": 2431.1293499879052,
           "584": 2431.1293499879052,
           "585": 2431.1293499879052,
           "586": 2431.1293499879052,
           "587": 2430.8283737664883,
           "588": 2430.8283737664883,
           "589": 2430.8283737664883,
           "59": 2510.587072441982,
           "590": 2430.5273975450714,
           "591": 2430.5273975450714,
           "592": 2430.2264213236544,
           "593": 2430.2264213236544,
           "594": 2430.2264213236544,
           "595": 2430.2264213236544,
           "596": 2430.2264213236544,
           "597": 2429.9254451022375,
           "598": 2429.9254451022375,
           "599": 2429.9254451022375,
           "6": 2517.509525534572,
           "60": 2510.587072441982,
           "600": 2429.9254451022375,
           "601": 2429.9254451022375,
           "602": 2429.9254451022375,
           "603": 2429.6244688808206,
           "604": 2429.3234926594037,
           "605": 2429.3234926594037,
           "606": 2429.3234926594037,
           "607": 2429.0225164379867,
           "608": 2428.72154021657,
           "609": 2428.72154021657,
           "61": 2510.587072441982,
           "610": 2428.72154021657,
           "611": 2428.420563995153,
           "612": 2428.420563995153,
           "613": 2428.420563995153,
           "614": 2428.119587773736,
           "615": 2428.119587773736,
           "616": 2428.119587773736,
           "617": 2428.119587773736,
           "618": 2427.818611552319,
           "619": 2427.818611552319,
           "62": 2510.286096220565,
           "620": 2427.818611552319,
           "621": 2427.818611552319,
           "622": 2427.216659109485,
           "623": 2427.216659109485,
           "624": 2427.216659109485,
           "625": 2426.915682888068,
           "626": 2426.915682888068,
           "627": 2426.915682888068,
           "628": 2426.6147066666513,
           "629": 2426.012754223817,
           "63": 2510.286096220565,
           "630": 2426.012754223817,
           "631": 2426.012754223817,
           "632": 2426.012754223817,
           "633": 2425.7117780024,
           "634": 2425.7117780024,
           "635": 2425.410801780983,
           "636": 2425.109825559566,
           "637": 2425.109825559566,
           "638": 2425.109825559566,
           "639": 2424.8088493381492,
           "64": 2509.985119999148,
           "640": 2424.2068968953154,
           "641": 2424.2068968953154,
           "642": 2424.2068968953154,
           "643": 2424.2068968953154,
           "644": 2423.9059206738984,
           "645": 2423.9059206738984,
           "646": 2423.9059206738984,
           "647": 2423.0029920096476,
           "648": 2423.0029920096476,
           "649": 2422.7020157882307,
           "65": 2509.684143777731,
           "650": 2422.7020157882307,
           "651": 2422.401039566814,
           "652": 2422.401039566814,
           "653": 2422.100063345397,
           "654": 2422.100063345397,
           "655": 2422.100063345397,
           "656": 2421.79908712398,
           "657": 2421.79908712398,
           "658": 2421.498110902563,
           "659": 2421.197134681146,
           "66": 2509.383167556314,
           "660": 2421.197134681146,
           "661": 2421.197134681146,
           "662": 2421.197134681146,
           "663": 2421.197134681146,
           "664": 2420.896158459729,
           "665": 2419.993229795478,
           "666": 2419.993229795478,
           "667": 2419.993229795478,
           "668": 2419.692253574061,
           "669": 2419.692253574061,
           "67": 2509.0821913348973,
           "670": 2419.692253574061,
           "671": 2419.692253574061,
           "672": 2419.391277352644,
           "673": 2419.391277352644,
           "674": 2419.090301131227,
           "675": 2419.090301131227,
           "676": 2418.78932490981,
           "677": 2418.1873724669763,
           "678": 2418.1873724669763,
           "679": 2417.8863962455594,
           "68": 2509.0821913348973,
           "680": 2417.5854200241424,
           "681": 2417.5854200241424,
           "682": 2417.2844438027255,
           "683": 2417.2844438027255,
           "684": 2417.2844438027255,
           "685": 2416.9834675813086,
           "686": 2416.9834675813086,
           "687": 2416.9834675813086,
           "688": 2416.6824913598916,
           "689": 2416.3815151384747,
           "69": 2509.0821913348973,
           "690": 2416.3815151384747,
           "691": 2416.0805389170578,
           "692": 2416.0805389170578,
           "693": 2416.0805389170578,
           "694": 2416.0805389170578,
           "695": 2416.0805389170578,
           "696": 2415.779562695641,
           "697": 2415.779562695641,
           "698": 2415.478586474224,
           "699": 2415.1776102528065,
           "7": 2517.208549313155,
           "70": 2508.7812151134804,
           "700": 2415.1776102528065,
           "701": 2414.8766340313896,
           "702": 2414.8766340313896,
           "703": 2414.8766340313896,
           "704": 2414.8766340313896,
           "705": 2414.8766340313896,
           "706": 2414.5756578099727,
           "707": 2414.2746815885557,
           "708": 2414.2746815885557,
           "709": 2413.973705367139,
           "71": 2508.7812151134804,
           "710": 2413.672729145722,
           "711": 2413.672729145722,
           "712": 2413.371752924305,
           "713": 2413.070776702888,
           "714": 2413.070776702888,
           "715": 2413.070776702888,
           "716": 2413.070776702888,
           "717": 2413.070776702888,
           "718": 2413.070776702888,
           "719": 2412.769800481471,
           "72": 2508.1792626706465,
           "720": 2412.769800481471,
           "721": 2412.769800481471,
           "722": 2412.468824260054,
           "723": 2412.468824260054,
           "724": 2412.167848038637,
           "725": 2412.167848038637,
           "726": 2412.167848038637,
           "727": 2411.8668718172203,
           "728": 2411.8668718172203,
           "729": 2411.8668718172203,
           "73": 2508.1792626706465,
           "730": 2411.8668718172203,
           "731": 2411.2649193743864,
           "732": 2410.9639431529695,
           "733": 2410.9639431529695,
           "734": 2410.9639431529695,
           "735": 2410.6629669315525,
           "736": 2410.6629669315525,
           "737": 2410.6629669315525,
           "738": 2410.6629669315525,
           "739": 2410.3619907101356,
           "74": 2507.8782864492296,
           "740": 2410.0610144887187,
           "741": 2410.0610144887187,
           "742": 2409.7600382673013,
           "743": 2409.4590620458844,
           "744": 2409.1580858244674,
           "745": 2409.1580858244674,
           "746": 2408.5561333816336,
           "747": 2408.5561333816336,
           "748": 2408.5561333816336,
           "749": 2408.5561333816336,
           "75": 2507.8782864492296,
           "750": 2408.2551571602166,
           "751": 2407.9541809387997,
           "752": 2407.9541809387997,
           "753": 2407.9541809387997,
           "754": 2407.653204717383,
           "755": 2407.653204717383,
           "756": 2407.051252274549,
           "757": 2406.750276053132,
           "758": 2406.750276053132,
           "759": 2406.750276053132,
           "76": 2507.8782864492296,
           "760": 2406.750276053132,
           "761": 2406.449299831715,
           "762": 2406.449299831715,
           "763": 2406.449299831715,
           "764": 2406.449299831715,
           "765": 2406.148323610298,
           "766": 2406.148323610298,
           "767": 2406.148323610298,
           "768": 2405.847347388881,
           "769": 2405.5463711674643,
           "77": 2507.5773102278126,
           "770": 2405.5463711674643,
           "771": 2405.2453949460473,
           "772": 2405.2453949460473,
           "773": 2404.9444187246304,
           "774": 2404.9444187246304,
           "775": 2404.643442503213,
           "776": 2404.643442503213,
           "777": 2404.643442503213,
           "778": 2404.643442503213,
           "779": 2404.041490060379,
           "78": 2507.5773102278126,
           "780": 2404.041490060379,
           "781": 2404.041490060379,
           "782": 2403.740513838962,
           "783": 2403.740513838962,
           "784": 2403.740513838962,
           "785": 2403.4395376175453,
           "786": 2403.4395376175453,
           "787": 2403.4395376175453,
           "788": 2403.1385613961284,
           "789": 2403.1385613961284,
           "79": 2507.5773102278126,
           "790": 2403.1385613961284,
           "791": 2402.8375851747114,
           "792": 2402.5366089532945,
           "793": 2402.5366089532945,
           "794": 2402.2356327318776,
           "795": 2401.9346565104606,
           "796": 2401.9346565104606,
           "797": 2401.6336802890437,
           "798": 2401.6336802890437,
           "799": 2401.6336802890437,
           "8": 2517.208549313155,
           "80": 2507.5773102278126,
           "800": 2401.3327040676268,
           "801": 2400.730751624793,
           "802": 2400.730751624793,
           "803": 2400.128799181959,
           "804": 2399.2258705177082,
           "805": 2399.2258705177082,
           "806": 2398.924894296291,
           "807": 2398.924894296291,
           "808": 2398.623918074874,
           "809": 2398.623918074874,
           "81": 2507.5773102278126,
           "810": 2398.02196563204,
           "811": 2398.02196563204,
           "812": 2398.02196563204,
           "813": 2397.720989410623,
           "814": 2397.420013189206,
           "815": 2397.420013189206,
           "816": 2397.420013189206,
           "817": 2397.420013189206,
           "818": 2397.1190369677893,
           "819": 2397.1190369677893,
           "82": 2507.2763340063952,
           "820": 2397.1190369677893,
           "821": 2396.8180607463723,
           "822": 2396.8180607463723,
           "823": 2396.5170845249554,
           "824": 2396.5170845249554,
           "825": 2396.5170845249554,
           "826": 2396.2161083035385,
           "827": 2395.9151320821215,
           "828": 2395.9151320821215,
           "829": 2395.9151320821215,
           "83": 2506.9753577849783,
           "830": 2395.9151320821215,
           "831": 2395.6141558607046,
           "832": 2395.6141558607046,
           "833": 2395.6141558607046,
           "834": 2395.6141558607046,
           "835": 2395.3131796392877,
           "836": 2395.3131796392877,
           "837": 2395.3131796392877,
           "838": 2395.3131796392877,
           "839": 2395.0122034178708,
           "84": 2506.6743815635614,
           "840": 2395.0122034178708,
           "841": 2394.711227196454,
           "842": 2394.711227196454,
           "843": 2394.711227196454,
           "844": 2394.410250975037,
           "845": 2394.410250975037,
           "846": 2394.410250975037,
           "847": 2394.10927475362,
           "848": 2393.8082985322026,
           "849": 2393.5073223107856,
           "85": 2506.3734053421445,
           "850": 2393.5073223107856,
           "851": 2393.2063460893687,
           "852": 2393.2063460893687,
           "853": 2393.2063460893687,
           "854": 2392.905369867952,
           "855": 2392.905369867952,
           "856": 2392.604393646535,
           "857": 2392.604393646535,
           "858": 2392.604393646535,
           "859": 2392.303417425118,
           "86": 2506.3734053421445,
           "860": 2392.303417425118,
           "861": 2392.303417425118,
           "862": 2392.303417425118,
           "863": 2391.701464982284,
           "864": 2391.701464982284,
           "865": 2390.7985363180333,
           "866": 2390.7985363180333,
           "867": 2390.4975600966163,
           "868": 2390.4975600966163,
           "869": 2389.8956076537825,
           "87": 2506.3734053421445,
           "870": 2389.5946314323655,
           "871": 2389.5946314323655,
           "872": 2389.2936552109486,
           "873": 2388.9926789895317,
           "874": 2388.9926789895317,
           "875": 2388.6917027681147,
           "876": 2388.6917027681147,
           "877": 2388.6917027681147,
           "878": 2388.390726546698,
           "879": 2388.0897503252804,
           "88": 2506.3734053421445,
           "880": 2387.7887741038635,
           "881": 2387.4877978824466,
           "882": 2387.1868216610296,
           "883": 2387.1868216610296,
           "884": 2386.8858454396127,
           "885": 2386.8858454396127,
           "886": 2386.5848692181958,
           "887": 2386.5848692181958,
           "888": 2386.5848692181958,
           "889": 2386.283892996779,
           "89": 2506.0724291207275,
           "890": 2386.283892996779,
           "891": 2386.283892996779,
           "892": 2386.283892996779,
           "893": 2386.283892996779,
           "894": 2385.982916775362,
           "895": 2385.681940553945,
           "896": 2385.681940553945,
           "897": 2385.681940553945,
           "898": 2385.681940553945,
           "899": 2385.380964332528,
           "9": 2517.208549313155,
           "90": 2505.7714528993106,
           "900": 2385.079988111111,
           "901": 2385.079988111111,
           "902": 2385.079988111111,
           "903": 2385.079988111111,
           "904": 2384.779011889694,
           "905": 2384.779011889694,
           "906": 2384.779011889694,
           "907": 2384.4780356682772,
           "908": 2384.4780356682772,
           "909": 2384.4780356682772,
           "91": 2505.7714528993106,
           "910": 2384.4780356682772,
           "911": 2384.1770594468603,
           "912": 2384.1770594468603,
           "913": 2383.8760832254434,
           "914": 2383.8760832254434,
           "915": 2383.8760832254434,
           "916": 2383.5751070040264,
           "917": 2383.5751070040264,
           "918": 2383.5751070040264,
           "919": 2383.2741307826095,
           "92": 2505.7714528993106,
           "920": 2382.672178339775,
           "921": 2382.672178339775,
           "922": 2382.672178339775,
           "923": 2382.3712021183583,
           "924": 2382.3712021183583,
           "925": 2382.0702258969413,
           "926": 2381.7692496755244,
           "927": 2381.4682734541075,
           "928": 2381.4682734541075,
           "929": 2381.1672972326905,
           "93": 2505.1695004564767,
           "930": 2380.8663210112736,
           "931": 2380.5653447898567,
           "932": 2380.5653447898567,
           "933": 2380.5653447898567,
           "934": 2380.2643685684397,
           "935": 2380.2643685684397,
           "936": 2379.963392347023,
           "937": 2379.963392347023,
           "938": 2379.662416125606,
           "939": 2379.662416125606,
           "94": 2505.1695004564767,
           "940": 2379.662416125606,
           "941": 2379.662416125606,
           "942": 2379.361439904189,
           "943": 2379.060463682772,
           "944": 2378.759487461355,
           "945": 2378.458511239938,
           "946": 2378.1575350185212,
           "947": 2378.1575350185212,
           "948": 2378.1575350185212,
           "949": 2377.8565587971043,
           "95": 2504.86852423506,
           "950": 2377.8565587971043,
           "951": 2377.25460635427,
           "952": 2377.25460635427,
           "953": 2377.25460635427,
           "954": 2376.953630132853,
           "955": 2376.953630132853,
           "956": 2376.953630132853,
           "957": 2376.953630132853,
           "958": 2376.953630132853,
           "959": 2376.652653911436,
           "96": 2504.86852423506,
           "960": 2376.652653911436,
           "961": 2376.652653911436,
           "962": 2376.652653911436,
           "963": 2376.652653911436,
           "964": 2376.351677690019,
           "965": 2376.351677690019,
           "966": 2376.351677690019,
           "967": 2376.351677690019,
           "968": 2375.7497252471853,
           "969": 2375.7497252471853,
           "97": 2504.86852423506,
           "970": 2375.7497252471853,
           "971": 2375.4487490257684,
           "972": 2375.4487490257684,
           "973": 2375.4487490257684,
           "974": 2375.1477728043515,
           "975": 2375.1477728043515,
           "976": 2375.1477728043515,
           "977": 2374.8467965829345,
           "978": 2374.5458203615176,
           "979": 2374.5458203615176,
           "98": 2504.86852423506,
           "980": 2374.5458203615176,
           "981": 2374.2448441401007,
           "982": 2374.2448441401007,
           "983": 2373.34191547585,
           "984": 2373.34191547585,
           "985": 2373.040939254433,
           "986": 2373.040939254433,
           "987": 2373.040939254433,
           "988": 2372.739963033016,
           "989": 2372.438986811599,
           "99": 2504.86852423506,
           "990": 2372.1380105901817,
           "991": 2371.8370343687648,
           "992": 2371.8370343687648,
           "993": 2371.8370343687648,
           "994": 2371.536058147348,
           "995": 2371.536058147348,
           "996": 2370.934105704514,
           "997": 2370.633129483097,
           "998": 2370.33215326168,
           "999": 2370.33215326168,
           "bdata": "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",
           "dtype": "f8",
           "shape": "1000"
          },
          "bdata": "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",
          "dtype": "f8"
         },
         "yaxis": "y"
        }
       ],
       "layout": {
        "height": 500,
        "legend": {
         "tracegroupgap": 0
        },
        "paper_bgcolor": "rgba(0, 0, 0, 0)",
        "plot_bgcolor": "rgba(0, 0, 0, 0)",
        "template": {
         "data": {
          "pie": [
           {
            "automargin": true,
            "type": "pie"
           }
          ],
          "scatter": [
           {
            "line": {
             "width": 3
            },
            "marker": {
             "size": 9
            },
            "type": "scatter"
           }
          ],
          "scatter3d": [
           {
            "line": {
             "width": 3
            },
            "marker": {
             "size": 9
            },
            "type": "scatter3d"
           }
          ],
          "scattergeo": [
           {
            "line": {
             "width": 3
            },
            "marker": {
             "size": 9
            },
            "type": "scattergeo"
           }
          ],
          "scattergl": [
           {
            "line": {
             "width": 3
            },
            "marker": {
             "size": 9
            },
            "type": "scattergl"
           }
          ],
          "scatterpolar": [
           {
            "line": {
             "width": 3
            },
            "marker": {
             "size": 9
            },
            "type": "scatterpolar"
           }
          ],
          "scatterpolargl": [
           {
            "line": {
             "width": 3
            },
            "marker": {
             "size": 9
            },
            "type": "scatterpolargl"
           }
          ],
          "scatterternary": [
           {
            "line": {
             "width": 3
            },
            "marker": {
             "size": 9
            },
            "type": "scatterternary"
           }
          ],
          "table": [
           {
            "cells": {
             "height": 30
            },
            "header": {
             "height": 36
            },
            "type": "table"
           }
          ]
         },
         "layout": {
          "font": {
           "size": 18
          },
          "xaxis": {
           "title": {
            "standoff": 15
           }
          },
          "yaxis": {
           "title": {
            "standoff": 15
           }
          }
         }
        },
        "title": {
         "text": "Relationship Between Watch Hours and Loyalty Points"
        },
        "width": 1000,
        "xaxis": {
         "anchor": "y",
         "autorange": true,
         "domain": [
          0,
          1
         ],
         "range": [
          -21.334340382678754,
          531.3343403826788
         ],
         "title": {
          "text": "Watch Hours"
         },
         "type": "linear"
        },
        "yaxis": {
         "anchor": "x",
         "autorange": true,
         "domain": [
          0,
          1
         ],
         "range": [
          -386.67976513098466,
          5379.679765130984
         ],
         "title": {
          "text": "Loyalty Points"
         },
         "type": "linear"
        }
       }
      }
     },
     "metadata": {},
     "output_type": "display_data"
    }
   ],
   "source": [
    "fig = px.scatter(\n",
    "    stream_df,\n",
    "    x=\"Watch_Hours\",\n",
    "    y=\"Loyalty_Points\",\n",
    "    title=\"Relationship Between Watch Hours and Loyalty Points\",\n",
    "    labels={\"Watch_Hours\": \"Watch Hours\", \"Loyalty_Points\": \"Loyalty Points\"},\n",
    "    trendline=\"ols\",  # Adds regression line\n",
    "    template=\"presentation\",\n",
    "    height=500,\n",
    "    width=1000,\n",
    "    color_discrete_sequence=['#3eb489']\n",
    ")\n",
    "\n",
    "fig.update_layout(\n",
    "    paper_bgcolor=\"rgba(0,0,0,0)\",\n",
    "    plot_bgcolor=\"rgba(0,0,0,0)\"\n",
    ")\n",
    "\n",
    "fig.show()"
   ]
  },
  {
   "cell_type": "markdown",
   "id": "71d4fb01-b5ec-44e3-b687-18712b55435d",
   "metadata": {},
   "source": [
    "# Hypothesis Testing & Inference\n",
    "In this section, we investigate deeper questions using statistical tests to move beyond patterns and assess whether differences or relationships are statistically significant.\n"
   ]
  },
  {
   "cell_type": "markdown",
   "id": "c144a6ab-7cf4-47d0-94f0-ab5cbbaeae6a",
   "metadata": {},
   "source": [
    "####  Hypothesis Testing Strategy \n",
    "\n",
    "Before performing any hypothesis tests, we first checked for **normality** using the **Shapiro-Wilk test**. This helped us determine whether to use **parametric** or **non-parametric** methods.\n",
    "\n",
    "####  Normality Check Summary\n",
    "All key numerical variables involved in our analysis (e.g., `Watch_Hours`, `Loyalty_Points`, `Average_Rating_Given`) failed the normality test (p < 0.05), both overall and within groups.\n",
    "\n",
    "#### Test Selection Based on Normality\n",
    "\n",
    "| Research Question | Final Test Used |\n",
    "|-------------------|------------------|\n",
    "| Watch Hours vs Loyalty Points | Spearman Correlation |\n",
    "| Watch Hours by Watch Time | Kruskal-Wallis Test |\n",
    "| Rating by Favorite Genre | Kruskal-Wallis Test |\n",
    "| Watch Hours by First Device | Kruskal-Wallis Test |\n",
    "| Genre Preference by Country | Chi-Square Test (categorical) |\n",
    "\n",
    "Using this approach ensured we selected the right tests based on the data distribution, making our results more valid and reliable.\n"
   ]
  },
  {
   "cell_type": "code",
   "execution_count": 92,
   "id": "1d405012-be2a-431e-a419-ca8d981ad04b",
   "metadata": {},
   "outputs": [
    {
     "name": "stdout",
     "output_type": "stream",
     "text": [
      "\n",
      " Normality Check: Watch_Hours (overall)\n",
      "Watch_Hours --> W = 0.9574, p = 0.0000\n",
      "\n",
      " Normality Check: Loyalty_Points (overall)\n",
      "Loyalty_Points --> W = 0.9553, p = 0.0000\n",
      "\n",
      " Normality Check: Watch_Hours by Primary_Watch_Time\n",
      "Primary_Watch_Time = Afternoon --> W = 0.9536, p = 0.0000\n",
      "Primary_Watch_Time = Evening --> W = 0.9651, p = 0.0000\n",
      "Primary_Watch_Time = Late Night --> W = 0.9461, p = 0.0000\n",
      "Primary_Watch_Time = Morning --> W = 0.9550, p = 0.0000\n",
      "\n",
      " Normality Check: Watch_Hours by First_Device_Used\n",
      "First_Device_Used = Desktop --> W = 0.9491, p = 0.0000\n",
      "First_Device_Used = Laptop --> W = 0.9625, p = 0.0001\n",
      "First_Device_Used = Smart TV --> W = 0.9566, p = 0.0000\n",
      "First_Device_Used = Smartphone --> W = 0.9610, p = 0.0000\n",
      "First_Device_Used = Tablet --> W = 0.9462, p = 0.0000\n"
     ]
    }
   ],
   "source": [
    "from scipy.stats import shapiro\n",
    "\n",
    "# Utility to check normality of a variable or variable by group\n",
    "def check_normality(data, value_col, group_col=None):\n",
    "    if group_col:\n",
    "        print(f\"\\n Normality Check: {value_col} by {group_col}\")\n",
    "        for group_name, group_df in data.groupby(group_col):\n",
    "            values = group_df[value_col].dropna()\n",
    "            stat, p = shapiro(values)\n",
    "            print(f\"{group_col} = {group_name} --> W = {stat:.4f}, p = {p:.4f}\")\n",
    "    else:\n",
    "        print(f\"\\n Normality Check: {value_col} (overall)\")\n",
    "        values = data[value_col].dropna()\n",
    "        stat, p = shapiro(values)\n",
    "        print(f\"{value_col} --> W = {stat:.4f}, p = {p:.4f}\")\n",
    "\n",
    "# 1. Pearson correlation test assumptions\n",
    "check_normality(stream_df, \"Watch_Hours\")\n",
    "check_normality(stream_df, \"Loyalty_Points\")\n",
    "\n",
    "# 2. ANOVA on Watch_Hours by Primary_Watch_Time\n",
    "check_normality(stream_df, \"Watch_Hours\", \"Primary_Watch_Time\")\n",
    "\n",
    "# 4. ANOVA on Watch_Hours by First_Device_Used\n",
    "check_normality(stream_df, \"Watch_Hours\", \"First_Device_Used\")\n"
   ]
  },
  {
   "cell_type": "markdown",
   "id": "b4a94c70-1626-4a9c-b29c-4e3ed91c1a67",
   "metadata": {},
   "source": [
    "###  1.Correlation Between Watch Hours and Loyalty Points (Non-Parametric)\n",
    "\n",
    "#### Research Question\n",
    "Do users who watch more hours tend to earn more loyalty points?\n",
    "#### Hypotheses\n",
    "- **H₀:** There is no monotonic relationship between watch hours and loyalty points.\n",
    "- **H₁:** There is a significant monotonic relationship between watch hours and loyalty points.\n",
    "#### Test Used\n",
    "Spearman Rank Correlation (non-parametric alternative to Pearson)\n",
    "#### Reason for Test\n",
    "Normality tests on both `Watch_Hours` and `Loyalty_Points` returned p-values < 0.05. Therefore, a non-parametric test is appropriate.\n"
   ]
  },
  {
   "cell_type": "code",
   "execution_count": 94,
   "id": "25d6c44c-6605-4c15-89fb-77b63a20829f",
   "metadata": {},
   "outputs": [
    {
     "name": "stdout",
     "output_type": "stream",
     "text": [
      "Spearman correlation coefficient (rho): -0.0295\n",
      "P-value: 0.3514\n",
      "There is no significant correlation between watch hours and loyalty points.\n"
     ]
    }
   ],
   "source": [
    "from scipy.stats import spearmanr\n",
    "\n",
    "# Spearman correlation\n",
    "rho, p = spearmanr(stream_df[\"Watch_Hours\"], stream_df[\"Loyalty_Points\"])\n",
    "\n",
    "print(f\"Spearman correlation coefficient (rho): {rho:.4f}\")\n",
    "print(f\"P-value: {p:.4f}\")\n",
    "\n",
    "if p < 0.05:\n",
    "    print(\"There is a significant correlation between watch hours and loyalty points.\")\n",
    "else:\n",
    "    print(\"There is no significant correlation between watch hours and loyalty points.\")\n"
   ]
  },
  {
   "cell_type": "markdown",
   "id": "db126cb2-b0c4-4083-901f-938c758dc7bb",
   "metadata": {},
   "source": [
    "#### Conclusion\n",
    "There is **no significant monotonic relationship** between watch hours and loyalty points.  \n",
    "- Spearman rho = -0.0295 \n",
    "- P-value = 0.3514\n",
    "\n",
    "####  Recommendation\n",
    "- Consider refining the loyalty reward logic. Watching more doesn’t guarantee more points.\n",
    "- Explore points based on content type or frequency instead of raw hours.\n"
   ]
  },
  {
   "cell_type": "markdown",
   "id": "c0ebc2b0-0649-43e6-9997-5b5ae8b7d736",
   "metadata": {},
   "source": [
    "### 2.Watch Hours by Primary Watch Time (Non-Parametric)\n",
    "\n",
    "#### Research Question\n",
    "Do users who prefer different watching times (Morning, Afternoon, Evening, Late Night) have different average watch hours?\n",
    "\n",
    "#### Hypotheses\n",
    "- **H₀:** Watch hours are equal across all watch time groups.\n",
    "- **H₁:** At least one group has different watch hour distribution.\n",
    "\n",
    "#### Test Used\n",
    "Kruskal-Wallis H-test (non-parametric ANOVA)\n",
    "\n",
    "#### Reason for Test\n",
    "All groups violated normality (p < 0.05), so Kruskal-Wallis is appropriate.\n"
   ]
  },
  {
   "cell_type": "code",
   "execution_count": 97,
   "id": "810f0c56-3e50-427d-aac5-59200df182e3",
   "metadata": {},
   "outputs": [
    {
     "name": "stdout",
     "output_type": "stream",
     "text": [
      "Kruskal-Wallis statistic: 5.1047\n",
      "P-value: 0.1643\n",
      "There is no significant difference in watch hours between watch time groups.\n"
     ]
    }
   ],
   "source": [
    "from scipy.stats import kruskal\n",
    "\n",
    "# Kruskal-Wallis for Watch_Hours by Primary_Watch_Time\n",
    "groups = [group[\"Watch_Hours\"].dropna() for _, group in stream_df.groupby(\"Primary_Watch_Time\")]\n",
    "stat, p = kruskal(*groups)\n",
    "\n",
    "print(f\"Kruskal-Wallis statistic: {stat:.4f}\")\n",
    "print(f\"P-value: {p:.4f}\")\n",
    "\n",
    "if p < 0.05:\n",
    "    print(\"There is a significant difference in watch hours between watch time groups.\")\n",
    "else:\n",
    "    print(\"There is no significant difference in watch hours between watch time groups.\")\n"
   ]
  },
  {
   "cell_type": "markdown",
   "id": "b91a5d5c-977a-4f0d-8788-815f08888c1e",
   "metadata": {},
   "source": [
    "#### Conclusion\n",
    "There is **no significant difference** in watch hours across different primary watch times.  \n",
    "- Kruskal-Wallis statistic: 5.1047 \n",
    "- P-value: 0.1643\n",
    "\n",
    "#### Recommendation\n",
    "- Viewing time preference doesn’t significantly impact how much users watch.\n",
    "- Focus on content scheduling strategies rather than changing user habits.\n"
   ]
  },
  {
   "cell_type": "markdown",
   "id": "321dc4f5-98a0-4d1b-940c-3276f875b188",
   "metadata": {},
   "source": [
    "### 3.Average Rating by Favorite Genre (Non-Parametric)\n",
    "\n",
    "#### Research Question\n",
    "Do average user ratings differ depending on their favorite genre?\n",
    "\n",
    "#### Hypotheses\n",
    "- **H₀:** There is no difference in average ratings across favorite genres.\n",
    "- **H₁:** At least one genre has a different average rating.\n",
    "\n",
    "#### Test Used\n",
    "Kruskal-Wallis H-test (non-parametric alternative to One-Way ANOVA)\n",
    "\n",
    "#### Reason for Using This Test\n",
    "Shapiro-Wilk tests showed that `Average_Rating_Given` is not normally distributed in at least one genre group (e.g., Romance, p = 0.0131), violating the normality assumption required for ANOVA.\n"
   ]
  },
  {
   "cell_type": "code",
   "execution_count": 101,
   "id": "b246eddd-0b64-4a96-97df-6dc4cc92c942",
   "metadata": {},
   "outputs": [
    {
     "name": "stdout",
     "output_type": "stream",
     "text": [
      "Kruskal-Wallis statistic: 0.9745\n",
      "P-value: 0.9866\n",
      "There is no significant difference in ratings between genres.\n"
     ]
    }
   ],
   "source": [
    "from scipy.stats import kruskal\n",
    "\n",
    "# Prepare data\n",
    "groups = [group[\"Average_Rating_Given\"].dropna() for _, group in stream_df.groupby(\"Favorite_Genre\")]\n",
    "\n",
    "# Kruskal-Wallis test\n",
    "stat, p = kruskal(*groups)\n",
    "\n",
    "print(f\"Kruskal-Wallis statistic: {stat:.4f}\")\n",
    "print(f\"P-value: {p:.4f}\")\n",
    "\n",
    "if p < 0.05:\n",
    "    print(\"There is a significant difference in ratings between genres.\")\n",
    "else:\n",
    "    print(\"There is no significant difference in ratings between genres.\")\n"
   ]
  },
  {
   "cell_type": "markdown",
   "id": "c5f77204-25db-4d4e-b320-1fed8c1a9db6",
   "metadata": {},
   "source": [
    "#### Conclusion\n",
    "There is **no significant difference** in average user ratings between genres.  \n",
    "- Kruskal-Wallis statistic: 0.9745  \n",
    "- P-value: 0.9866\n",
    "\n",
    "#### Recommendation\n",
    "- Since ratings are statistically similar across genres, prioritize content promotion based on user engagement, completion rates, or trending behavior.\n",
    "- Continue to improve quality across all genres uniformly rather than focusing on one.\n"
   ]
  },
  {
   "cell_type": "markdown",
   "id": "d811c881-e974-4ba4-988c-45cadb9194d7",
   "metadata": {},
   "source": [
    "### 4.Watch Hours by First Device Used (Non-Parametric)\n",
    "\n",
    "#### Research Question\n",
    "Do users who started on different devices (Smartphone, Smart TV, Laptop, etc.) have different average watch hours?\n",
    "\n",
    "#### Hypotheses\n",
    "- **H₀:** Watch hours are similar across all device types.\n",
    "- **H₁:** At least one device group differs in watch hours.\n",
    "\n",
    "#### Test Used\n",
    "Kruskal-Wallis H-test\n",
    "\n",
    "#### Reason for Test\n",
    "Normality tests failed for all device groups (p < 0.05), so non-parametric test is appropriate.\n"
   ]
  },
  {
   "cell_type": "code",
   "execution_count": 105,
   "id": "e2263617-5dc3-4184-b3ee-e2841d0255cd",
   "metadata": {},
   "outputs": [
    {
     "name": "stdout",
     "output_type": "stream",
     "text": [
      "Kruskal-Wallis statistic: 8.3368\n",
      "P-value: 0.0800\n",
      "There is no significant difference in watch hours across devices.\n"
     ]
    }
   ],
   "source": [
    "# Kruskal-Wallis for Watch_Hours by First_Device_Used\n",
    "groups = [group[\"Watch_Hours\"].dropna() for _, group in stream_df.groupby(\"First_Device_Used\")]\n",
    "stat, p = kruskal(*groups)\n",
    "\n",
    "print(f\"Kruskal-Wallis statistic: {stat:.4f}\")\n",
    "print(f\"P-value: {p:.4f}\")\n",
    "\n",
    "if p < 0.05:\n",
    "    print(\"There is a significant difference in watch hours across devices.\")\n",
    "else:\n",
    "    print(\"There is no significant difference in watch hours across devices.\")\n"
   ]
  },
  {
   "cell_type": "markdown",
   "id": "a2163f7d-1d9c-4e87-80d3-22f646c10221",
   "metadata": {},
   "source": [
    "#### Conclusion\n",
    "There is **no significant difference** in watch hours based on the device used to start the membership.  \n",
    "- Kruskal-Wallis statistic: 8.3368  \n",
    "- P-value: 0.0800\n",
    "\n",
    "#### Recommendation\n",
    "- Device type doesn’t impact engagement significantly.\n",
    "- Optimize experience consistently across all device types rather than tailoring for specific ones.\n"
   ]
  },
  {
   "cell_type": "markdown",
   "id": "68c1c11e-6305-4eb2-b176-265dae15fdcf",
   "metadata": {},
   "source": [
    "###  5.Genre Preference by Country\n",
    "\n",
    "#### Research Question\n",
    "Does genre preference vary based on users' country?\n",
    "\n",
    "#### Hypotheses\n",
    "- **H₀:** Genre preference is independent of country.\n",
    "- **H₁:** Genre preference depends on country.\n",
    "\n",
    "#### Test Used\n",
    "Chi-Square Test of Independence\n"
   ]
  },
  {
   "cell_type": "code",
   "execution_count": 108,
   "id": "450a75a8-b300-42c5-ba9f-3dfbedf4c010",
   "metadata": {},
   "outputs": [
    {
     "name": "stdout",
     "output_type": "stream",
     "text": [
      "Chi-square statistic: 45.0005\n",
      "P-value: 0.1445\n",
      "There is no significant relationship between country and genre preference.\n"
     ]
    }
   ],
   "source": [
    "import pandas as pd\n",
    "from scipy.stats import chi2_contingency\n",
    "\n",
    "# Create contingency table\n",
    "contingency_table = pd.crosstab(stream_df[\"Favorite_Genre\"], stream_df[\"Country\"])\n",
    "\n",
    "chi2, p_value, dof, expected = chi2_contingency(contingency_table)\n",
    "\n",
    "print(f\"Chi-square statistic: {chi2:.4f}\")\n",
    "print(f\"P-value: {p_value:.4f}\")\n",
    "\n",
    "if p_value < 0.05:\n",
    "    print(\"There is a significant relationship between country and genre preference.\")\n",
    "else:\n",
    "    print(\"There is no significant relationship between country and genre preference.\")\n"
   ]
  },
  {
   "cell_type": "markdown",
   "id": "2d3da352-cb52-4858-8a53-71b4799b1afe",
   "metadata": {},
   "source": [
    "####  Conclusion\n",
    "There is **no significant relationship** between country and genre preference.  \n",
    "- Chi-square statistic: 45.0005  \n",
    "- P-value: 0.1445 (> 0.05)\n",
    "\n",
    "####  Recommendation\n",
    "- Since genre preference does not significantly vary by country, a **uniform content strategy** can be applied across regions.\n",
    "- Focus on overall popular genres rather than country-specific tailoring."
   ]
  },
  {
   "cell_type": "markdown",
   "id": "c9e222a4-1c29-41d1-8d94-c7bdb15c7672",
   "metadata": {},
   "source": [
    "## Overall Conclusion & Recommendations\n",
    "\n",
    "###  Final Recommendations\n",
    "\n",
    "- **Loyalty System:** Since people who watch more don’t always get more loyalty points, consider giving rewards based on how often they watch or the variety of content they explore, not just how long they watch.\n",
    "- **Device Use:** Because watch time is similar across all devices, just make sure the platform works well on phones, TVs, laptops, and tablets equally.\n",
    "- **Watching Time:** The time of day people prefer to watch doesn’t affect how much they watch. Instead of changing user habits, help them find good content at any time.\n",
    "- **Genres & Ratings:** Since ratings are similar across genres, focus on promoting content that keeps users engaged, not just what gets the highest ratings.\n",
    "\n",
    "---\n",
    "\n",
    "###  Conclusion\n",
    "\n",
    "The data shows that users behave similarly across different groups — by time, device, or genre. So, future improvements should focus on **making the experience more personalized and engaging**, instead of changing when or how users watch.\n",
    "\n",
    "This project shows how using **exploratory analysis, visuals, and the right statistical tests** can help make better, data-based decisions.\n"
   ]
  }
 ],
 "metadata": {
  "kernelspec": {
   "display_name": "Python 3 (ipykernel)",
   "language": "python",
   "name": "python3"
  },
  "language_info": {
   "codemirror_mode": {
    "name": "ipython",
    "version": 3
   },
   "file_extension": ".py",
   "mimetype": "text/x-python",
   "name": "python",
   "nbconvert_exporter": "python",
   "pygments_lexer": "ipython3",
   "version": "3.12.7"
  }
 },
 "nbformat": 4,
 "nbformat_minor": 5
}
